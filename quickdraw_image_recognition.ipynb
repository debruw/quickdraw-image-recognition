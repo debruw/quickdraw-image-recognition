{
 "cells": [
  {
   "cell_type": "markdown",
   "metadata": {},
   "source": [
    "# Classification of drawings made in the game 'Quick, draw!'"
   ]
  },
  {
   "cell_type": "markdown",
   "metadata": {},
   "source": [
    "Author: David Kradolfer, June 2017\n",
    "\n",
    "In this project I will use scikit-learn and Keras to compare different machine learning algorithms to classify drawings made in the game ['Quick, draw!'](https://quickdraw.withgoogle.com/). In this game, people are told what they should draw in less than 20 seconds, while a neural network is predicting in real-time what it sees in the drawing. Once the prediction is correct, you can't finish your drawing, which might explain the rather minimalistic style of the drawings. It's not the most fun game, but certainly a great way of collecting data for machine learning. \n",
    "\n",
    "A huge dataset has been made publically available, more information is available in this [Github repository](https://github.com/googlecreativelab/quickdraw-dataset). I have used [this data](https://console.cloud.google.com/storage/browser/quickdraw_dataset/full/numpy_bitmap/?pli=1), which is already preprocessed to a uniform 28x28 pixel image size. Since the complete dataset includes over 50 million pictures and 345 categories, I will only use a small subset of it.\n"
   ]
  },
  {
   "cell_type": "code",
   "execution_count": 1,
   "metadata": {
    "collapsed": true
   },
   "outputs": [],
   "source": [
    "# Imports\n",
    "\n",
    "import numpy as np\n",
    "import pandas as pd\n",
    "\n",
    "%matplotlib inline\n",
    "import matplotlib.pyplot as plt\n",
    "\n",
    "from sklearn.ensemble import RandomForestClassifier\n",
    "from sklearn.neighbors import KNeighborsClassifier\n",
    "from sklearn.svm import SVC, LinearSVC\n",
    "from sklearn.linear_model import SGDClassifier\n",
    "from sklearn.neural_network import MLPClassifier\n",
    "\n",
    "from sklearn.metrics import accuracy_score, confusion_matrix, roc_curve, roc_auc_score\n",
    "from sklearn.model_selection import train_test_split, GridSearchCV"
   ]
  },
  {
   "cell_type": "code",
   "execution_count": 2,
   "metadata": {
    "collapsed": false
   },
   "outputs": [
    {
     "name": "stderr",
     "output_type": "stream",
     "text": [
      "Using TensorFlow backend.\n"
     ]
    }
   ],
   "source": [
    "import keras\n",
    "from keras.models import Sequential\n",
    "from keras.layers import Dense, Dropout, Flatten\n",
    "from keras.layers.convolutional import Conv2D, MaxPooling2D\n",
    "from keras.utils import np_utils\n",
    "from keras import backend as K\n",
    "K.set_image_dim_ordering('th')"
   ]
  },
  {
   "cell_type": "markdown",
   "metadata": {},
   "source": [
    "## Binary Classification"
   ]
  },
  {
   "cell_type": "markdown",
   "metadata": {},
   "source": [
    "I will start with only 2 classes, cat and sheep drawings. There data for each class consists of around 125'000 drawings (rows) and 784 pixels (columns) per drawing."
   ]
  },
  {
   "cell_type": "code",
   "execution_count": 3,
   "metadata": {
    "collapsed": false
   },
   "outputs": [
    {
     "name": "stdout",
     "output_type": "stream",
     "text": [
      "(123202, 784)\n",
      "(126121, 784)\n"
     ]
    }
   ],
   "source": [
    "# load the data\n",
    "cat = np.load('data/cat.npy')\n",
    "sheep = np.load('data/sheep.npy')\n",
    "\n",
    "print(cat.shape)\n",
    "print(sheep.shape)"
   ]
  },
  {
   "cell_type": "code",
   "execution_count": 4,
   "metadata": {
    "collapsed": true
   },
   "outputs": [],
   "source": [
    "# add a column with labels, 0=cat, 1=sheep\n",
    "cat = np.c_[cat, np.zeros(len(cat))]\n",
    "sheep = np.c_[sheep, np.ones(len(sheep))]"
   ]
  },
  {
   "cell_type": "markdown",
   "metadata": {},
   "source": [
    "Two useful functions: I wrote one to plot 28x28 pixel images from numpy arrays and will use one to plot the confusion matrix from the [scikit-learn documentation](http://scikit-learn.org/stable/auto_examples/model_selection/plot_confusion_matrix.html#sphx-glr-auto-examples-model-selection-plot-confusion-matrix-py)."
   ]
  },
  {
   "cell_type": "code",
   "execution_count": 5,
   "metadata": {
    "collapsed": true
   },
   "outputs": [],
   "source": [
    "def plot_samples(input_array, rows=4, cols=5, title=''):\n",
    "    '''\n",
    "    Function to plot 28x28 pixel drawings that are stored in a numpy array.\n",
    "    Specify how many rows and cols of pictures to display (default 4x5).  \n",
    "    If the array contains less images than subplots selected, surplus subplots remain empty.\n",
    "    '''\n",
    "    \n",
    "    fig, ax = plt.subplots(figsize=(cols,rows))\n",
    "    ax.axis('off')\n",
    "    plt.title(title)\n",
    "\n",
    "    for i in list(range(0, min(len(input_array),(rows*cols)) )):      \n",
    "        a = fig.add_subplot(rows,cols,i+1)\n",
    "        imgplot = plt.imshow(input_array[i,:784].reshape((28,28)), cmap='gray_r', interpolation='nearest')\n",
    "        plt.xticks([])\n",
    "        plt.yticks([])"
   ]
  },
  {
   "cell_type": "code",
   "execution_count": 6,
   "metadata": {
    "collapsed": true
   },
   "outputs": [],
   "source": [
    "import itertools\n",
    "\n",
    "def plot_confusion_matrix(cm, classes,\n",
    "                          normalize=False,\n",
    "                          title='Confusion matrix',\n",
    "                          cmap=plt.cm.Blues):\n",
    "    \"\"\"\n",
    "    This function prints and plots the confusion matrix.\n",
    "    Normalization can be applied by setting `normalize=True`.\n",
    "    \"\"\"\n",
    "    plt.imshow(cm, interpolation='nearest', cmap=cmap)\n",
    "    plt.title(title)\n",
    "    plt.colorbar()\n",
    "    tick_marks = np.arange(len(classes))\n",
    "    plt.xticks(tick_marks, classes, rotation=45)\n",
    "    plt.yticks(tick_marks, classes)\n",
    "\n",
    "    if normalize:\n",
    "        cm = np.round(cm.astype('float') / cm.sum(axis=1)[:, np.newaxis], 5)\n",
    "        print(\"Normalized confusion matrix\")\n",
    "    else:\n",
    "        print('Confusion matrix, without normalization')\n",
    "\n",
    "    print(cm)\n",
    "\n",
    "    thresh = cm.max() / 2.\n",
    "    for i, j in itertools.product(range(cm.shape[0]), range(cm.shape[1])):\n",
    "        plt.text(j, i, cm[i, j],\n",
    "                 horizontalalignment=\"center\",\n",
    "                 color=\"white\" if cm[i, j] > thresh else \"black\")\n",
    "\n",
    "    plt.tight_layout()\n",
    "    plt.ylabel('True label')\n",
    "    plt.xlabel('Predicted label')"
   ]
  },
  {
   "cell_type": "markdown",
   "metadata": {},
   "source": [
    "Let's take a look at some drawings. The quality and style of the drawings varies greatly, so we should expect a lower accuracy than in other tasks such as digit recognition. Also, the data set is not completely cleaned."
   ]
  },
  {
   "cell_type": "code",
   "execution_count": 7,
   "metadata": {
    "collapsed": false
   },
   "outputs": [
    {
     "data": {
      "image/png": "[encoded data removed]",
      "text/plain": [
       "<matplotlib.figure.Figure at 0x213a3219a58>"
      ]
     },
     "metadata": {},
     "output_type": "display_data"
    }
   ],
   "source": [
    "plot_samples(cat, title='Sample cat drawings\\n')"
   ]
  },
  {
   "cell_type": "code",
   "execution_count": 8,
   "metadata": {
    "collapsed": false,
    "scrolled": true
   },
   "outputs": [
    {
     "data": {
      "image/png": "[encoded data removed]",
      "text/plain": [
       "<matplotlib.figure.Figure at 0x213aa5ddf28>"
      ]
     },
     "metadata": {},
     "output_type": "display_data"
    }
   ],
   "source": [
    "plot_samples(sheep, title='Sample sheep drawings\\n')"
   ]
  },
  {
   "cell_type": "markdown",
   "metadata": {},
   "source": [
    "Create the matrices for sklearn (5'000 cat and sheep images each):"
   ]
  },
  {
   "cell_type": "code",
   "execution_count": 9,
   "metadata": {
    "collapsed": false
   },
   "outputs": [],
   "source": [
    "# merge the cat and sheep arrays, and split the features (X) and labels (y). Convert to float32 to save some memory.\n",
    "X = np.concatenate((cat[:5000,:-1], sheep[:5000,:-1]), axis=0).astype('float32') # all columns but the last\n",
    "y = np.concatenate((cat[:5000,-1], sheep[:5000,-1]), axis=0).astype('float32') # the last column\n",
    "\n",
    "# train/test split (divide by 255 to obtain values between 0 and 1)\n",
    "# I will use a 50:50 split, since I want to start by training the models on 5'000 samples and thus have plenty of samples to spare for testing.\n",
    "X_train, X_test, y_train, y_test = train_test_split(X/255.,y,test_size=0.5,random_state=0)"
   ]
  },
  {
   "cell_type": "markdown",
   "metadata": {},
   "source": [
    "## Random Forest"
   ]
  },
  {
   "cell_type": "markdown",
   "metadata": {},
   "source": [
    "I will first try out a simple random forest classifier using the default options (except for random_state for reproducibility and n_jobs=-1 to use multiple CPUs):"
   ]
  },
  {
   "cell_type": "code",
   "execution_count": 10,
   "metadata": {
    "collapsed": false
   },
   "outputs": [
    {
     "name": "stdout",
     "output_type": "stream",
     "text": [
      "RandomForestClassifier(bootstrap=True, class_weight=None, criterion='gini',\n",
      "            max_depth=None, max_features='auto', max_leaf_nodes=None,\n",
      "            min_impurity_split=1e-07, min_samples_leaf=1,\n",
      "            min_samples_split=2, min_weight_fraction_leaf=0.0,\n",
      "            n_estimators=10, n_jobs=-1, oob_score=False, random_state=0,\n",
      "            verbose=0, warm_start=False)\n",
      "Random forest accuracy:  0.8672\n",
      "Wall time: 440 ms\n"
     ]
    }
   ],
   "source": [
    "%%time\n",
    "\n",
    "clf_rf = RandomForestClassifier(n_jobs=-1, random_state=0)\n",
    "clf_rf.fit(X_train, y_train)\n",
    "print(clf_rf)\n",
    "y_pred_rf = clf_rf.predict(X_test)\n",
    "acc_rf = accuracy_score(y_test, y_pred_rf)\n",
    "print ('Random forest accuracy: ',acc_rf)"
   ]
  },
  {
   "cell_type": "markdown",
   "metadata": {},
   "source": [
    "The most important argument, n_estimators (= number of trees in the forest), is set to 10 as a default. Let's try some larger values, as that should increase accuracy:"
   ]
  },
  {
   "cell_type": "code",
   "execution_count": 11,
   "metadata": {
    "collapsed": true
   },
   "outputs": [],
   "source": [
    "parameters = {'n_estimators': [10,20,40,60,80,100,120,140,160]}"
   ]
  },
  {
   "cell_type": "code",
   "execution_count": 12,
   "metadata": {
    "collapsed": false
   },
   "outputs": [
    {
     "name": "stdout",
     "output_type": "stream",
     "text": [
      "Wall time: 25.8 s\n"
     ]
    }
   ],
   "source": [
    "%%time\n",
    "\n",
    "clf_rf = RandomForestClassifier(n_jobs=-1, random_state=0)\n",
    "rf = GridSearchCV(clf_rf, parameters, n_jobs=-1)\n",
    "rf.fit(X_train, y_train)\n",
    "\n",
    "results = pd.DataFrame(rf.cv_results_)"
   ]
  },
  {
   "cell_type": "code",
   "execution_count": 13,
   "metadata": {
    "collapsed": false
   },
   "outputs": [
    {
     "data": {
      "text/html": [
       "<div>\n",
       "<table border=\"1\" class=\"dataframe\">\n",
       "  <thead>\n",
       "    <tr style=\"text-align: right;\">\n",
       "      <th></th>\n",
       "      <th>mean_fit_time</th>\n",
       "      <th>mean_score_time</th>\n",
       "      <th>mean_test_score</th>\n",
       "      <th>mean_train_score</th>\n",
       "      <th>param_n_estimators</th>\n",
       "      <th>params</th>\n",
       "      <th>rank_test_score</th>\n",
       "      <th>split0_test_score</th>\n",
       "      <th>split0_train_score</th>\n",
       "      <th>split1_test_score</th>\n",
       "      <th>split1_train_score</th>\n",
       "      <th>split2_test_score</th>\n",
       "      <th>split2_train_score</th>\n",
       "      <th>std_fit_time</th>\n",
       "      <th>std_score_time</th>\n",
       "      <th>std_test_score</th>\n",
       "      <th>std_train_score</th>\n",
       "    </tr>\n",
       "  </thead>\n",
       "  <tbody>\n",
       "    <tr>\n",
       "      <th>7</th>\n",
       "      <td>4.447982</td>\n",
       "      <td>0.375008</td>\n",
       "      <td>0.9160</td>\n",
       "      <td>1.0000</td>\n",
       "      <td>140</td>\n",
       "      <td>{'n_estimators': 140}</td>\n",
       "      <td>1</td>\n",
       "      <td>0.915468</td>\n",
       "      <td>1.000000</td>\n",
       "      <td>0.914166</td>\n",
       "      <td>1.000000</td>\n",
       "      <td>0.918367</td>\n",
       "      <td>1.000000</td>\n",
       "      <td>0.102329</td>\n",
       "      <td>0.254840</td>\n",
       "      <td>0.001756</td>\n",
       "      <td>0.000000</td>\n",
       "    </tr>\n",
       "    <tr>\n",
       "      <th>6</th>\n",
       "      <td>3.796476</td>\n",
       "      <td>0.531260</td>\n",
       "      <td>0.9150</td>\n",
       "      <td>1.0000</td>\n",
       "      <td>120</td>\n",
       "      <td>{'n_estimators': 120}</td>\n",
       "      <td>2</td>\n",
       "      <td>0.912470</td>\n",
       "      <td>1.000000</td>\n",
       "      <td>0.917167</td>\n",
       "      <td>1.000000</td>\n",
       "      <td>0.915366</td>\n",
       "      <td>1.000000</td>\n",
       "      <td>0.210763</td>\n",
       "      <td>0.331706</td>\n",
       "      <td>0.001935</td>\n",
       "      <td>0.000000</td>\n",
       "    </tr>\n",
       "    <tr>\n",
       "      <th>8</th>\n",
       "      <td>4.724030</td>\n",
       "      <td>0.510423</td>\n",
       "      <td>0.9150</td>\n",
       "      <td>1.0000</td>\n",
       "      <td>160</td>\n",
       "      <td>{'n_estimators': 160}</td>\n",
       "      <td>2</td>\n",
       "      <td>0.914269</td>\n",
       "      <td>1.000000</td>\n",
       "      <td>0.914166</td>\n",
       "      <td>1.000000</td>\n",
       "      <td>0.916567</td>\n",
       "      <td>1.000000</td>\n",
       "      <td>0.352252</td>\n",
       "      <td>0.326347</td>\n",
       "      <td>0.001108</td>\n",
       "      <td>0.000000</td>\n",
       "    </tr>\n",
       "    <tr>\n",
       "      <th>5</th>\n",
       "      <td>2.979470</td>\n",
       "      <td>0.671882</td>\n",
       "      <td>0.9148</td>\n",
       "      <td>1.0000</td>\n",
       "      <td>100</td>\n",
       "      <td>{'n_estimators': 100}</td>\n",
       "      <td>4</td>\n",
       "      <td>0.913669</td>\n",
       "      <td>1.000000</td>\n",
       "      <td>0.914166</td>\n",
       "      <td>1.000000</td>\n",
       "      <td>0.916567</td>\n",
       "      <td>1.000000</td>\n",
       "      <td>0.242931</td>\n",
       "      <td>0.242398</td>\n",
       "      <td>0.001265</td>\n",
       "      <td>0.000000</td>\n",
       "    </tr>\n",
       "    <tr>\n",
       "      <th>4</th>\n",
       "      <td>2.776787</td>\n",
       "      <td>0.229768</td>\n",
       "      <td>0.9130</td>\n",
       "      <td>1.0000</td>\n",
       "      <td>80</td>\n",
       "      <td>{'n_estimators': 80}</td>\n",
       "      <td>5</td>\n",
       "      <td>0.913669</td>\n",
       "      <td>1.000000</td>\n",
       "      <td>0.910564</td>\n",
       "      <td>1.000000</td>\n",
       "      <td>0.914766</td>\n",
       "      <td>1.000000</td>\n",
       "      <td>0.076168</td>\n",
       "      <td>0.077154</td>\n",
       "      <td>0.001779</td>\n",
       "      <td>0.000000</td>\n",
       "    </tr>\n",
       "    <tr>\n",
       "      <th>3</th>\n",
       "      <td>1.859189</td>\n",
       "      <td>0.605114</td>\n",
       "      <td>0.9102</td>\n",
       "      <td>1.0000</td>\n",
       "      <td>60</td>\n",
       "      <td>{'n_estimators': 60}</td>\n",
       "      <td>6</td>\n",
       "      <td>0.908873</td>\n",
       "      <td>1.000000</td>\n",
       "      <td>0.909964</td>\n",
       "      <td>1.000000</td>\n",
       "      <td>0.911765</td>\n",
       "      <td>1.000000</td>\n",
       "      <td>0.304365</td>\n",
       "      <td>0.614956</td>\n",
       "      <td>0.001192</td>\n",
       "      <td>0.000000</td>\n",
       "    </tr>\n",
       "    <tr>\n",
       "      <th>2</th>\n",
       "      <td>1.147876</td>\n",
       "      <td>0.650083</td>\n",
       "      <td>0.9062</td>\n",
       "      <td>1.0000</td>\n",
       "      <td>40</td>\n",
       "      <td>{'n_estimators': 40}</td>\n",
       "      <td>7</td>\n",
       "      <td>0.904676</td>\n",
       "      <td>1.000000</td>\n",
       "      <td>0.906963</td>\n",
       "      <td>1.000000</td>\n",
       "      <td>0.906963</td>\n",
       "      <td>1.000000</td>\n",
       "      <td>0.277549</td>\n",
       "      <td>0.391239</td>\n",
       "      <td>0.001078</td>\n",
       "      <td>0.000000</td>\n",
       "    </tr>\n",
       "    <tr>\n",
       "      <th>1</th>\n",
       "      <td>0.751366</td>\n",
       "      <td>0.294448</td>\n",
       "      <td>0.8968</td>\n",
       "      <td>0.9999</td>\n",
       "      <td>20</td>\n",
       "      <td>{'n_estimators': 20}</td>\n",
       "      <td>8</td>\n",
       "      <td>0.895084</td>\n",
       "      <td>1.000000</td>\n",
       "      <td>0.891957</td>\n",
       "      <td>0.999700</td>\n",
       "      <td>0.903361</td>\n",
       "      <td>1.000000</td>\n",
       "      <td>0.120386</td>\n",
       "      <td>0.120280</td>\n",
       "      <td>0.004811</td>\n",
       "      <td>0.000141</td>\n",
       "    </tr>\n",
       "    <tr>\n",
       "      <th>0</th>\n",
       "      <td>0.219220</td>\n",
       "      <td>0.156994</td>\n",
       "      <td>0.8838</td>\n",
       "      <td>0.9963</td>\n",
       "      <td>10</td>\n",
       "      <td>{'n_estimators': 10}</td>\n",
       "      <td>9</td>\n",
       "      <td>0.881894</td>\n",
       "      <td>0.996098</td>\n",
       "      <td>0.873349</td>\n",
       "      <td>0.996401</td>\n",
       "      <td>0.896158</td>\n",
       "      <td>0.996401</td>\n",
       "      <td>0.071416</td>\n",
       "      <td>0.030650</td>\n",
       "      <td>0.009407</td>\n",
       "      <td>0.000142</td>\n",
       "    </tr>\n",
       "  </tbody>\n",
       "</table>\n",
       "</div>"
      ],
      "text/plain": [
       "   mean_fit_time  mean_score_time  mean_test_score  mean_train_score  \\\n",
       "7       4.447982         0.375008           0.9160            1.0000   \n",
       "6       3.796476         0.531260           0.9150            1.0000   \n",
       "8       4.724030         0.510423           0.9150            1.0000   \n",
       "5       2.979470         0.671882           0.9148            1.0000   \n",
       "4       2.776787         0.229768           0.9130            1.0000   \n",
       "3       1.859189         0.605114           0.9102            1.0000   \n",
       "2       1.147876         0.650083           0.9062            1.0000   \n",
       "1       0.751366         0.294448           0.8968            0.9999   \n",
       "0       0.219220         0.156994           0.8838            0.9963   \n",
       "\n",
       "  param_n_estimators                 params  rank_test_score  \\\n",
       "7                140  {'n_estimators': 140}                1   \n",
       "6                120  {'n_estimators': 120}                2   \n",
       "8                160  {'n_estimators': 160}                2   \n",
       "5                100  {'n_estimators': 100}                4   \n",
       "4                 80   {'n_estimators': 80}                5   \n",
       "3                 60   {'n_estimators': 60}                6   \n",
       "2                 40   {'n_estimators': 40}                7   \n",
       "1                 20   {'n_estimators': 20}                8   \n",
       "0                 10   {'n_estimators': 10}                9   \n",
       "\n",
       "   split0_test_score  split0_train_score  split1_test_score  \\\n",
       "7           0.915468            1.000000           0.914166   \n",
       "6           0.912470            1.000000           0.917167   \n",
       "8           0.914269            1.000000           0.914166   \n",
       "5           0.913669            1.000000           0.914166   \n",
       "4           0.913669            1.000000           0.910564   \n",
       "3           0.908873            1.000000           0.909964   \n",
       "2           0.904676            1.000000           0.906963   \n",
       "1           0.895084            1.000000           0.891957   \n",
       "0           0.881894            0.996098           0.873349   \n",
       "\n",
       "   split1_train_score  split2_test_score  split2_train_score  std_fit_time  \\\n",
       "7            1.000000           0.918367            1.000000      0.102329   \n",
       "6            1.000000           0.915366            1.000000      0.210763   \n",
       "8            1.000000           0.916567            1.000000      0.352252   \n",
       "5            1.000000           0.916567            1.000000      0.242931   \n",
       "4            1.000000           0.914766            1.000000      0.076168   \n",
       "3            1.000000           0.911765            1.000000      0.304365   \n",
       "2            1.000000           0.906963            1.000000      0.277549   \n",
       "1            0.999700           0.903361            1.000000      0.120386   \n",
       "0            0.996401           0.896158            0.996401      0.071416   \n",
       "\n",
       "   std_score_time  std_test_score  std_train_score  \n",
       "7        0.254840        0.001756         0.000000  \n",
       "6        0.331706        0.001935         0.000000  \n",
       "8        0.326347        0.001108         0.000000  \n",
       "5        0.242398        0.001265         0.000000  \n",
       "4        0.077154        0.001779         0.000000  \n",
       "3        0.614956        0.001192         0.000000  \n",
       "2        0.391239        0.001078         0.000000  \n",
       "1        0.120280        0.004811         0.000141  \n",
       "0        0.030650        0.009407         0.000142  "
      ]
     },
     "execution_count": 13,
     "metadata": {},
     "output_type": "execute_result"
    }
   ],
   "source": [
    "results.sort_values('mean_test_score', ascending = False)"
   ]
  },
  {
   "cell_type": "code",
   "execution_count": 14,
   "metadata": {
    "collapsed": false
   },
   "outputs": [
    {
     "data": {
      "image/png": "[encoded data removed]",
      "text/plain": [
       "<matplotlib.figure.Figure at 0x213aaf69630>"
      ]
     },
     "metadata": {},
     "output_type": "display_data"
    }
   ],
   "source": [
    "results.plot('param_n_estimators','mean_test_score');"
   ]
  },
  {
   "cell_type": "markdown",
   "metadata": {
    "collapsed": false
   },
   "source": [
    "The accuracy plateaus after about 100 trees, I will therefore use this parameter from here on.\n",
    "\n",
    "We can also try to optimize the option 'max_features', which is the number of features to consider when looking for the best split. But as shown below, there are hardly any differences in the test scores (and the results are inconsistent, depending on the random state). I will therefore just keep the 'auto' option. "
   ]
  },
  {
   "cell_type": "code",
   "execution_count": 15,
   "metadata": {
    "collapsed": false
   },
   "outputs": [
    {
     "data": {
      "text/html": [
       "<div>\n",
       "<table border=\"1\" class=\"dataframe\">\n",
       "  <thead>\n",
       "    <tr style=\"text-align: right;\">\n",
       "      <th></th>\n",
       "      <th>mean_fit_time</th>\n",
       "      <th>mean_score_time</th>\n",
       "      <th>mean_test_score</th>\n",
       "      <th>mean_train_score</th>\n",
       "      <th>param_max_features</th>\n",
       "      <th>params</th>\n",
       "      <th>rank_test_score</th>\n",
       "      <th>split0_test_score</th>\n",
       "      <th>split0_train_score</th>\n",
       "      <th>split1_test_score</th>\n",
       "      <th>split1_train_score</th>\n",
       "      <th>split2_test_score</th>\n",
       "      <th>split2_train_score</th>\n",
       "      <th>std_fit_time</th>\n",
       "      <th>std_score_time</th>\n",
       "      <th>std_test_score</th>\n",
       "      <th>std_train_score</th>\n",
       "    </tr>\n",
       "  </thead>\n",
       "  <tbody>\n",
       "    <tr>\n",
       "      <th>1</th>\n",
       "      <td>2.171569</td>\n",
       "      <td>0.850547</td>\n",
       "      <td>0.9168</td>\n",
       "      <td>1.0</td>\n",
       "      <td>15</td>\n",
       "      <td>{'max_features': 15}</td>\n",
       "      <td>1</td>\n",
       "      <td>0.913070</td>\n",
       "      <td>1.0</td>\n",
       "      <td>0.920768</td>\n",
       "      <td>1.0</td>\n",
       "      <td>0.916567</td>\n",
       "      <td>1.0</td>\n",
       "      <td>0.256557</td>\n",
       "      <td>0.210139</td>\n",
       "      <td>0.003148</td>\n",
       "      <td>0.0</td>\n",
       "    </tr>\n",
       "    <tr>\n",
       "      <th>0</th>\n",
       "      <td>2.860953</td>\n",
       "      <td>0.565878</td>\n",
       "      <td>0.9148</td>\n",
       "      <td>1.0</td>\n",
       "      <td>auto</td>\n",
       "      <td>{'max_features': 'auto'}</td>\n",
       "      <td>2</td>\n",
       "      <td>0.913669</td>\n",
       "      <td>1.0</td>\n",
       "      <td>0.914166</td>\n",
       "      <td>1.0</td>\n",
       "      <td>0.916567</td>\n",
       "      <td>1.0</td>\n",
       "      <td>0.686137</td>\n",
       "      <td>0.580566</td>\n",
       "      <td>0.001265</td>\n",
       "      <td>0.0</td>\n",
       "    </tr>\n",
       "    <tr>\n",
       "      <th>2</th>\n",
       "      <td>3.067822</td>\n",
       "      <td>0.882040</td>\n",
       "      <td>0.9148</td>\n",
       "      <td>1.0</td>\n",
       "      <td>28</td>\n",
       "      <td>{'max_features': 28}</td>\n",
       "      <td>2</td>\n",
       "      <td>0.913669</td>\n",
       "      <td>1.0</td>\n",
       "      <td>0.914166</td>\n",
       "      <td>1.0</td>\n",
       "      <td>0.916567</td>\n",
       "      <td>1.0</td>\n",
       "      <td>0.557978</td>\n",
       "      <td>0.319956</td>\n",
       "      <td>0.001265</td>\n",
       "      <td>0.0</td>\n",
       "    </tr>\n",
       "    <tr>\n",
       "      <th>3</th>\n",
       "      <td>4.939714</td>\n",
       "      <td>0.385422</td>\n",
       "      <td>0.9134</td>\n",
       "      <td>1.0</td>\n",
       "      <td>50</td>\n",
       "      <td>{'max_features': 50}</td>\n",
       "      <td>4</td>\n",
       "      <td>0.907674</td>\n",
       "      <td>1.0</td>\n",
       "      <td>0.912965</td>\n",
       "      <td>1.0</td>\n",
       "      <td>0.919568</td>\n",
       "      <td>1.0</td>\n",
       "      <td>0.352807</td>\n",
       "      <td>0.268927</td>\n",
       "      <td>0.004866</td>\n",
       "      <td>0.0</td>\n",
       "    </tr>\n",
       "  </tbody>\n",
       "</table>\n",
       "</div>"
      ],
      "text/plain": [
       "   mean_fit_time  mean_score_time  mean_test_score  mean_train_score  \\\n",
       "1       2.171569         0.850547           0.9168               1.0   \n",
       "0       2.860953         0.565878           0.9148               1.0   \n",
       "2       3.067822         0.882040           0.9148               1.0   \n",
       "3       4.939714         0.385422           0.9134               1.0   \n",
       "\n",
       "  param_max_features                    params  rank_test_score  \\\n",
       "1                 15      {'max_features': 15}                1   \n",
       "0               auto  {'max_features': 'auto'}                2   \n",
       "2                 28      {'max_features': 28}                2   \n",
       "3                 50      {'max_features': 50}                4   \n",
       "\n",
       "   split0_test_score  split0_train_score  split1_test_score  \\\n",
       "1           0.913070                 1.0           0.920768   \n",
       "0           0.913669                 1.0           0.914166   \n",
       "2           0.913669                 1.0           0.914166   \n",
       "3           0.907674                 1.0           0.912965   \n",
       "\n",
       "   split1_train_score  split2_test_score  split2_train_score  std_fit_time  \\\n",
       "1                 1.0           0.916567                 1.0      0.256557   \n",
       "0                 1.0           0.916567                 1.0      0.686137   \n",
       "2                 1.0           0.916567                 1.0      0.557978   \n",
       "3                 1.0           0.919568                 1.0      0.352807   \n",
       "\n",
       "   std_score_time  std_test_score  std_train_score  \n",
       "1        0.210139        0.003148              0.0  \n",
       "0        0.580566        0.001265              0.0  \n",
       "2        0.319956        0.001265              0.0  \n",
       "3        0.268927        0.004866              0.0  "
      ]
     },
     "execution_count": 15,
     "metadata": {},
     "output_type": "execute_result"
    }
   ],
   "source": [
    "parameters = {'max_features' : ['auto', 15, 28, 50] } # 28 = sqrt(784), which is suggested in the documentation as a good value\n",
    "\n",
    "clf_rf = RandomForestClassifier(n_estimators= 100, n_jobs=-1, random_state=0)\n",
    "rf = GridSearchCV(clf_rf, parameters, n_jobs=-1)\n",
    "rf.fit(X_train, y_train)\n",
    "\n",
    "results = pd.DataFrame(rf.cv_results_)\n",
    "results.sort_values('mean_test_score', ascending = False)"
   ]
  },
  {
   "cell_type": "markdown",
   "metadata": {},
   "source": [
    "Let's run the random forest again with the selected options:"
   ]
  },
  {
   "cell_type": "code",
   "execution_count": 16,
   "metadata": {
    "collapsed": false
   },
   "outputs": [
    {
     "name": "stdout",
     "output_type": "stream",
     "text": [
      "Random forest accuracy:  0.9044\n",
      "Wall time: 1.56 s\n"
     ]
    }
   ],
   "source": [
    "%%time\n",
    "\n",
    "clf_rf = RandomForestClassifier(n_estimators=100, n_jobs=-1, random_state=0)\n",
    "clf_rf.fit(X_train, y_train)\n",
    "y_pred_rf = clf_rf.predict(X_test)\n",
    "acc_rf = accuracy_score(y_test, y_pred_rf)\n",
    "print ('Random forest accuracy: ',acc_rf)"
   ]
  },
  {
   "cell_type": "markdown",
   "metadata": {},
   "source": [
    "We can visualize the model to see which pixels had the highest importance:"
   ]
  },
  {
   "cell_type": "code",
   "execution_count": 17,
   "metadata": {
    "collapsed": false,
    "scrolled": true
   },
   "outputs": [
    {
     "data": {
      "image/png": "[encoded data removed]",
      "text/plain": [
       "<matplotlib.figure.Figure at 0x213aa76f780>"
      ]
     },
     "metadata": {},
     "output_type": "display_data"
    }
   ],
   "source": [
    "importances = clf_rf.feature_importances_\n",
    "importances = importances.reshape((28,28))\n",
    "plt.matshow(importances, cmap=plt.cm.hot);\n",
    "plt.title('Pixel importances\\n');"
   ]
  },
  {
   "cell_type": "markdown",
   "metadata": {
    "collapsed": true
   },
   "source": [
    "As could be expected, corners have a very low importance, as they are mostly blank. The left, right, middle and bottom part of the picture are most important. Looking at the pictures of cats and sheeps, it seems that the middle is mostly blank in sheeps, but not in cats. So pixels there probably indicate a cat image. The other 'hot' areas are less clear to me after a quick inspection of the images."
   ]
  },
  {
   "cell_type": "markdown",
   "metadata": {},
   "source": [
    "## K-Nearest Neighbors (KNN)"
   ]
  },
  {
   "cell_type": "markdown",
   "metadata": {},
   "source": [
    "Next, I will try out a KNN classifier:"
   ]
  },
  {
   "cell_type": "code",
   "execution_count": 18,
   "metadata": {
    "collapsed": false
   },
   "outputs": [
    {
     "name": "stdout",
     "output_type": "stream",
     "text": [
      "KNeighborsClassifier(algorithm='auto', leaf_size=30, metric='minkowski',\n",
      "           metric_params=None, n_jobs=-1, n_neighbors=5, p=2,\n",
      "           weights='uniform')\n",
      "KNN accuracy:  0.9218\n",
      "Wall time: 14.4 s\n"
     ]
    }
   ],
   "source": [
    "%%time \n",
    "\n",
    "clf_knn = KNeighborsClassifier(n_jobs=-1)\n",
    "clf_knn.fit(X_train, y_train)\n",
    "print(clf_knn)\n",
    "y_pred_knn = clf_knn.predict(X_test)\n",
    "acc_knn = accuracy_score(y_test, y_pred_knn)\n",
    "print ('KNN accuracy: ',acc_knn)"
   ]
  },
  {
   "cell_type": "markdown",
   "metadata": {},
   "source": [
    "The KNN classifier looks promising, let's test out different values of K:"
   ]
  },
  {
   "cell_type": "code",
   "execution_count": 19,
   "metadata": {
    "collapsed": false
   },
   "outputs": [
    {
     "name": "stdout",
     "output_type": "stream",
     "text": [
      "Wall time: 2min 6s\n"
     ]
    }
   ],
   "source": [
    "%%time\n",
    "\n",
    "parameters = {'n_neighbors': [1,3,5,7,9]}\n",
    "\n",
    "clf_knn = KNeighborsClassifier(n_jobs=-1)\n",
    "knn = GridSearchCV(clf_knn, parameters, n_jobs=-1)\n",
    "knn.fit(X_train, y_train)\n",
    "\n",
    "results_knn = pd.DataFrame(knn.cv_results_)"
   ]
  },
  {
   "cell_type": "code",
   "execution_count": 20,
   "metadata": {
    "collapsed": false
   },
   "outputs": [
    {
     "data": {
      "text/html": [
       "<div>\n",
       "<table border=\"1\" class=\"dataframe\">\n",
       "  <thead>\n",
       "    <tr style=\"text-align: right;\">\n",
       "      <th></th>\n",
       "      <th>mean_fit_time</th>\n",
       "      <th>mean_score_time</th>\n",
       "      <th>mean_test_score</th>\n",
       "      <th>mean_train_score</th>\n",
       "      <th>param_n_neighbors</th>\n",
       "      <th>params</th>\n",
       "      <th>rank_test_score</th>\n",
       "      <th>split0_test_score</th>\n",
       "      <th>split0_train_score</th>\n",
       "      <th>split1_test_score</th>\n",
       "      <th>split1_train_score</th>\n",
       "      <th>split2_test_score</th>\n",
       "      <th>split2_train_score</th>\n",
       "      <th>std_fit_time</th>\n",
       "      <th>std_score_time</th>\n",
       "      <th>std_test_score</th>\n",
       "      <th>std_train_score</th>\n",
       "    </tr>\n",
       "  </thead>\n",
       "  <tbody>\n",
       "    <tr>\n",
       "      <th>2</th>\n",
       "      <td>1.026882</td>\n",
       "      <td>11.224287</td>\n",
       "      <td>0.9216</td>\n",
       "      <td>0.9444</td>\n",
       "      <td>5</td>\n",
       "      <td>{'n_neighbors': 5}</td>\n",
       "      <td>1</td>\n",
       "      <td>0.921463</td>\n",
       "      <td>0.944778</td>\n",
       "      <td>0.920768</td>\n",
       "      <td>0.943611</td>\n",
       "      <td>0.922569</td>\n",
       "      <td>0.944811</td>\n",
       "      <td>0.317530</td>\n",
       "      <td>0.672768</td>\n",
       "      <td>0.000741</td>\n",
       "      <td>0.000558</td>\n",
       "    </tr>\n",
       "    <tr>\n",
       "      <th>3</th>\n",
       "      <td>0.854179</td>\n",
       "      <td>11.294744</td>\n",
       "      <td>0.9210</td>\n",
       "      <td>0.9375</td>\n",
       "      <td>7</td>\n",
       "      <td>{'n_neighbors': 7}</td>\n",
       "      <td>2</td>\n",
       "      <td>0.917866</td>\n",
       "      <td>0.937275</td>\n",
       "      <td>0.922569</td>\n",
       "      <td>0.938812</td>\n",
       "      <td>0.922569</td>\n",
       "      <td>0.936413</td>\n",
       "      <td>0.213987</td>\n",
       "      <td>0.271776</td>\n",
       "      <td>0.002218</td>\n",
       "      <td>0.000992</td>\n",
       "    </tr>\n",
       "    <tr>\n",
       "      <th>4</th>\n",
       "      <td>0.916679</td>\n",
       "      <td>9.458474</td>\n",
       "      <td>0.9200</td>\n",
       "      <td>0.9333</td>\n",
       "      <td>9</td>\n",
       "      <td>{'n_neighbors': 9}</td>\n",
       "      <td>3</td>\n",
       "      <td>0.919664</td>\n",
       "      <td>0.931573</td>\n",
       "      <td>0.925570</td>\n",
       "      <td>0.934013</td>\n",
       "      <td>0.914766</td>\n",
       "      <td>0.934313</td>\n",
       "      <td>0.205055</td>\n",
       "      <td>0.076901</td>\n",
       "      <td>0.004416</td>\n",
       "      <td>0.001227</td>\n",
       "    </tr>\n",
       "    <tr>\n",
       "      <th>1</th>\n",
       "      <td>0.609385</td>\n",
       "      <td>11.018163</td>\n",
       "      <td>0.9188</td>\n",
       "      <td>0.9543</td>\n",
       "      <td>3</td>\n",
       "      <td>{'n_neighbors': 3}</td>\n",
       "      <td>4</td>\n",
       "      <td>0.916067</td>\n",
       "      <td>0.952881</td>\n",
       "      <td>0.919568</td>\n",
       "      <td>0.955909</td>\n",
       "      <td>0.920768</td>\n",
       "      <td>0.954109</td>\n",
       "      <td>0.067509</td>\n",
       "      <td>0.517941</td>\n",
       "      <td>0.001995</td>\n",
       "      <td>0.001243</td>\n",
       "    </tr>\n",
       "    <tr>\n",
       "      <th>0</th>\n",
       "      <td>0.442717</td>\n",
       "      <td>10.651199</td>\n",
       "      <td>0.9098</td>\n",
       "      <td>1.0000</td>\n",
       "      <td>1</td>\n",
       "      <td>{'n_neighbors': 1}</td>\n",
       "      <td>5</td>\n",
       "      <td>0.911871</td>\n",
       "      <td>1.000000</td>\n",
       "      <td>0.904562</td>\n",
       "      <td>1.000000</td>\n",
       "      <td>0.912965</td>\n",
       "      <td>1.000000</td>\n",
       "      <td>0.102329</td>\n",
       "      <td>0.681365</td>\n",
       "      <td>0.003730</td>\n",
       "      <td>0.000000</td>\n",
       "    </tr>\n",
       "  </tbody>\n",
       "</table>\n",
       "</div>"
      ],
      "text/plain": [
       "   mean_fit_time  mean_score_time  mean_test_score  mean_train_score  \\\n",
       "2       1.026882        11.224287           0.9216            0.9444   \n",
       "3       0.854179        11.294744           0.9210            0.9375   \n",
       "4       0.916679         9.458474           0.9200            0.9333   \n",
       "1       0.609385        11.018163           0.9188            0.9543   \n",
       "0       0.442717        10.651199           0.9098            1.0000   \n",
       "\n",
       "  param_n_neighbors              params  rank_test_score  split0_test_score  \\\n",
       "2                 5  {'n_neighbors': 5}                1           0.921463   \n",
       "3                 7  {'n_neighbors': 7}                2           0.917866   \n",
       "4                 9  {'n_neighbors': 9}                3           0.919664   \n",
       "1                 3  {'n_neighbors': 3}                4           0.916067   \n",
       "0                 1  {'n_neighbors': 1}                5           0.911871   \n",
       "\n",
       "   split0_train_score  split1_test_score  split1_train_score  \\\n",
       "2            0.944778           0.920768            0.943611   \n",
       "3            0.937275           0.922569            0.938812   \n",
       "4            0.931573           0.925570            0.934013   \n",
       "1            0.952881           0.919568            0.955909   \n",
       "0            1.000000           0.904562            1.000000   \n",
       "\n",
       "   split2_test_score  split2_train_score  std_fit_time  std_score_time  \\\n",
       "2           0.922569            0.944811      0.317530        0.672768   \n",
       "3           0.922569            0.936413      0.213987        0.271776   \n",
       "4           0.914766            0.934313      0.205055        0.076901   \n",
       "1           0.920768            0.954109      0.067509        0.517941   \n",
       "0           0.912965            1.000000      0.102329        0.681365   \n",
       "\n",
       "   std_test_score  std_train_score  \n",
       "2        0.000741         0.000558  \n",
       "3        0.002218         0.000992  \n",
       "4        0.004416         0.001227  \n",
       "1        0.001995         0.001243  \n",
       "0        0.003730         0.000000  "
      ]
     },
     "execution_count": 20,
     "metadata": {},
     "output_type": "execute_result"
    }
   ],
   "source": [
    "results_knn.sort_values('mean_test_score', ascending = False)"
   ]
  },
  {
   "cell_type": "code",
   "execution_count": 21,
   "metadata": {
    "collapsed": false
   },
   "outputs": [
    {
     "data": {
      "image/png": "[encoded data removed]",
      "text/plain": [
       "<matplotlib.figure.Figure at 0x213aafd7c88>"
      ]
     },
     "metadata": {},
     "output_type": "display_data"
    }
   ],
   "source": [
    "results_knn.plot('param_n_neighbors','mean_test_score');"
   ]
  },
  {
   "cell_type": "markdown",
   "metadata": {},
   "source": [
    "The default option of k=5 seems to be optimal.\n",
    "The KNN classifier is quite a bit more accurate than the random forest, but it also takes much longer (particularly the classification of new examples)."
   ]
  },
  {
   "cell_type": "markdown",
   "metadata": {},
   "source": [
    "## Support Vector Machines (SVMs)"
   ]
  },
  {
   "cell_type": "markdown",
   "metadata": {},
   "source": [
    "There are different implementations of SVMs in scikit-learn, I will try out three of them, the first two are linear SVMs, the third is a non linear:"
   ]
  },
  {
   "cell_type": "code",
   "execution_count": 22,
   "metadata": {
    "collapsed": false
   },
   "outputs": [
    {
     "name": "stdout",
     "output_type": "stream",
     "text": [
      "SGDClassifier(alpha=0.0001, average=False, class_weight=None, epsilon=0.1,\n",
      "       eta0=0.0, fit_intercept=True, l1_ratio=0.15,\n",
      "       learning_rate='optimal', loss='hinge', n_iter=5, n_jobs=1,\n",
      "       penalty='l2', power_t=0.5, random_state=0, shuffle=True, verbose=0,\n",
      "       warm_start=False)\n",
      "SVM stochastic gradient descent accuracy:  0.8356\n",
      "Wall time: 88.9 ms\n"
     ]
    }
   ],
   "source": [
    "%%time\n",
    "\n",
    "clf_sgd = SGDClassifier(loss='hinge', random_state=0) # loss='hinge' results in a linear SVM\n",
    "clf_sgd.fit(X_train, y_train)\n",
    "print(clf_sgd)\n",
    "y_pred_sgd = clf_sgd.predict(X_test)\n",
    "acc_sgd = accuracy_score(y_test, y_pred_sgd)\n",
    "print ('SVM stochastic gradient descent accuracy: ',acc_sgd)"
   ]
  },
  {
   "cell_type": "code",
   "execution_count": 23,
   "metadata": {
    "collapsed": false
   },
   "outputs": [
    {
     "name": "stdout",
     "output_type": "stream",
     "text": [
      "LinearSVC(C=1.0, class_weight=None, dual=True, fit_intercept=True,\n",
      "     intercept_scaling=1, loss='squared_hinge', max_iter=1000,\n",
      "     multi_class='ovr', penalty='l2', random_state=0, tol=0.0001,\n",
      "     verbose=0)\n",
      "Linear SVM accuracy:  0.8488\n",
      "Wall time: 2.13 s\n"
     ]
    }
   ],
   "source": [
    "%%time\n",
    "\n",
    "clf_svm = LinearSVC(random_state=0)\n",
    "clf_svm.fit(X_train, y_train)\n",
    "print(clf_svm)\n",
    "y_pred_svm = clf_svm.predict(X_test)\n",
    "acc_svm = accuracy_score(y_test, y_pred_svm)\n",
    "print ('Linear SVM accuracy: ',acc_svm)"
   ]
  },
  {
   "cell_type": "code",
   "execution_count": 24,
   "metadata": {
    "collapsed": false
   },
   "outputs": [
    {
     "name": "stdout",
     "output_type": "stream",
     "text": [
      "SVC(C=1.0, cache_size=200, class_weight=None, coef0=0.0,\n",
      "  decision_function_shape=None, degree=3, gamma='auto', kernel='rbf',\n",
      "  max_iter=-1, probability=False, random_state=0, shrinking=True,\n",
      "  tol=0.001, verbose=False)\n",
      "RBF SVM accuracy:  0.8768\n",
      "Wall time: 18.7 s\n"
     ]
    }
   ],
   "source": [
    "%%time\n",
    "\n",
    "clf_svm = SVC(kernel='rbf', random_state=0) # using the Gaussian radial basis function\n",
    "clf_svm.fit(X_train, y_train)\n",
    "print(clf_svm)\n",
    "y_pred_svm = clf_svm.predict(X_test)\n",
    "acc_svm = accuracy_score(y_test, y_pred_svm)\n",
    "print ('RBF SVM accuracy: ',acc_svm)"
   ]
  },
  {
   "cell_type": "markdown",
   "metadata": {},
   "source": [
    "The SVMs seem not very promising. There are of course many parameters that could be optimized, but I will focus on other methods here."
   ]
  },
  {
   "cell_type": "markdown",
   "metadata": {
    "collapsed": true
   },
   "source": [
    "##  Multi-Layer Perceptron (MLP)"
   ]
  },
  {
   "cell_type": "markdown",
   "metadata": {},
   "source": [
    "Let's try out a simple neural network in scikit-learn:"
   ]
  },
  {
   "cell_type": "code",
   "execution_count": 25,
   "metadata": {
    "collapsed": false
   },
   "outputs": [
    {
     "name": "stdout",
     "output_type": "stream",
     "text": [
      "MLPClassifier(activation='relu', alpha=0.0001, batch_size='auto', beta_1=0.9,\n",
      "       beta_2=0.999, early_stopping=False, epsilon=1e-08,\n",
      "       hidden_layer_sizes=(100,), learning_rate='constant',\n",
      "       learning_rate_init=0.001, max_iter=200, momentum=0.9,\n",
      "       nesterovs_momentum=True, power_t=0.5, random_state=0, shuffle=True,\n",
      "       solver='adam', tol=0.0001, validation_fraction=0.1, verbose=False,\n",
      "       warm_start=False)\n",
      "mlp accuracy:  0.9196\n",
      "Wall time: 10.1 s\n"
     ]
    }
   ],
   "source": [
    "%%time\n",
    "\n",
    "clf_mlp = MLPClassifier(random_state=0)\n",
    "clf_mlp.fit(X_train, y_train)\n",
    "print(clf_mlp)\n",
    "y_pred_mlp = clf_mlp.predict(X_test)\n",
    "acc_mlp = accuracy_score(y_test, y_pred_mlp)\n",
    "print ('mlp accuracy: ',acc_mlp)"
   ]
  },
  {
   "cell_type": "markdown",
   "metadata": {},
   "source": [
    "Compare different hidden_layer_sizes:"
   ]
  },
  {
   "cell_type": "code",
   "execution_count": 26,
   "metadata": {
    "collapsed": false
   },
   "outputs": [
    {
     "data": {
      "text/html": [
       "<div>\n",
       "<table border=\"1\" class=\"dataframe\">\n",
       "  <thead>\n",
       "    <tr style=\"text-align: right;\">\n",
       "      <th></th>\n",
       "      <th>mean_fit_time</th>\n",
       "      <th>mean_score_time</th>\n",
       "      <th>mean_test_score</th>\n",
       "      <th>mean_train_score</th>\n",
       "      <th>param_hidden_layer_sizes</th>\n",
       "      <th>params</th>\n",
       "      <th>rank_test_score</th>\n",
       "      <th>split0_test_score</th>\n",
       "      <th>split0_train_score</th>\n",
       "      <th>split1_test_score</th>\n",
       "      <th>split1_train_score</th>\n",
       "      <th>split2_test_score</th>\n",
       "      <th>split2_train_score</th>\n",
       "      <th>std_fit_time</th>\n",
       "      <th>std_score_time</th>\n",
       "      <th>std_test_score</th>\n",
       "      <th>std_train_score</th>\n",
       "    </tr>\n",
       "  </thead>\n",
       "  <tbody>\n",
       "    <tr>\n",
       "      <th>2</th>\n",
       "      <td>84.443437</td>\n",
       "      <td>0.125001</td>\n",
       "      <td>0.9316</td>\n",
       "      <td>1.0</td>\n",
       "      <td>(784,)</td>\n",
       "      <td>{'hidden_layer_sizes': (784,)}</td>\n",
       "      <td>1</td>\n",
       "      <td>0.921463</td>\n",
       "      <td>1.0</td>\n",
       "      <td>0.933974</td>\n",
       "      <td>1.0</td>\n",
       "      <td>0.939376</td>\n",
       "      <td>1.0</td>\n",
       "      <td>5.695825</td>\n",
       "      <td>2.973602e-07</td>\n",
       "      <td>0.007504</td>\n",
       "      <td>0.0</td>\n",
       "    </tr>\n",
       "    <tr>\n",
       "      <th>5</th>\n",
       "      <td>68.197884</td>\n",
       "      <td>0.234379</td>\n",
       "      <td>0.9312</td>\n",
       "      <td>1.0</td>\n",
       "      <td>(784, 784)</td>\n",
       "      <td>{'hidden_layer_sizes': (784, 784)}</td>\n",
       "      <td>2</td>\n",
       "      <td>0.923861</td>\n",
       "      <td>1.0</td>\n",
       "      <td>0.935174</td>\n",
       "      <td>1.0</td>\n",
       "      <td>0.934574</td>\n",
       "      <td>1.0</td>\n",
       "      <td>2.114042</td>\n",
       "      <td>1.275688e-02</td>\n",
       "      <td>0.005198</td>\n",
       "      <td>0.0</td>\n",
       "    </tr>\n",
       "    <tr>\n",
       "      <th>1</th>\n",
       "      <td>24.661083</td>\n",
       "      <td>0.036383</td>\n",
       "      <td>0.9248</td>\n",
       "      <td>1.0</td>\n",
       "      <td>(100,)</td>\n",
       "      <td>{'hidden_layer_sizes': (100,)}</td>\n",
       "      <td>3</td>\n",
       "      <td>0.915468</td>\n",
       "      <td>1.0</td>\n",
       "      <td>0.930972</td>\n",
       "      <td>1.0</td>\n",
       "      <td>0.927971</td>\n",
       "      <td>1.0</td>\n",
       "      <td>1.814210</td>\n",
       "      <td>7.418953e-03</td>\n",
       "      <td>0.006716</td>\n",
       "      <td>0.0</td>\n",
       "    </tr>\n",
       "    <tr>\n",
       "      <th>4</th>\n",
       "      <td>12.432924</td>\n",
       "      <td>0.040385</td>\n",
       "      <td>0.9224</td>\n",
       "      <td>1.0</td>\n",
       "      <td>(100, 100)</td>\n",
       "      <td>{'hidden_layer_sizes': (100, 100)}</td>\n",
       "      <td>4</td>\n",
       "      <td>0.915468</td>\n",
       "      <td>1.0</td>\n",
       "      <td>0.927371</td>\n",
       "      <td>1.0</td>\n",
       "      <td>0.924370</td>\n",
       "      <td>1.0</td>\n",
       "      <td>0.398543</td>\n",
       "      <td>6.646391e-03</td>\n",
       "      <td>0.005056</td>\n",
       "      <td>0.0</td>\n",
       "    </tr>\n",
       "    <tr>\n",
       "      <th>3</th>\n",
       "      <td>12.352112</td>\n",
       "      <td>0.031252</td>\n",
       "      <td>0.9196</td>\n",
       "      <td>1.0</td>\n",
       "      <td>(50, 50)</td>\n",
       "      <td>{'hidden_layer_sizes': (50, 50)}</td>\n",
       "      <td>5</td>\n",
       "      <td>0.917866</td>\n",
       "      <td>1.0</td>\n",
       "      <td>0.916567</td>\n",
       "      <td>1.0</td>\n",
       "      <td>0.924370</td>\n",
       "      <td>1.0</td>\n",
       "      <td>0.614647</td>\n",
       "      <td>1.697076e-06</td>\n",
       "      <td>0.003413</td>\n",
       "      <td>0.0</td>\n",
       "    </tr>\n",
       "    <tr>\n",
       "      <th>0</th>\n",
       "      <td>18.844031</td>\n",
       "      <td>0.026041</td>\n",
       "      <td>0.9186</td>\n",
       "      <td>1.0</td>\n",
       "      <td>(50,)</td>\n",
       "      <td>{'hidden_layer_sizes': (50,)}</td>\n",
       "      <td>6</td>\n",
       "      <td>0.914269</td>\n",
       "      <td>1.0</td>\n",
       "      <td>0.923770</td>\n",
       "      <td>1.0</td>\n",
       "      <td>0.917767</td>\n",
       "      <td>1.0</td>\n",
       "      <td>0.506314</td>\n",
       "      <td>7.365920e-03</td>\n",
       "      <td>0.003924</td>\n",
       "      <td>0.0</td>\n",
       "    </tr>\n",
       "    <tr>\n",
       "      <th>7</th>\n",
       "      <td>8.246917</td>\n",
       "      <td>0.031251</td>\n",
       "      <td>0.9180</td>\n",
       "      <td>1.0</td>\n",
       "      <td>(100, 100, 100)</td>\n",
       "      <td>{'hidden_layer_sizes': (100, 100, 100)}</td>\n",
       "      <td>7</td>\n",
       "      <td>0.914868</td>\n",
       "      <td>1.0</td>\n",
       "      <td>0.920768</td>\n",
       "      <td>1.0</td>\n",
       "      <td>0.918367</td>\n",
       "      <td>1.0</td>\n",
       "      <td>1.679368</td>\n",
       "      <td>5.947204e-07</td>\n",
       "      <td>0.002423</td>\n",
       "      <td>0.0</td>\n",
       "    </tr>\n",
       "    <tr>\n",
       "      <th>6</th>\n",
       "      <td>11.781441</td>\n",
       "      <td>0.036458</td>\n",
       "      <td>0.9158</td>\n",
       "      <td>1.0</td>\n",
       "      <td>(50, 50, 50)</td>\n",
       "      <td>{'hidden_layer_sizes': (50, 50, 50)}</td>\n",
       "      <td>8</td>\n",
       "      <td>0.911871</td>\n",
       "      <td>1.0</td>\n",
       "      <td>0.916567</td>\n",
       "      <td>1.0</td>\n",
       "      <td>0.918968</td>\n",
       "      <td>1.0</td>\n",
       "      <td>0.361459</td>\n",
       "      <td>7.365358e-03</td>\n",
       "      <td>0.002948</td>\n",
       "      <td>0.0</td>\n",
       "    </tr>\n",
       "  </tbody>\n",
       "</table>\n",
       "</div>"
      ],
      "text/plain": [
       "   mean_fit_time  mean_score_time  mean_test_score  mean_train_score  \\\n",
       "2      84.443437         0.125001           0.9316               1.0   \n",
       "5      68.197884         0.234379           0.9312               1.0   \n",
       "1      24.661083         0.036383           0.9248               1.0   \n",
       "4      12.432924         0.040385           0.9224               1.0   \n",
       "3      12.352112         0.031252           0.9196               1.0   \n",
       "0      18.844031         0.026041           0.9186               1.0   \n",
       "7       8.246917         0.031251           0.9180               1.0   \n",
       "6      11.781441         0.036458           0.9158               1.0   \n",
       "\n",
       "  param_hidden_layer_sizes                                   params  \\\n",
       "2                   (784,)           {'hidden_layer_sizes': (784,)}   \n",
       "5               (784, 784)       {'hidden_layer_sizes': (784, 784)}   \n",
       "1                   (100,)           {'hidden_layer_sizes': (100,)}   \n",
       "4               (100, 100)       {'hidden_layer_sizes': (100, 100)}   \n",
       "3                 (50, 50)         {'hidden_layer_sizes': (50, 50)}   \n",
       "0                    (50,)            {'hidden_layer_sizes': (50,)}   \n",
       "7          (100, 100, 100)  {'hidden_layer_sizes': (100, 100, 100)}   \n",
       "6             (50, 50, 50)     {'hidden_layer_sizes': (50, 50, 50)}   \n",
       "\n",
       "   rank_test_score  split0_test_score  split0_train_score  split1_test_score  \\\n",
       "2                1           0.921463                 1.0           0.933974   \n",
       "5                2           0.923861                 1.0           0.935174   \n",
       "1                3           0.915468                 1.0           0.930972   \n",
       "4                4           0.915468                 1.0           0.927371   \n",
       "3                5           0.917866                 1.0           0.916567   \n",
       "0                6           0.914269                 1.0           0.923770   \n",
       "7                7           0.914868                 1.0           0.920768   \n",
       "6                8           0.911871                 1.0           0.916567   \n",
       "\n",
       "   split1_train_score  split2_test_score  split2_train_score  std_fit_time  \\\n",
       "2                 1.0           0.939376                 1.0      5.695825   \n",
       "5                 1.0           0.934574                 1.0      2.114042   \n",
       "1                 1.0           0.927971                 1.0      1.814210   \n",
       "4                 1.0           0.924370                 1.0      0.398543   \n",
       "3                 1.0           0.924370                 1.0      0.614647   \n",
       "0                 1.0           0.917767                 1.0      0.506314   \n",
       "7                 1.0           0.918367                 1.0      1.679368   \n",
       "6                 1.0           0.918968                 1.0      0.361459   \n",
       "\n",
       "   std_score_time  std_test_score  std_train_score  \n",
       "2    2.973602e-07        0.007504              0.0  \n",
       "5    1.275688e-02        0.005198              0.0  \n",
       "1    7.418953e-03        0.006716              0.0  \n",
       "4    6.646391e-03        0.005056              0.0  \n",
       "3    1.697076e-06        0.003413              0.0  \n",
       "0    7.365920e-03        0.003924              0.0  \n",
       "7    5.947204e-07        0.002423              0.0  \n",
       "6    7.365358e-03        0.002948              0.0  "
      ]
     },
     "execution_count": 26,
     "metadata": {},
     "output_type": "execute_result"
    }
   ],
   "source": [
    "parameters = {'hidden_layer_sizes' : [(50,), (100,), (784,), (50,50), (100,100), (784,784), (50,50,50), (100,100,100)] }\n",
    "\n",
    "clf_mlp = MLPClassifier(random_state=0)\n",
    "mlp = GridSearchCV(clf_mlp, parameters, n_jobs=-1)\n",
    "mlp.fit(X_train, y_train)\n",
    "\n",
    "results=pd.DataFrame(mlp.cv_results_)\n",
    "results.sort_values('mean_test_score', ascending = False)"
   ]
  },
  {
   "cell_type": "markdown",
   "metadata": {},
   "source": [
    "The larger neural nets with one or two layers of 784 (= number of input pixels) have clearly the highest accuracy. However, they also take a very long training time. I will therefore continue with the (100, 100) size, which is much faster and still has quite a high accuracy.\n",
    "\n",
    "I will test as well different learning rates alpha:"
   ]
  },
  {
   "cell_type": "code",
   "execution_count": 27,
   "metadata": {
    "collapsed": false
   },
   "outputs": [
    {
     "data": {
      "text/html": [
       "<div>\n",
       "<table border=\"1\" class=\"dataframe\">\n",
       "  <thead>\n",
       "    <tr style=\"text-align: right;\">\n",
       "      <th></th>\n",
       "      <th>mean_fit_time</th>\n",
       "      <th>mean_score_time</th>\n",
       "      <th>mean_test_score</th>\n",
       "      <th>mean_train_score</th>\n",
       "      <th>param_alpha</th>\n",
       "      <th>params</th>\n",
       "      <th>rank_test_score</th>\n",
       "      <th>split0_test_score</th>\n",
       "      <th>split0_train_score</th>\n",
       "      <th>split1_test_score</th>\n",
       "      <th>split1_train_score</th>\n",
       "      <th>split2_test_score</th>\n",
       "      <th>split2_train_score</th>\n",
       "      <th>std_fit_time</th>\n",
       "      <th>std_score_time</th>\n",
       "      <th>std_test_score</th>\n",
       "      <th>std_train_score</th>\n",
       "    </tr>\n",
       "  </thead>\n",
       "  <tbody>\n",
       "    <tr>\n",
       "      <th>2</th>\n",
       "      <td>10.133306</td>\n",
       "      <td>0.033177</td>\n",
       "      <td>0.9238</td>\n",
       "      <td>1.0</td>\n",
       "      <td>0.001</td>\n",
       "      <td>{'alpha': 0.001}</td>\n",
       "      <td>1</td>\n",
       "      <td>0.918465</td>\n",
       "      <td>1.0</td>\n",
       "      <td>0.929172</td>\n",
       "      <td>1.0</td>\n",
       "      <td>0.923770</td>\n",
       "      <td>1.0</td>\n",
       "      <td>0.303330</td>\n",
       "      <td>0.002724</td>\n",
       "      <td>0.004371</td>\n",
       "      <td>0.0</td>\n",
       "    </tr>\n",
       "    <tr>\n",
       "      <th>5</th>\n",
       "      <td>9.302874</td>\n",
       "      <td>0.026041</td>\n",
       "      <td>0.9234</td>\n",
       "      <td>1.0</td>\n",
       "      <td>1e-06</td>\n",
       "      <td>{'alpha': 1e-06}</td>\n",
       "      <td>2</td>\n",
       "      <td>0.918465</td>\n",
       "      <td>1.0</td>\n",
       "      <td>0.927371</td>\n",
       "      <td>1.0</td>\n",
       "      <td>0.924370</td>\n",
       "      <td>1.0</td>\n",
       "      <td>0.400349</td>\n",
       "      <td>0.007366</td>\n",
       "      <td>0.003700</td>\n",
       "      <td>0.0</td>\n",
       "    </tr>\n",
       "    <tr>\n",
       "      <th>3</th>\n",
       "      <td>10.218442</td>\n",
       "      <td>0.038717</td>\n",
       "      <td>0.9224</td>\n",
       "      <td>1.0</td>\n",
       "      <td>0.0001</td>\n",
       "      <td>{'alpha': 0.0001}</td>\n",
       "      <td>3</td>\n",
       "      <td>0.915468</td>\n",
       "      <td>1.0</td>\n",
       "      <td>0.927371</td>\n",
       "      <td>1.0</td>\n",
       "      <td>0.924370</td>\n",
       "      <td>1.0</td>\n",
       "      <td>0.287409</td>\n",
       "      <td>0.006400</td>\n",
       "      <td>0.005056</td>\n",
       "      <td>0.0</td>\n",
       "    </tr>\n",
       "    <tr>\n",
       "      <th>4</th>\n",
       "      <td>10.216297</td>\n",
       "      <td>0.041666</td>\n",
       "      <td>0.9220</td>\n",
       "      <td>1.0</td>\n",
       "      <td>1e-05</td>\n",
       "      <td>{'alpha': 1e-05}</td>\n",
       "      <td>4</td>\n",
       "      <td>0.917866</td>\n",
       "      <td>1.0</td>\n",
       "      <td>0.926771</td>\n",
       "      <td>1.0</td>\n",
       "      <td>0.921369</td>\n",
       "      <td>1.0</td>\n",
       "      <td>0.335123</td>\n",
       "      <td>0.007362</td>\n",
       "      <td>0.003663</td>\n",
       "      <td>0.0</td>\n",
       "    </tr>\n",
       "    <tr>\n",
       "      <th>1</th>\n",
       "      <td>11.272396</td>\n",
       "      <td>0.032842</td>\n",
       "      <td>0.9216</td>\n",
       "      <td>1.0</td>\n",
       "      <td>0.01</td>\n",
       "      <td>{'alpha': 0.01}</td>\n",
       "      <td>5</td>\n",
       "      <td>0.918465</td>\n",
       "      <td>1.0</td>\n",
       "      <td>0.927371</td>\n",
       "      <td>1.0</td>\n",
       "      <td>0.918968</td>\n",
       "      <td>1.0</td>\n",
       "      <td>0.412518</td>\n",
       "      <td>0.002250</td>\n",
       "      <td>0.004085</td>\n",
       "      <td>0.0</td>\n",
       "    </tr>\n",
       "    <tr>\n",
       "      <th>0</th>\n",
       "      <td>33.185462</td>\n",
       "      <td>0.036455</td>\n",
       "      <td>0.9202</td>\n",
       "      <td>1.0</td>\n",
       "      <td>0.1</td>\n",
       "      <td>{'alpha': 0.1}</td>\n",
       "      <td>6</td>\n",
       "      <td>0.912470</td>\n",
       "      <td>1.0</td>\n",
       "      <td>0.926170</td>\n",
       "      <td>1.0</td>\n",
       "      <td>0.921969</td>\n",
       "      <td>1.0</td>\n",
       "      <td>1.393498</td>\n",
       "      <td>0.007367</td>\n",
       "      <td>0.005732</td>\n",
       "      <td>0.0</td>\n",
       "    </tr>\n",
       "  </tbody>\n",
       "</table>\n",
       "</div>"
      ],
      "text/plain": [
       "   mean_fit_time  mean_score_time  mean_test_score  mean_train_score  \\\n",
       "2      10.133306         0.033177           0.9238               1.0   \n",
       "5       9.302874         0.026041           0.9234               1.0   \n",
       "3      10.218442         0.038717           0.9224               1.0   \n",
       "4      10.216297         0.041666           0.9220               1.0   \n",
       "1      11.272396         0.032842           0.9216               1.0   \n",
       "0      33.185462         0.036455           0.9202               1.0   \n",
       "\n",
       "  param_alpha             params  rank_test_score  split0_test_score  \\\n",
       "2       0.001   {'alpha': 0.001}                1           0.918465   \n",
       "5       1e-06   {'alpha': 1e-06}                2           0.918465   \n",
       "3      0.0001  {'alpha': 0.0001}                3           0.915468   \n",
       "4       1e-05   {'alpha': 1e-05}                4           0.917866   \n",
       "1        0.01    {'alpha': 0.01}                5           0.918465   \n",
       "0         0.1     {'alpha': 0.1}                6           0.912470   \n",
       "\n",
       "   split0_train_score  split1_test_score  split1_train_score  \\\n",
       "2                 1.0           0.929172                 1.0   \n",
       "5                 1.0           0.927371                 1.0   \n",
       "3                 1.0           0.927371                 1.0   \n",
       "4                 1.0           0.926771                 1.0   \n",
       "1                 1.0           0.927371                 1.0   \n",
       "0                 1.0           0.926170                 1.0   \n",
       "\n",
       "   split2_test_score  split2_train_score  std_fit_time  std_score_time  \\\n",
       "2           0.923770                 1.0      0.303330        0.002724   \n",
       "5           0.924370                 1.0      0.400349        0.007366   \n",
       "3           0.924370                 1.0      0.287409        0.006400   \n",
       "4           0.921369                 1.0      0.335123        0.007362   \n",
       "1           0.918968                 1.0      0.412518        0.002250   \n",
       "0           0.921969                 1.0      1.393498        0.007367   \n",
       "\n",
       "   std_test_score  std_train_score  \n",
       "2        0.004371              0.0  \n",
       "5        0.003700              0.0  \n",
       "3        0.005056              0.0  \n",
       "4        0.003663              0.0  \n",
       "1        0.004085              0.0  \n",
       "0        0.005732              0.0  "
      ]
     },
     "execution_count": 27,
     "metadata": {},
     "output_type": "execute_result"
    }
   ],
   "source": [
    "parameters = {'alpha' : list(10.0 ** -np.arange(1, 7)) }\n",
    "\n",
    "clf_mlp = MLPClassifier(hidden_layer_sizes=(100,100), random_state=0)\n",
    "mlp = GridSearchCV(clf_mlp, parameters, n_jobs=-1)\n",
    "mlp.fit(X_train, y_train)\n",
    "\n",
    "results=pd.DataFrame(mlp.cv_results_)\n",
    "results.sort_values('mean_test_score', ascending = False)"
   ]
  },
  {
   "cell_type": "markdown",
   "metadata": {},
   "source": [
    "Let's use the model with the selected parameters to test its accuracy on the test set:"
   ]
  },
  {
   "cell_type": "code",
   "execution_count": 28,
   "metadata": {
    "collapsed": false
   },
   "outputs": [
    {
     "name": "stdout",
     "output_type": "stream",
     "text": [
      "MLPClassifier(activation='relu', alpha=0.001, batch_size='auto', beta_1=0.9,\n",
      "       beta_2=0.999, early_stopping=False, epsilon=1e-08,\n",
      "       hidden_layer_sizes=(100, 100), learning_rate='constant',\n",
      "       learning_rate_init=0.001, max_iter=200, momentum=0.9,\n",
      "       nesterovs_momentum=True, power_t=0.5, random_state=0, shuffle=True,\n",
      "       solver='adam', tol=0.0001, validation_fraction=0.1, verbose=False,\n",
      "       warm_start=False)\n",
      "MLP accuracy:  0.9202\n",
      "Wall time: 5.11 s\n"
     ]
    }
   ],
   "source": [
    "%%time\n",
    "\n",
    "clf_mlp = MLPClassifier(alpha=0.001, hidden_layer_sizes=(100,100), random_state=0)\n",
    "clf_mlp.fit(X_train, y_train)\n",
    "print(clf_mlp)\n",
    "y_pred_mlp = clf_mlp.predict(X_test)\n",
    "acc_mlp = accuracy_score(y_test, y_pred_mlp)\n",
    "print ('MLP accuracy: ',acc_mlp)"
   ]
  },
  {
   "cell_type": "markdown",
   "metadata": {},
   "source": [
    "The MLPC classifier gives a similar accuracy as KNN, but is a bit faster."
   ]
  },
  {
   "cell_type": "markdown",
   "metadata": {
    "collapsed": true
   },
   "source": [
    "## Convolutional Neural Network (CNN)"
   ]
  },
  {
   "cell_type": "markdown",
   "metadata": {},
   "source": [
    "Let's try out a Convolutional Neural Network (CNN) with Keras. I will use a model from this [tutorial](http://machinelearningmastery.com/handwritten-digit-recognition-using-convolutional-neural-networks-python-keras/).\n",
    "\n",
    "Keras requires one hot encoding of the y labels:"
   ]
  },
  {
   "cell_type": "code",
   "execution_count": 29,
   "metadata": {
    "collapsed": false
   },
   "outputs": [],
   "source": [
    "# one hot encode outputs\n",
    "y_train_cnn = np_utils.to_categorical(y_train)\n",
    "y_test_cnn = np_utils.to_categorical(y_test)\n",
    "num_classes = y_test_cnn.shape[1]"
   ]
  },
  {
   "cell_type": "markdown",
   "metadata": {},
   "source": [
    "We also need to reshape the images to the original 28x28 shape, which gives the neural net additional information compared to a 784x1 vector."
   ]
  },
  {
   "cell_type": "code",
   "execution_count": 30,
   "metadata": {
    "collapsed": true
   },
   "outputs": [],
   "source": [
    "# reshape to be [samples][pixels][width][height]\n",
    "X_train_cnn = X_train.reshape(X_train.shape[0], 1, 28, 28).astype('float32')\n",
    "X_test_cnn = X_test.reshape(X_test.shape[0], 1, 28, 28).astype('float32')"
   ]
  },
  {
   "cell_type": "code",
   "execution_count": 31,
   "metadata": {
    "collapsed": true
   },
   "outputs": [],
   "source": [
    "# define the CNN model\n",
    "def cnn_model():\n",
    "    # create model\n",
    "    model = Sequential()\n",
    "    model.add(Conv2D(30, (5, 5), input_shape=(1, 28, 28), activation='relu'))\n",
    "    model.add(MaxPooling2D(pool_size=(2, 2)))\n",
    "    model.add(Conv2D(15, (3, 3), activation='relu'))\n",
    "    model.add(MaxPooling2D(pool_size=(2, 2)))\n",
    "    model.add(Dropout(0.2))\n",
    "    model.add(Flatten())\n",
    "    model.add(Dense(128, activation='relu'))\n",
    "    model.add(Dense(50, activation='relu'))\n",
    "    model.add(Dense(num_classes, activation='softmax'))\n",
    "    # Compile model\n",
    "    model.compile(loss='categorical_crossentropy', optimizer='adam', metrics=['accuracy'])\n",
    "    return model"
   ]
  },
  {
   "cell_type": "code",
   "execution_count": 32,
   "metadata": {
    "collapsed": false,
    "scrolled": true
   },
   "outputs": [
    {
     "name": "stdout",
     "output_type": "stream",
     "text": [
      "Train on 5000 samples, validate on 5000 samples\n",
      "Epoch 1/10\n",
      "5000/5000 [==============================] - 23s - loss: 0.5168 - acc: 0.7732 - val_loss: 0.3468 - val_acc: 0.8438\n",
      "Epoch 2/10\n",
      "5000/5000 [==============================] - 23s - loss: 0.2812 - acc: 0.8842 - val_loss: 0.2475 - val_acc: 0.9072\n",
      "Epoch 3/10\n",
      "5000/5000 [==============================] - 24s - loss: 0.2207 - acc: 0.9130 - val_loss: 0.2016 - val_acc: 0.9212\n",
      "Epoch 4/10\n",
      "5000/5000 [==============================] - 23s - loss: 0.1796 - acc: 0.9316 - val_loss: 0.1792 - val_acc: 0.9290\n",
      "Epoch 5/10\n",
      "5000/5000 [==============================] - 23s - loss: 0.1692 - acc: 0.9364 - val_loss: 0.1746 - val_acc: 0.9308\n",
      "Epoch 6/10\n",
      "5000/5000 [==============================] - 23s - loss: 0.1526 - acc: 0.9440 - val_loss: 0.1627 - val_acc: 0.9374\n",
      "Epoch 7/10\n",
      "5000/5000 [==============================] - 23s - loss: 0.1412 - acc: 0.9464 - val_loss: 0.1514 - val_acc: 0.9400\n",
      "Epoch 8/10\n",
      "5000/5000 [==============================] - 23s - loss: 0.1256 - acc: 0.9512 - val_loss: 0.1580 - val_acc: 0.9380\n",
      "Epoch 9/10\n",
      "5000/5000 [==============================] - 23s - loss: 0.1287 - acc: 0.9486 - val_loss: 0.1482 - val_acc: 0.9420\n",
      "Epoch 10/10\n",
      "5000/5000 [==============================] - 23s - loss: 0.1165 - acc: 0.9560 - val_loss: 0.1507 - val_acc: 0.9416\n",
      "Final CNN accuracy:  0.9416\n",
      "Wall time: 4min 5s\n"
     ]
    }
   ],
   "source": [
    "%%time\n",
    "\n",
    "np.random.seed(0)\n",
    "# build the model\n",
    "model_cnn = cnn_model()\n",
    "# Fit the model\n",
    "model_cnn.fit(X_train_cnn, y_train_cnn, validation_data=(X_test_cnn, y_test_cnn), epochs=10, batch_size=200)\n",
    "# Final evaluation of the model\n",
    "scores = model_cnn.evaluate(X_test_cnn, y_test_cnn, verbose=0)\n",
    "print('Final CNN accuracy: ', scores[1])"
   ]
  },
  {
   "cell_type": "markdown",
   "metadata": {},
   "source": [
    "As expected for an image classification task, the CNN has a very high accuracy with over 94%. But it also required the longest training time.\n",
    "\n",
    "Let's take a closer look at the predictions it made:"
   ]
  },
  {
   "cell_type": "code",
   "execution_count": 33,
   "metadata": {
    "collapsed": false
   },
   "outputs": [
    {
     "name": "stdout",
     "output_type": "stream",
     "text": [
      "CNN accuracy:  0.9416\n"
     ]
    }
   ],
   "source": [
    "y_pred_cnn = model_cnn.predict_classes(X_test_cnn, verbose=0)\n",
    "acc_cnn = accuracy_score(y_test, y_pred_cnn)\n",
    "print ('CNN accuracy: ',acc_cnn)"
   ]
  },
  {
   "cell_type": "code",
   "execution_count": 34,
   "metadata": {
    "collapsed": false
   },
   "outputs": [
    {
     "name": "stdout",
     "output_type": "stream",
     "text": [
      "Confusion matrix, without normalization\n",
      "[[2373  109]\n",
      " [ 183 2335]]\n"
     ]
    },
    {
     "data": {
      "image/png": "[encoded data removed]",
      "text/plain": [
       "<matplotlib.figure.Figure at 0x213aaee7898>"
      ]
     },
     "metadata": {},
     "output_type": "display_data"
    }
   ],
   "source": [
    "# Compute confusion matrix\n",
    "cnf_matrix = confusion_matrix(y_test, y_pred_cnn)\n",
    "np.set_printoptions(precision=2)\n",
    "\n",
    "# Plot non-normalized confusion matrix\n",
    "plt.figure()\n",
    "plot_confusion_matrix(cnf_matrix, classes=['cat','sheep'],\n",
    "                      title='Confusion matrix, without normalization')\n",
    "\n",
    "plt.show()"
   ]
  },
  {
   "cell_type": "markdown",
   "metadata": {},
   "source": [
    "To see some of the images that were misclassified, I will select them:"
   ]
  },
  {
   "cell_type": "code",
   "execution_count": 35,
   "metadata": {
    "collapsed": false
   },
   "outputs": [],
   "source": [
    "sheeps_not_cats = X_test[y_test > y_pred_cnn] # true: 1 (sheep), predicted: 0 (cat)\n",
    "cats_not_sheeps = X_test[y_test < y_pred_cnn] # true: 0 (cat), predicted: 1 (sheep)"
   ]
  },
  {
   "cell_type": "code",
   "execution_count": 36,
   "metadata": {
    "collapsed": false
   },
   "outputs": [
    {
     "data": {
      "image/png": "[encoded data removed]",
      "text/plain": [
       "<matplotlib.figure.Figure at 0x213aaee7e80>"
      ]
     },
     "metadata": {},
     "output_type": "display_data"
    }
   ],
   "source": [
    "plot_samples(sheeps_not_cats, title = 'Sheep drawings that were classified as cats\\n')"
   ]
  },
  {
   "cell_type": "code",
   "execution_count": 37,
   "metadata": {
    "collapsed": false,
    "scrolled": true
   },
   "outputs": [
    {
     "data": {
      "image/png": "[encoded data removed]",
      "text/plain": [
       "<matplotlib.figure.Figure at 0x213aade9390>"
      ]
     },
     "metadata": {},
     "output_type": "display_data"
    }
   ],
   "source": [
    "plot_samples(cats_not_sheeps, title = 'Cat drawings that were classified as sheeps\\n')"
   ]
  },
  {
   "cell_type": "markdown",
   "metadata": {},
   "source": [
    "Most of these drawings are really hard to classify, while some seem possible. But I only trained the CNN on 5'000 examples, so over 94% accuracy is quite respectable. In the next section I will increase the number of training examples up to 15'000, which gives an accuracy of over 96%.\n",
    "\n",
    "As a further evaluation of the classifier, I will draw the ROC curve and calculate the Area Under the Curve (AUC):"
   ]
  },
  {
   "cell_type": "code",
   "execution_count": 38,
   "metadata": {
    "collapsed": false
   },
   "outputs": [],
   "source": [
    "# store the predicted probabilities for class 1 (sheep)\n",
    "y_pred_prob = model_cnn.predict_proba(X_test_cnn, verbose=0)[:, 1]\n",
    "\n",
    "fpr, tpr, thresholds = roc_curve(y_test, y_pred_prob)"
   ]
  },
  {
   "cell_type": "code",
   "execution_count": 39,
   "metadata": {
    "collapsed": false
   },
   "outputs": [
    {
     "data": {
      "image/png": "[encoded data removed]",
      "text/plain": [
       "<matplotlib.figure.Figure at 0x21413e89588>"
      ]
     },
     "metadata": {},
     "output_type": "display_data"
    }
   ],
   "source": [
    "plt.plot(fpr, tpr)\n",
    "plt.xlim([0, 1])\n",
    "plt.ylim([0, 1])\n",
    "plt.title('ROC curve for cat/sheep classifier')\n",
    "plt.xlabel('False Positive Rate (1 - Specificity)')\n",
    "plt.ylabel('True Positive Rate (Sensitivity)')\n",
    "plt.grid(True)"
   ]
  },
  {
   "cell_type": "code",
   "execution_count": 40,
   "metadata": {
    "collapsed": false
   },
   "outputs": [
    {
     "data": {
      "text/plain": [
       "0.98769360203632961"
      ]
     },
     "execution_count": 40,
     "metadata": {},
     "output_type": "execute_result"
    }
   ],
   "source": [
    "# calculate AUC score:\n",
    "roc_auc_score(y_test, y_pred_prob)"
   ]
  },
  {
   "cell_type": "markdown",
   "metadata": {},
   "source": [
    "The AUC score is very high, almost 99%."
   ]
  },
  {
   "cell_type": "markdown",
   "metadata": {
    "collapsed": true
   },
   "source": [
    "## Comparison of different methods"
   ]
  },
  {
   "cell_type": "markdown",
   "metadata": {},
   "source": [
    "Finally, I will compare the most promising algorithms using different numbers of training examples."
   ]
  },
  {
   "cell_type": "code",
   "execution_count": 42,
   "metadata": {
    "collapsed": false
   },
   "outputs": [
    {
     "name": "stdout",
     "output_type": "stream",
     "text": [
      "Wall time: 29min 35s\n"
     ]
    }
   ],
   "source": [
    "%%time\n",
    "\n",
    "np.random.seed(0)\n",
    "\n",
    "N_train = [500, 2000, 5000, 10000, 15000] # the number of training examples to be used\n",
    "acc_scores = pd.DataFrame()\n",
    "\n",
    "for i in N_train:\n",
    "    # preprocessing as before with different sample sizes:\n",
    "    X = np.concatenate((cat[:i,:-1], sheep[:i,:-1]), axis=0).astype('float32') \n",
    "    y = np.concatenate((cat[:i,-1], sheep[:i,-1]), axis=0).astype('float32') \n",
    "    X_train, X_test, y_train, y_test = train_test_split(X/255.,y,test_size=0.5,random_state=0)\n",
    "    \n",
    "    # run the different scikit-learn models:\n",
    "    clf_rf = RandomForestClassifier(n_estimators=100, n_jobs=-1)\n",
    "    clf_rf.fit(X_train, y_train)\n",
    "    acc_rf = clf_rf.score(X_test,y_test)\n",
    "    acc_scores.set_value('RF', i, acc_rf)\n",
    "    \n",
    "    clf_knn = KNeighborsClassifier(n_jobs=-1)\n",
    "    clf_knn.fit(X_train, y_train)\n",
    "    acc_knn = clf_knn.score(X_test,y_test)\n",
    "    acc_scores.set_value('KNN', i, acc_knn)\n",
    "\n",
    "    clf_mlp = MLPClassifier(alpha=0.001, hidden_layer_sizes=(50,50))\n",
    "    clf_mlp.fit(X_train, y_train)\n",
    "    acc_mlp = clf_mlp.score(X_test,y_test)\n",
    "    acc_scores.set_value('MLP', i, acc_mlp)\n",
    "    \n",
    "    \n",
    "    # preprocessing for keras:\n",
    "    y_train = np_utils.to_categorical(y_train)\n",
    "    y_test = np_utils.to_categorical(y_test)\n",
    "    num_classes = y_test.shape[1]\n",
    "    X_train = X_train.reshape(X_train.shape[0], 1, 28, 28).astype('float32')\n",
    "    X_test = X_test.reshape(X_test.shape[0], 1, 28, 28).astype('float32')\n",
    "    \n",
    "    # run the keras model:\n",
    "    model = cnn_model()\n",
    "    model.fit(X_train, y_train, validation_data=(X_test, y_test), epochs=10, batch_size=200, verbose=0)\n",
    "    scores = model.evaluate(X_test, y_test, verbose=0)\n",
    "    acc_scores.set_value('CNN', i, scores[1])\n",
    "    "
   ]
  },
  {
   "cell_type": "code",
   "execution_count": 43,
   "metadata": {
    "collapsed": false
   },
   "outputs": [
    {
     "data": {
      "text/html": [
       "<div>\n",
       "<table border=\"1\" class=\"dataframe\">\n",
       "  <thead>\n",
       "    <tr style=\"text-align: right;\">\n",
       "      <th></th>\n",
       "      <th>500</th>\n",
       "      <th>2000</th>\n",
       "      <th>5000</th>\n",
       "      <th>10000</th>\n",
       "      <th>15000</th>\n",
       "    </tr>\n",
       "  </thead>\n",
       "  <tbody>\n",
       "    <tr>\n",
       "      <th>RF</th>\n",
       "      <td>0.868</td>\n",
       "      <td>0.9030</td>\n",
       "      <td>0.8992</td>\n",
       "      <td>0.9210</td>\n",
       "      <td>0.926867</td>\n",
       "    </tr>\n",
       "    <tr>\n",
       "      <th>KNN</th>\n",
       "      <td>0.862</td>\n",
       "      <td>0.9060</td>\n",
       "      <td>0.9218</td>\n",
       "      <td>0.9322</td>\n",
       "      <td>0.936400</td>\n",
       "    </tr>\n",
       "    <tr>\n",
       "      <th>MLP</th>\n",
       "      <td>0.860</td>\n",
       "      <td>0.8945</td>\n",
       "      <td>0.9140</td>\n",
       "      <td>0.9299</td>\n",
       "      <td>0.932933</td>\n",
       "    </tr>\n",
       "    <tr>\n",
       "      <th>CNN</th>\n",
       "      <td>0.892</td>\n",
       "      <td>0.9285</td>\n",
       "      <td>0.9384</td>\n",
       "      <td>0.9566</td>\n",
       "      <td>0.961067</td>\n",
       "    </tr>\n",
       "  </tbody>\n",
       "</table>\n",
       "</div>"
      ],
      "text/plain": [
       "     500     2000    5000    10000     15000\n",
       "RF   0.868  0.9030  0.8992  0.9210  0.926867\n",
       "KNN  0.862  0.9060  0.9218  0.9322  0.936400\n",
       "MLP  0.860  0.8945  0.9140  0.9299  0.932933\n",
       "CNN  0.892  0.9285  0.9384  0.9566  0.961067"
      ]
     },
     "execution_count": 43,
     "metadata": {},
     "output_type": "execute_result"
    }
   ],
   "source": [
    "acc_scores"
   ]
  },
  {
   "cell_type": "code",
   "execution_count": 44,
   "metadata": {
    "collapsed": false,
    "scrolled": true
   },
   "outputs": [
    {
     "data": {
      "image/png": "[encoded data removed]",
      "text/plain": [
       "<matplotlib.figure.Figure at 0x19be9764358>"
      ]
     },
     "metadata": {},
     "output_type": "display_data"
    }
   ],
   "source": [
    "acc_scores.transpose().plot(xticks=list(acc_scores), xlim=(0,15000), marker='o', title='Classifiction accuracy of algorithms\\n');\n",
    "plt.xlabel('# of training examples');\n",
    "plt.ylabel('accuracy [%]');"
   ]
  },
  {
   "cell_type": "markdown",
   "metadata": {
    "collapsed": true
   },
   "source": [
    "## Multi-class Classification"
   ]
  },
  {
   "cell_type": "markdown",
   "metadata": {},
   "source": [
    "Now let's make the classification a bit more difficult by comparing 5 classes:"
   ]
  },
  {
   "cell_type": "code",
   "execution_count": 45,
   "metadata": {
    "collapsed": false
   },
   "outputs": [],
   "source": [
    "# load the data\n",
    "dog = np.load('data/dog.npy')\n",
    "octopus = np.load('data/octopus.npy')\n",
    "bee = np.load('data/bee.npy')\n",
    "hedgehog = np.load('data/hedgehog.npy')\n",
    "giraffe = np.load('data/giraffe.npy')"
   ]
  },
  {
   "cell_type": "markdown",
   "metadata": {},
   "source": [
    "The data preprocessing is similar as in the case for 2 classes:"
   ]
  },
  {
   "cell_type": "code",
   "execution_count": 46,
   "metadata": {
    "collapsed": false
   },
   "outputs": [
    {
     "name": "stdout",
     "output_type": "stream",
     "text": [
      "(152159, 785)\n",
      "(150152, 785)\n",
      "(120890, 785)\n",
      "(120527, 785)\n",
      "(127182, 785)\n"
     ]
    }
   ],
   "source": [
    "# add a column with labels\n",
    "dog = np.c_[dog, np.zeros(len(dog))]\n",
    "octopus = np.c_[octopus, np.ones(len(octopus))]\n",
    "bee = np.c_[bee, 2*np.ones(len(bee))]\n",
    "hedgehog = np.c_[hedgehog, 3*np.ones(len(hedgehog))]\n",
    "giraffe = np.c_[giraffe, 4*np.ones(len(giraffe))]\n",
    "\n",
    "# store the label codes in a dictionary\n",
    "label_dict = {0:'dog', 1:'octopus', 2:'bee', 3:'hedgehog', 4:'giraffe'}\n",
    "\n",
    "print(dog.shape)\n",
    "print(octopus.shape)\n",
    "print(bee.shape)\n",
    "print(hedgehog.shape)\n",
    "print(giraffe.shape)"
   ]
  },
  {
   "cell_type": "markdown",
   "metadata": {},
   "source": [
    "Create the matrices for sklearn (5'000 images per class):"
   ]
  },
  {
   "cell_type": "code",
   "execution_count": 47,
   "metadata": {
    "collapsed": false
   },
   "outputs": [],
   "source": [
    "X = np.concatenate((dog[:5000,:-1], octopus[:5000,:-1], bee[:5000,:-1], hedgehog[:5000,:-1], giraffe[:5000,:-1]), axis=0).astype('float32') # all columns but the last\n",
    "y = np.concatenate((dog[:5000,-1], octopus[:5000,-1], bee[:5000,-1], hedgehog[:5000,-1], giraffe[:5000,-1]), axis=0).astype('float32') # the last column\n",
    "\n",
    "X_train, X_test, y_train, y_test = train_test_split(X/255.,y,test_size=0.5,random_state=0)"
   ]
  },
  {
   "cell_type": "markdown",
   "metadata": {},
   "source": [
    "Use different scikit-learn algorithms to make predictions:"
   ]
  },
  {
   "cell_type": "code",
   "execution_count": 48,
   "metadata": {
    "collapsed": false
   },
   "outputs": [
    {
     "name": "stdout",
     "output_type": "stream",
     "text": [
      "random forest accuracy:  0.79104\n",
      "Wall time: 4.55 s\n"
     ]
    }
   ],
   "source": [
    "%%time\n",
    "\n",
    "clf_rf = RandomForestClassifier(n_estimators=100, n_jobs=-1, random_state=0)\n",
    "clf_rf.fit(X_train, y_train)\n",
    "y_pred_rf = clf_rf.predict(X_test)\n",
    "acc_rf = accuracy_score(y_test, y_pred_rf)\n",
    "print ('random forest accuracy: ',acc_rf)"
   ]
  },
  {
   "cell_type": "code",
   "execution_count": 64,
   "metadata": {
    "collapsed": false
   },
   "outputs": [
    {
     "name": "stdout",
     "output_type": "stream",
     "text": [
      "KNN accuracy:  0.8236\n",
      "Wall time: 1min 22s\n"
     ]
    }
   ],
   "source": [
    "%%time \n",
    "\n",
    "clf_knn = KNeighborsClassifier(n_jobs=-1)\n",
    "clf_knn.fit(X_train, y_train)\n",
    "y_pred_knn = clf_knn.predict(X_test)\n",
    "acc_knn = accuracy_score(y_test, y_pred_knn)\n",
    "print ('KNN accuracy: ',acc_knn)"
   ]
  },
  {
   "cell_type": "code",
   "execution_count": 49,
   "metadata": {
    "collapsed": false
   },
   "outputs": [
    {
     "name": "stdout",
     "output_type": "stream",
     "text": [
      "mlp accuracy:  0.81176\n",
      "Wall time: 23.8 s\n"
     ]
    }
   ],
   "source": [
    "%%time\n",
    "\n",
    "clf_mlp = MLPClassifier(alpha=0.001, hidden_layer_sizes=(100,100), random_state=0)\n",
    "clf_mlp.fit(X_train, y_train)\n",
    "y_pred_mlp = clf_mlp.predict(X_test)\n",
    "acc_mlp = accuracy_score(y_test, y_pred_mlp)\n",
    "print ('mlp accuracy: ',acc_mlp)"
   ]
  },
  {
   "cell_type": "markdown",
   "metadata": {
    "collapsed": true
   },
   "source": [
    "Preprocessing for keras:"
   ]
  },
  {
   "cell_type": "code",
   "execution_count": 50,
   "metadata": {
    "collapsed": true
   },
   "outputs": [],
   "source": [
    "# one hot encode outputs\n",
    "y_train_cnn = np_utils.to_categorical(y_train)\n",
    "y_test_cnn = np_utils.to_categorical(y_test)\n",
    "num_classes = y_test_cnn.shape[1]"
   ]
  },
  {
   "cell_type": "code",
   "execution_count": 51,
   "metadata": {
    "collapsed": true
   },
   "outputs": [],
   "source": [
    "# reshape to be [samples][pixels][width][height]\n",
    "X_train_cnn = X_train.reshape(X_train.shape[0], 1, 28, 28).astype('float32')\n",
    "X_test_cnn = X_test.reshape(X_test.shape[0], 1, 28, 28).astype('float32')"
   ]
  },
  {
   "cell_type": "code",
   "execution_count": 52,
   "metadata": {
    "collapsed": false
   },
   "outputs": [
    {
     "name": "stdout",
     "output_type": "stream",
     "text": [
      "Train on 12500 samples, validate on 12500 samples\n",
      "Epoch 1/10\n",
      "12500/12500 [==============================] - 57s - loss: 1.0365 - acc: 0.6016 - val_loss: 0.6576 - val_acc: 0.7686\n",
      "Epoch 2/10\n",
      "12500/12500 [==============================] - 57s - loss: 0.6567 - acc: 0.7678 - val_loss: 0.5451 - val_acc: 0.8106\n",
      "Epoch 3/10\n",
      "12500/12500 [==============================] - 57s - loss: 0.5555 - acc: 0.8042 - val_loss: 0.4616 - val_acc: 0.8441\n",
      "Epoch 4/10\n",
      "12500/12500 [==============================] - 61s - loss: 0.4769 - acc: 0.8331 - val_loss: 0.4081 - val_acc: 0.8654\n",
      "Epoch 5/10\n",
      "12500/12500 [==============================] - 60s - loss: 0.4185 - acc: 0.8578 - val_loss: 0.3751 - val_acc: 0.8749\n",
      "Epoch 6/10\n",
      "12500/12500 [==============================] - 60s - loss: 0.3819 - acc: 0.8723 - val_loss: 0.3650 - val_acc: 0.8806\n",
      "Epoch 7/10\n",
      "12500/12500 [==============================] - 59s - loss: 0.3603 - acc: 0.8801 - val_loss: 0.3443 - val_acc: 0.8873\n",
      "Epoch 8/10\n",
      "12500/12500 [==============================] - 60s - loss: 0.3309 - acc: 0.8886 - val_loss: 0.3168 - val_acc: 0.8971\n",
      "Epoch 9/10\n",
      "12500/12500 [==============================] - 59s - loss: 0.3195 - acc: 0.8903 - val_loss: 0.3051 - val_acc: 0.9025\n",
      "Epoch 10/10\n",
      "12500/12500 [==============================] - 59s - loss: 0.2928 - acc: 0.9008 - val_loss: 0.2935 - val_acc: 0.9038\n",
      "Final CNN accuracy:  0.903839999981\n",
      "Wall time: 10min 15s\n"
     ]
    }
   ],
   "source": [
    "%%time\n",
    "\n",
    "# build the model\n",
    "model = cnn_model()\n",
    "# Fit the model\n",
    "model.fit(X_train_cnn, y_train_cnn, validation_data=(X_test_cnn, y_test_cnn), epochs=10, batch_size=200)\n",
    "# Final evaluation of the model\n",
    "scores = model.evaluate(X_test_cnn, y_test_cnn, verbose=0)\n",
    "print('Final CNN accuracy: ', scores[1])"
   ]
  },
  {
   "cell_type": "markdown",
   "metadata": {},
   "source": [
    "Let's take a look at the predictions of the CNN:"
   ]
  },
  {
   "cell_type": "code",
   "execution_count": 53,
   "metadata": {
    "collapsed": false
   },
   "outputs": [
    {
     "name": "stdout",
     "output_type": "stream",
     "text": [
      "CNN accuracy:  0.90384\n"
     ]
    }
   ],
   "source": [
    "y_pred_cnn = model.predict_classes(X_test_cnn, batch_size=32, verbose=0)\n",
    "acc_cnn = accuracy_score(y_test, y_pred_cnn)\n",
    "print ('CNN accuracy: ',acc_cnn)"
   ]
  },
  {
   "cell_type": "code",
   "execution_count": 54,
   "metadata": {
    "collapsed": false
   },
   "outputs": [
    {
     "name": "stdout",
     "output_type": "stream",
     "text": [
      "Confusion matrix, without normalization\n",
      "[[2128   68  129  109   59]\n",
      " [  52 2365   65   42    7]\n",
      " [  86   81 2181  131   13]\n",
      " [ 100   37   83 2251   11]\n",
      " [  76   19   20   14 2373]]\n"
     ]
    },
    {
     "data": {
      "image/png": "[encoded data removed]",
      "text/plain": [
       "<matplotlib.figure.Figure at 0x213afe42be0>"
      ]
     },
     "metadata": {},
     "output_type": "display_data"
    }
   ],
   "source": [
    "# Compute confusion matrix\n",
    "cnf_matrix = confusion_matrix(y_test, y_pred_cnn)\n",
    "np.set_printoptions(precision=2)\n",
    "\n",
    "# Plot non-normalized confusion matrix\n",
    "plt.figure()\n",
    "plot_confusion_matrix(cnf_matrix, classes=['dog','octopus','bee','hedgehog','giraffe'],\n",
    "                      title='Confusion matrix, without normalization')\n",
    "\n",
    "plt.show()"
   ]
  },
  {
   "cell_type": "markdown",
   "metadata": {},
   "source": [
    "Let's see what probabilities were predicted by the model:"
   ]
  },
  {
   "cell_type": "code",
   "execution_count": 61,
   "metadata": {
    "collapsed": false
   },
   "outputs": [
    {
     "data": {
      "image/png": "[encoded data removed]",
      "text/plain": [
       "<matplotlib.figure.Figure at 0x213b2bc6438>"
      ]
     },
     "metadata": {},
     "output_type": "display_data"
    }
   ],
   "source": [
    "cnn_probab = model.predict(X_test_cnn, batch_size=32, verbose=0)\n",
    "\n",
    "# extract the probability for the label that was predicted:\n",
    "p_max = np.amax(cnn_probab, axis=1)\n",
    "\n",
    "plt.hist(p_max, normed=True, bins=list(np.linspace(0,1,11)));\n",
    "plt.xlabel('p of predicted class');"
   ]
  },
  {
   "cell_type": "markdown",
   "metadata": {},
   "source": [
    "For about 70% of the pictures, the CNN predicted the label with > 90% certainty.\n",
    "\n",
    "If the predictions of the CNN are well calibrated, the average prediction certainty should be equal to the accuracy (90%), which is indeed the case:"
   ]
  },
  {
   "cell_type": "code",
   "execution_count": 56,
   "metadata": {
    "collapsed": false
   },
   "outputs": [
    {
     "data": {
      "text/plain": [
       "0.89950764"
      ]
     },
     "execution_count": 56,
     "metadata": {},
     "output_type": "execute_result"
    }
   ],
   "source": [
    "np.mean(p_max)"
   ]
  },
  {
   "cell_type": "markdown",
   "metadata": {},
   "source": [
    "The lowest certainty of a prediction is about 25%:"
   ]
  },
  {
   "cell_type": "code",
   "execution_count": 57,
   "metadata": {
    "collapsed": false
   },
   "outputs": [
    {
     "data": {
      "text/plain": [
       "0.26455301"
      ]
     },
     "execution_count": 57,
     "metadata": {},
     "output_type": "execute_result"
    }
   ],
   "source": [
    "np.amin(p_max)"
   ]
  },
  {
   "cell_type": "markdown",
   "metadata": {},
   "source": [
    "Let's take a look at some predictions in detail:"
   ]
  },
  {
   "cell_type": "code",
   "execution_count": 58,
   "metadata": {
    "collapsed": false
   },
   "outputs": [
    {
     "data": {
      "image/png": "[encoded data removed]",
      "text/plain": [
       "<matplotlib.figure.Figure at 0x213afe92358>"
      ]
     },
     "metadata": {},
     "output_type": "display_data"
    }
   ],
   "source": [
    "fig, ax = plt.subplots(figsize=(6,15))\n",
    "\n",
    "for i in list(range(10)):\n",
    "\n",
    "    # plot probabilities:\n",
    "    ax = plt.subplot2grid((10, 5), (i, 0), colspan=4);\n",
    "    plt.bar(np.arange(5), cnn_probab[i], 0.35, align='center');\n",
    "    plt.xticks(np.arange(5), ['dog','octopus','bee','hedgehog','giraffe'])\n",
    "    plt.tick_params(axis='x', bottom='off', top='off')\n",
    "    plt.ylabel('Probability')\n",
    "    plt.ylim(0,1)\n",
    "    plt.subplots_adjust(hspace = 0.5)\n",
    "\n",
    "    # plot picture:\n",
    "    ax = plt.subplot2grid((10, 5), (i, 4));\n",
    "    plt.imshow(X_test[i].reshape((28,28)),cmap='gray_r', interpolation='nearest');\n",
    "    plt.xlabel(label_dict[y_test[i]]); # get the label from the dict\n",
    "    plt.xticks([])\n",
    "    plt.yticks([])"
   ]
  },
  {
   "cell_type": "markdown",
   "metadata": {},
   "source": [
    "Let's take a look at some pictures where the CNN was very unsure about the label by filtering with [p_max<0.4]:"
   ]
  },
  {
   "cell_type": "code",
   "execution_count": 59,
   "metadata": {
    "collapsed": false,
    "scrolled": true
   },
   "outputs": [
    {
     "data": {
      "image/png": "[encoded data removed]",
      "text/plain": [
       "<matplotlib.figure.Figure at 0x213b2211ba8>"
      ]
     },
     "metadata": {},
     "output_type": "display_data"
    }
   ],
   "source": [
    "fig, ax = plt.subplots(figsize=(6,15))\n",
    "\n",
    "for i in list(range(10)):\n",
    "    \n",
    "    # plot probabilities:\n",
    "    ax = plt.subplot2grid((10, 5), (i, 0), colspan=4);\n",
    "    plt.bar(np.arange(5), cnn_probab[p_max<0.4][i], 0.35, align='center');\n",
    "    plt.xticks(np.arange(5), ['dog','octopus','bee','hedgehog','giraffe'])\n",
    "    plt.tick_params(axis='x', bottom='off', top='off')\n",
    "    plt.ylabel('Probability')\n",
    "    plt.ylim(0,1)\n",
    "    plt.subplots_adjust(hspace = 0.5)\n",
    "\n",
    "    # plot picture:\n",
    "    ax = plt.subplot2grid((10, 5), (i, 4));\n",
    "    plt.imshow(X_test[p_max<0.4][i].reshape((28,28)),cmap='gray_r', interpolation='nearest');\n",
    "    plt.xlabel(label_dict[y_test[p_max<0.4][i]]); # get the label from the dict\n",
    "    plt.xticks([])\n",
    "    plt.yticks([])"
   ]
  },
  {
   "cell_type": "markdown",
   "metadata": {},
   "source": [
    "It seems that there is still some room for improvement. Notably, I have used just about 2% of the pictures for training. By increasing that number, big increases in accuracy would certainly be possible."
   ]
  }
 ],
 "metadata": {
  "anaconda-cloud": {},
  "kernelspec": {
   "display_name": "Python [Root]",
   "language": "python",
   "name": "Python [Root]"
  },
  "language_info": {
   "codemirror_mode": {
    "name": "ipython",
    "version": 3
   },
   "file_extension": ".py",
   "mimetype": "text/x-python",
   "name": "python",
   "nbconvert_exporter": "python",
   "pygments_lexer": "ipython3",
   "version": "3.5.2"
  }
 },
 "nbformat": 4,
 "nbformat_minor": 0
}
