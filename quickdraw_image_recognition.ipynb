{
 "cells": [
  {
   "cell_type": "markdown",
   "metadata": {},
   "source": [
    "# Classification of drawings made in the game 'Quick, draw!'"
   ]
  },
  {
   "cell_type": "markdown",
   "metadata": {},
   "source": [
    "Author: David Kradolfer, June 2017 (updated 19.9.2017)\n",
    "\n",
    "In this project I will use scikit-learn and Keras to compare different machine learning algorithms to classify drawings made in the game ['Quick, draw!'](https://quickdraw.withgoogle.com/). In this game, people are told what they should draw in less than 20 seconds, while a neural network is predicting in real-time what it sees in the drawing. Once the prediction is correct, you can't finish your drawing, which might explain the rather minimalistic style of the drawings. It's not the most fun game, but certainly a great way of collecting data for machine learning. \n",
    "\n",
    "A huge dataset has been made publically available, more information is available in this [Github repository](https://github.com/googlecreativelab/quickdraw-dataset). I have used [this data set](https://console.cloud.google.com/storage/browser/quickdraw_dataset/full/numpy_bitmap/?pli=1), which is already preprocessed to a uniform 28x28 pixel image size. Since the complete data set includes over 50 million pictures and 345 categories, I will only use a small subset of it.\n"
   ]
  },
  {
   "cell_type": "code",
   "execution_count": 1,
   "metadata": {
    "collapsed": true
   },
   "outputs": [],
   "source": [
    "# Imports\n",
    "\n",
    "import numpy as np\n",
    "import pandas as pd\n",
    "\n",
    "%matplotlib inline\n",
    "import matplotlib.pyplot as plt\n",
    "\n",
    "from sklearn.ensemble import RandomForestClassifier\n",
    "from sklearn.neighbors import KNeighborsClassifier\n",
    "from sklearn.svm import SVC, LinearSVC\n",
    "from sklearn.linear_model import SGDClassifier\n",
    "from sklearn.neural_network import MLPClassifier\n",
    "\n",
    "from sklearn.metrics import accuracy_score, confusion_matrix, roc_curve, roc_auc_score\n",
    "from sklearn.model_selection import train_test_split, GridSearchCV"
   ]
  },
  {
   "cell_type": "code",
   "execution_count": 2,
   "metadata": {
    "collapsed": false
   },
   "outputs": [
    {
     "name": "stderr",
     "output_type": "stream",
     "text": [
      "Using TensorFlow backend.\n"
     ]
    }
   ],
   "source": [
    "import keras\n",
    "from keras.models import Sequential\n",
    "from keras.layers import Dense, Dropout, Flatten\n",
    "from keras.layers.convolutional import Conv2D, MaxPooling2D\n",
    "from keras.utils import np_utils\n",
    "from keras import backend as K\n",
    "K.set_image_dim_ordering('th')"
   ]
  },
  {
   "cell_type": "markdown",
   "metadata": {},
   "source": [
    "## Binary Classification"
   ]
  },
  {
   "cell_type": "markdown",
   "metadata": {},
   "source": [
    "I will start with only 2 classes, cat and sheep drawings. There [data](https://console.cloud.google.com/storage/browser/quickdraw_dataset/full/numpy_bitmap/?pli=1) for each class consists of around 125'000 drawings (rows) and 784 pixels (columns) per drawing."
   ]
  },
  {
   "cell_type": "code",
   "execution_count": 3,
   "metadata": {
    "collapsed": false
   },
   "outputs": [
    {
     "name": "stdout",
     "output_type": "stream",
     "text": [
      "(123202, 784)\n",
      "(126121, 784)\n"
     ]
    }
   ],
   "source": [
    "# load the data\n",
    "cat = np.load('data/cat.npy')\n",
    "sheep = np.load('data/sheep.npy')\n",
    "\n",
    "print(cat.shape)\n",
    "print(sheep.shape)"
   ]
  },
  {
   "cell_type": "code",
   "execution_count": 4,
   "metadata": {
    "collapsed": true
   },
   "outputs": [],
   "source": [
    "# add a column with labels, 0=cat, 1=sheep\n",
    "cat = np.c_[cat, np.zeros(len(cat))]\n",
    "sheep = np.c_[sheep, np.ones(len(sheep))]"
   ]
  },
  {
   "cell_type": "markdown",
   "metadata": {},
   "source": [
    "Two useful functions: I wrote one to plot 28x28 pixel images from numpy arrays and will use one to plot the confusion matrix from the [scikit-learn documentation](http://scikit-learn.org/stable/auto_examples/model_selection/plot_confusion_matrix.html#sphx-glr-auto-examples-model-selection-plot-confusion-matrix-py)."
   ]
  },
  {
   "cell_type": "code",
   "execution_count": 5,
   "metadata": {
    "collapsed": true
   },
   "outputs": [],
   "source": [
    "def plot_samples(input_array, rows=4, cols=5, title=''):\n",
    "    '''\n",
    "    Function to plot 28x28 pixel drawings that are stored in a numpy array.\n",
    "    Specify how many rows and cols of pictures to display (default 4x5).  \n",
    "    If the array contains less images than subplots selected, surplus subplots remain empty.\n",
    "    '''\n",
    "    \n",
    "    fig, ax = plt.subplots(figsize=(cols,rows))\n",
    "    ax.axis('off')\n",
    "    plt.title(title)\n",
    "\n",
    "    for i in list(range(0, min(len(input_array),(rows*cols)) )):      \n",
    "        a = fig.add_subplot(rows,cols,i+1)\n",
    "        imgplot = plt.imshow(input_array[i,:784].reshape((28,28)), cmap='gray_r', interpolation='nearest')\n",
    "        plt.xticks([])\n",
    "        plt.yticks([])"
   ]
  },
  {
   "cell_type": "code",
   "execution_count": 6,
   "metadata": {
    "collapsed": true
   },
   "outputs": [],
   "source": [
    "import itertools\n",
    "\n",
    "def plot_confusion_matrix(cm, classes,\n",
    "                          normalize=False,\n",
    "                          title='Confusion matrix',\n",
    "                          cmap=plt.cm.Blues):\n",
    "    \"\"\"\n",
    "    This function prints and plots the confusion matrix.\n",
    "    Normalization can be applied by setting `normalize=True`.\n",
    "    \"\"\"\n",
    "    plt.imshow(cm, interpolation='nearest', cmap=cmap)\n",
    "    plt.title(title)\n",
    "    plt.colorbar()\n",
    "    tick_marks = np.arange(len(classes))\n",
    "    plt.xticks(tick_marks, classes, rotation=45)\n",
    "    plt.yticks(tick_marks, classes)\n",
    "\n",
    "    if normalize:\n",
    "        cm = np.round(cm.astype('float') / cm.sum(axis=1)[:, np.newaxis], 5)\n",
    "        print(\"Normalized confusion matrix\")\n",
    "    else:\n",
    "        print('Confusion matrix, without normalization')\n",
    "\n",
    "    print(cm)\n",
    "\n",
    "    thresh = cm.max() / 2.\n",
    "    for i, j in itertools.product(range(cm.shape[0]), range(cm.shape[1])):\n",
    "        plt.text(j, i, cm[i, j],\n",
    "                 horizontalalignment=\"center\",\n",
    "                 color=\"white\" if cm[i, j] > thresh else \"black\")\n",
    "\n",
    "    plt.tight_layout()\n",
    "    plt.ylabel('True label')\n",
    "    plt.xlabel('Predicted label')"
   ]
  },
  {
   "cell_type": "markdown",
   "metadata": {},
   "source": [
    "Let's take a look at some drawings. The quality and style of the drawings varies greatly, so we should expect a lower accuracy than in other tasks such as digit recognition. Also, the data set is not completely cleaned."
   ]
  },
  {
   "cell_type": "code",
   "execution_count": 7,
   "metadata": {
    "collapsed": false
   },
   "outputs": [
    {
     "data": {
      "image/png": "[encoded data removed]",
      "text/plain": [
       "<matplotlib.figure.Figure at 0x2aafc08cf60>"
      ]
     },
     "metadata": {},
     "output_type": "display_data"
    }
   ],
   "source": [
    "plot_samples(cat, title='Sample cat drawings\\n')"
   ]
  },
  {
   "cell_type": "code",
   "execution_count": 8,
   "metadata": {
    "collapsed": false,
    "scrolled": true
   },
   "outputs": [
    {
     "data": {
      "image/png": "[encoded data removed]",
      "text/plain": [
       "<matplotlib.figure.Figure at 0x2aafc08c208>"
      ]
     },
     "metadata": {},
     "output_type": "display_data"
    }
   ],
   "source": [
    "plot_samples(sheep, title='Sample sheep drawings\\n')"
   ]
  },
  {
   "cell_type": "markdown",
   "metadata": {},
   "source": [
    "Create the matrices for scikit-learn (5'000 cat and sheep images each):"
   ]
  },
  {
   "cell_type": "code",
   "execution_count": 9,
   "metadata": {
    "collapsed": false
   },
   "outputs": [],
   "source": [
    "# merge the cat and sheep arrays, and split the features (X) and labels (y). Convert to float32 to save some memory.\n",
    "X = np.concatenate((cat[:5000,:-1], sheep[:5000,:-1]), axis=0).astype('float32') # all columns but the last\n",
    "y = np.concatenate((cat[:5000,-1], sheep[:5000,-1]), axis=0).astype('float32') # the last column\n",
    "\n",
    "# train/test split (divide by 255 to obtain normalized values between 0 and 1)\n",
    "# I will use a 50:50 split, since I want to start by training the models on 5'000 samples and thus have plenty of samples to spare for testing.\n",
    "X_train, X_test, y_train, y_test = train_test_split(X/255.,y,test_size=0.5,random_state=0)"
   ]
  },
  {
   "cell_type": "markdown",
   "metadata": {},
   "source": [
    "## Random Forest"
   ]
  },
  {
   "cell_type": "markdown",
   "metadata": {},
   "source": [
    "I will first try out a simple random forest classifier using the default options (except for random_state for reproducibility and n_jobs=-1 to use multiple CPUs):"
   ]
  },
  {
   "cell_type": "code",
   "execution_count": 10,
   "metadata": {
    "collapsed": false
   },
   "outputs": [
    {
     "name": "stdout",
     "output_type": "stream",
     "text": [
      "RandomForestClassifier(bootstrap=True, class_weight=None, criterion='gini',\n",
      "            max_depth=None, max_features='auto', max_leaf_nodes=None,\n",
      "            min_impurity_split=1e-07, min_samples_leaf=1,\n",
      "            min_samples_split=2, min_weight_fraction_leaf=0.0,\n",
      "            n_estimators=10, n_jobs=-1, oob_score=False, random_state=0,\n",
      "            verbose=0, warm_start=False)\n",
      "Random forest accuracy:  0.8672\n",
      "Wall time: 333 ms\n"
     ]
    }
   ],
   "source": [
    "%%time\n",
    "\n",
    "clf_rf = RandomForestClassifier(n_jobs=-1, random_state=0)\n",
    "clf_rf.fit(X_train, y_train)\n",
    "print(clf_rf)\n",
    "y_pred_rf = clf_rf.predict(X_test)\n",
    "acc_rf = accuracy_score(y_test, y_pred_rf)\n",
    "print ('Random forest accuracy: ',acc_rf)"
   ]
  },
  {
   "cell_type": "markdown",
   "metadata": {},
   "source": [
    "The most important argument, n_estimators (= number of trees in the forest), is set to 10 by default. Let's try some larger values, as that should increase accuracy. GridSearchCV is very useful for optimizing parameters in scikit-learn."
   ]
  },
  {
   "cell_type": "code",
   "execution_count": 11,
   "metadata": {
    "collapsed": true
   },
   "outputs": [],
   "source": [
    "parameters = {'n_estimators': [10,20,40,60,80,100,120,140,160]}"
   ]
  },
  {
   "cell_type": "code",
   "execution_count": 12,
   "metadata": {
    "collapsed": false
   },
   "outputs": [
    {
     "name": "stdout",
     "output_type": "stream",
     "text": [
      "Wall time: 27.7 s\n"
     ]
    }
   ],
   "source": [
    "%%time\n",
    "\n",
    "clf_rf = RandomForestClassifier(n_jobs=-1, random_state=0)\n",
    "rf = GridSearchCV(clf_rf, parameters, n_jobs=-1)\n",
    "rf.fit(X_train, y_train)\n",
    "\n",
    "results = pd.DataFrame(rf.cv_results_)"
   ]
  },
  {
   "cell_type": "code",
   "execution_count": 13,
   "metadata": {
    "collapsed": false
   },
   "outputs": [
    {
     "data": {
      "text/html": [
       "<div>\n",
       "<table border=\"1\" class=\"dataframe\">\n",
       "  <thead>\n",
       "    <tr style=\"text-align: right;\">\n",
       "      <th></th>\n",
       "      <th>mean_fit_time</th>\n",
       "      <th>mean_score_time</th>\n",
       "      <th>mean_test_score</th>\n",
       "      <th>mean_train_score</th>\n",
       "      <th>param_n_estimators</th>\n",
       "      <th>params</th>\n",
       "      <th>rank_test_score</th>\n",
       "      <th>split0_test_score</th>\n",
       "      <th>split0_train_score</th>\n",
       "      <th>split1_test_score</th>\n",
       "      <th>split1_train_score</th>\n",
       "      <th>split2_test_score</th>\n",
       "      <th>split2_train_score</th>\n",
       "      <th>std_fit_time</th>\n",
       "      <th>std_score_time</th>\n",
       "      <th>std_test_score</th>\n",
       "      <th>std_train_score</th>\n",
       "    </tr>\n",
       "  </thead>\n",
       "  <tbody>\n",
       "    <tr>\n",
       "      <th>7</th>\n",
       "      <td>4.536410</td>\n",
       "      <td>0.737712</td>\n",
       "      <td>0.9160</td>\n",
       "      <td>1.0000</td>\n",
       "      <td>140</td>\n",
       "      <td>{'n_estimators': 140}</td>\n",
       "      <td>1</td>\n",
       "      <td>0.915468</td>\n",
       "      <td>1.000000</td>\n",
       "      <td>0.914166</td>\n",
       "      <td>1.000000</td>\n",
       "      <td>0.918367</td>\n",
       "      <td>1.000000</td>\n",
       "      <td>0.519852</td>\n",
       "      <td>0.593673</td>\n",
       "      <td>0.001756</td>\n",
       "      <td>0.000000</td>\n",
       "    </tr>\n",
       "    <tr>\n",
       "      <th>6</th>\n",
       "      <td>4.179469</td>\n",
       "      <td>0.662638</td>\n",
       "      <td>0.9150</td>\n",
       "      <td>1.0000</td>\n",
       "      <td>120</td>\n",
       "      <td>{'n_estimators': 120}</td>\n",
       "      <td>2</td>\n",
       "      <td>0.912470</td>\n",
       "      <td>1.000000</td>\n",
       "      <td>0.917167</td>\n",
       "      <td>1.000000</td>\n",
       "      <td>0.915366</td>\n",
       "      <td>1.000000</td>\n",
       "      <td>0.530962</td>\n",
       "      <td>0.422203</td>\n",
       "      <td>0.001935</td>\n",
       "      <td>0.000000</td>\n",
       "    </tr>\n",
       "    <tr>\n",
       "      <th>8</th>\n",
       "      <td>4.105458</td>\n",
       "      <td>0.173790</td>\n",
       "      <td>0.9150</td>\n",
       "      <td>1.0000</td>\n",
       "      <td>160</td>\n",
       "      <td>{'n_estimators': 160}</td>\n",
       "      <td>2</td>\n",
       "      <td>0.914269</td>\n",
       "      <td>1.000000</td>\n",
       "      <td>0.914166</td>\n",
       "      <td>1.000000</td>\n",
       "      <td>0.916567</td>\n",
       "      <td>1.000000</td>\n",
       "      <td>1.566813</td>\n",
       "      <td>0.095412</td>\n",
       "      <td>0.001108</td>\n",
       "      <td>0.000000</td>\n",
       "    </tr>\n",
       "    <tr>\n",
       "      <th>5</th>\n",
       "      <td>3.339449</td>\n",
       "      <td>0.253681</td>\n",
       "      <td>0.9148</td>\n",
       "      <td>1.0000</td>\n",
       "      <td>100</td>\n",
       "      <td>{'n_estimators': 100}</td>\n",
       "      <td>4</td>\n",
       "      <td>0.913669</td>\n",
       "      <td>1.000000</td>\n",
       "      <td>0.914166</td>\n",
       "      <td>1.000000</td>\n",
       "      <td>0.916567</td>\n",
       "      <td>1.000000</td>\n",
       "      <td>0.151762</td>\n",
       "      <td>0.055651</td>\n",
       "      <td>0.001265</td>\n",
       "      <td>0.000000</td>\n",
       "    </tr>\n",
       "    <tr>\n",
       "      <th>4</th>\n",
       "      <td>2.442926</td>\n",
       "      <td>0.520429</td>\n",
       "      <td>0.9130</td>\n",
       "      <td>1.0000</td>\n",
       "      <td>80</td>\n",
       "      <td>{'n_estimators': 80}</td>\n",
       "      <td>5</td>\n",
       "      <td>0.913669</td>\n",
       "      <td>1.000000</td>\n",
       "      <td>0.910564</td>\n",
       "      <td>1.000000</td>\n",
       "      <td>0.914766</td>\n",
       "      <td>1.000000</td>\n",
       "      <td>0.249435</td>\n",
       "      <td>0.581260</td>\n",
       "      <td>0.001779</td>\n",
       "      <td>0.000000</td>\n",
       "    </tr>\n",
       "    <tr>\n",
       "      <th>3</th>\n",
       "      <td>1.799945</td>\n",
       "      <td>0.644459</td>\n",
       "      <td>0.9102</td>\n",
       "      <td>1.0000</td>\n",
       "      <td>60</td>\n",
       "      <td>{'n_estimators': 60}</td>\n",
       "      <td>6</td>\n",
       "      <td>0.908873</td>\n",
       "      <td>1.000000</td>\n",
       "      <td>0.909964</td>\n",
       "      <td>1.000000</td>\n",
       "      <td>0.911765</td>\n",
       "      <td>1.000000</td>\n",
       "      <td>0.275570</td>\n",
       "      <td>0.480345</td>\n",
       "      <td>0.001192</td>\n",
       "      <td>0.000000</td>\n",
       "    </tr>\n",
       "    <tr>\n",
       "      <th>2</th>\n",
       "      <td>1.337450</td>\n",
       "      <td>0.706503</td>\n",
       "      <td>0.9062</td>\n",
       "      <td>1.0000</td>\n",
       "      <td>40</td>\n",
       "      <td>{'n_estimators': 40}</td>\n",
       "      <td>7</td>\n",
       "      <td>0.904676</td>\n",
       "      <td>1.000000</td>\n",
       "      <td>0.906963</td>\n",
       "      <td>1.000000</td>\n",
       "      <td>0.906963</td>\n",
       "      <td>1.000000</td>\n",
       "      <td>0.280584</td>\n",
       "      <td>0.408518</td>\n",
       "      <td>0.001078</td>\n",
       "      <td>0.000000</td>\n",
       "    </tr>\n",
       "    <tr>\n",
       "      <th>1</th>\n",
       "      <td>0.536547</td>\n",
       "      <td>0.165284</td>\n",
       "      <td>0.8968</td>\n",
       "      <td>0.9999</td>\n",
       "      <td>20</td>\n",
       "      <td>{'n_estimators': 20}</td>\n",
       "      <td>8</td>\n",
       "      <td>0.895084</td>\n",
       "      <td>1.000000</td>\n",
       "      <td>0.891957</td>\n",
       "      <td>0.999700</td>\n",
       "      <td>0.903361</td>\n",
       "      <td>1.000000</td>\n",
       "      <td>0.011206</td>\n",
       "      <td>0.036068</td>\n",
       "      <td>0.004811</td>\n",
       "      <td>0.000141</td>\n",
       "    </tr>\n",
       "    <tr>\n",
       "      <th>0</th>\n",
       "      <td>0.279201</td>\n",
       "      <td>0.227662</td>\n",
       "      <td>0.8838</td>\n",
       "      <td>0.9963</td>\n",
       "      <td>10</td>\n",
       "      <td>{'n_estimators': 10}</td>\n",
       "      <td>9</td>\n",
       "      <td>0.881894</td>\n",
       "      <td>0.996098</td>\n",
       "      <td>0.873349</td>\n",
       "      <td>0.996401</td>\n",
       "      <td>0.896158</td>\n",
       "      <td>0.996401</td>\n",
       "      <td>0.040739</td>\n",
       "      <td>0.078643</td>\n",
       "      <td>0.009407</td>\n",
       "      <td>0.000142</td>\n",
       "    </tr>\n",
       "  </tbody>\n",
       "</table>\n",
       "</div>"
      ],
      "text/plain": [
       "   mean_fit_time  mean_score_time  mean_test_score  mean_train_score  \\\n",
       "7       4.536410         0.737712           0.9160            1.0000   \n",
       "6       4.179469         0.662638           0.9150            1.0000   \n",
       "8       4.105458         0.173790           0.9150            1.0000   \n",
       "5       3.339449         0.253681           0.9148            1.0000   \n",
       "4       2.442926         0.520429           0.9130            1.0000   \n",
       "3       1.799945         0.644459           0.9102            1.0000   \n",
       "2       1.337450         0.706503           0.9062            1.0000   \n",
       "1       0.536547         0.165284           0.8968            0.9999   \n",
       "0       0.279201         0.227662           0.8838            0.9963   \n",
       "\n",
       "  param_n_estimators                 params  rank_test_score  \\\n",
       "7                140  {'n_estimators': 140}                1   \n",
       "6                120  {'n_estimators': 120}                2   \n",
       "8                160  {'n_estimators': 160}                2   \n",
       "5                100  {'n_estimators': 100}                4   \n",
       "4                 80   {'n_estimators': 80}                5   \n",
       "3                 60   {'n_estimators': 60}                6   \n",
       "2                 40   {'n_estimators': 40}                7   \n",
       "1                 20   {'n_estimators': 20}                8   \n",
       "0                 10   {'n_estimators': 10}                9   \n",
       "\n",
       "   split0_test_score  split0_train_score  split1_test_score  \\\n",
       "7           0.915468            1.000000           0.914166   \n",
       "6           0.912470            1.000000           0.917167   \n",
       "8           0.914269            1.000000           0.914166   \n",
       "5           0.913669            1.000000           0.914166   \n",
       "4           0.913669            1.000000           0.910564   \n",
       "3           0.908873            1.000000           0.909964   \n",
       "2           0.904676            1.000000           0.906963   \n",
       "1           0.895084            1.000000           0.891957   \n",
       "0           0.881894            0.996098           0.873349   \n",
       "\n",
       "   split1_train_score  split2_test_score  split2_train_score  std_fit_time  \\\n",
       "7            1.000000           0.918367            1.000000      0.519852   \n",
       "6            1.000000           0.915366            1.000000      0.530962   \n",
       "8            1.000000           0.916567            1.000000      1.566813   \n",
       "5            1.000000           0.916567            1.000000      0.151762   \n",
       "4            1.000000           0.914766            1.000000      0.249435   \n",
       "3            1.000000           0.911765            1.000000      0.275570   \n",
       "2            1.000000           0.906963            1.000000      0.280584   \n",
       "1            0.999700           0.903361            1.000000      0.011206   \n",
       "0            0.996401           0.896158            0.996401      0.040739   \n",
       "\n",
       "   std_score_time  std_test_score  std_train_score  \n",
       "7        0.593673        0.001756         0.000000  \n",
       "6        0.422203        0.001935         0.000000  \n",
       "8        0.095412        0.001108         0.000000  \n",
       "5        0.055651        0.001265         0.000000  \n",
       "4        0.581260        0.001779         0.000000  \n",
       "3        0.480345        0.001192         0.000000  \n",
       "2        0.408518        0.001078         0.000000  \n",
       "1        0.036068        0.004811         0.000141  \n",
       "0        0.078643        0.009407         0.000142  "
      ]
     },
     "execution_count": 13,
     "metadata": {},
     "output_type": "execute_result"
    }
   ],
   "source": [
    "results.sort_values('mean_test_score', ascending = False)"
   ]
  },
  {
   "cell_type": "code",
   "execution_count": 14,
   "metadata": {
    "collapsed": false
   },
   "outputs": [
    {
     "data": {
      "image/png": "[encoded data removed]",
      "text/plain": [
       "<matplotlib.figure.Figure at 0x2aa80a16f60>"
      ]
     },
     "metadata": {},
     "output_type": "display_data"
    }
   ],
   "source": [
    "results.plot('param_n_estimators','mean_test_score');"
   ]
  },
  {
   "cell_type": "markdown",
   "metadata": {
    "collapsed": false
   },
   "source": [
    "The accuracy plateaus after about 100 trees, I will therfore use this parameter from here on.\n",
    "\n",
    "We can also try to optimize the option 'max_features', which is the number of features to consider when looking for the best split. But as shown below, there are hardly any differences in the test scores (and the results are inconsistent, depending on the random state). I will therefore just keep the 'auto' option. "
   ]
  },
  {
   "cell_type": "code",
   "execution_count": 15,
   "metadata": {
    "collapsed": false
   },
   "outputs": [
    {
     "data": {
      "text/html": [
       "<div>\n",
       "<table border=\"1\" class=\"dataframe\">\n",
       "  <thead>\n",
       "    <tr style=\"text-align: right;\">\n",
       "      <th></th>\n",
       "      <th>mean_fit_time</th>\n",
       "      <th>mean_score_time</th>\n",
       "      <th>mean_test_score</th>\n",
       "      <th>mean_train_score</th>\n",
       "      <th>param_max_features</th>\n",
       "      <th>params</th>\n",
       "      <th>rank_test_score</th>\n",
       "      <th>split0_test_score</th>\n",
       "      <th>split0_train_score</th>\n",
       "      <th>split1_test_score</th>\n",
       "      <th>split1_train_score</th>\n",
       "      <th>split2_test_score</th>\n",
       "      <th>split2_train_score</th>\n",
       "      <th>std_fit_time</th>\n",
       "      <th>std_score_time</th>\n",
       "      <th>std_test_score</th>\n",
       "      <th>std_train_score</th>\n",
       "    </tr>\n",
       "  </thead>\n",
       "  <tbody>\n",
       "    <tr>\n",
       "      <th>1</th>\n",
       "      <td>2.322989</td>\n",
       "      <td>0.776886</td>\n",
       "      <td>0.9168</td>\n",
       "      <td>1.0</td>\n",
       "      <td>15</td>\n",
       "      <td>{'max_features': 15}</td>\n",
       "      <td>1</td>\n",
       "      <td>0.913070</td>\n",
       "      <td>1.0</td>\n",
       "      <td>0.920768</td>\n",
       "      <td>1.0</td>\n",
       "      <td>0.916567</td>\n",
       "      <td>1.0</td>\n",
       "      <td>0.634137</td>\n",
       "      <td>0.384908</td>\n",
       "      <td>0.003148</td>\n",
       "      <td>0.0</td>\n",
       "    </tr>\n",
       "    <tr>\n",
       "      <th>0</th>\n",
       "      <td>3.185035</td>\n",
       "      <td>0.558898</td>\n",
       "      <td>0.9148</td>\n",
       "      <td>1.0</td>\n",
       "      <td>auto</td>\n",
       "      <td>{'max_features': 'auto'}</td>\n",
       "      <td>2</td>\n",
       "      <td>0.913669</td>\n",
       "      <td>1.0</td>\n",
       "      <td>0.914166</td>\n",
       "      <td>1.0</td>\n",
       "      <td>0.916567</td>\n",
       "      <td>1.0</td>\n",
       "      <td>0.575429</td>\n",
       "      <td>0.563109</td>\n",
       "      <td>0.001265</td>\n",
       "      <td>0.0</td>\n",
       "    </tr>\n",
       "    <tr>\n",
       "      <th>2</th>\n",
       "      <td>3.019953</td>\n",
       "      <td>0.694326</td>\n",
       "      <td>0.9148</td>\n",
       "      <td>1.0</td>\n",
       "      <td>28</td>\n",
       "      <td>{'max_features': 28}</td>\n",
       "      <td>2</td>\n",
       "      <td>0.913669</td>\n",
       "      <td>1.0</td>\n",
       "      <td>0.914166</td>\n",
       "      <td>1.0</td>\n",
       "      <td>0.916567</td>\n",
       "      <td>1.0</td>\n",
       "      <td>0.276178</td>\n",
       "      <td>0.627757</td>\n",
       "      <td>0.001265</td>\n",
       "      <td>0.0</td>\n",
       "    </tr>\n",
       "    <tr>\n",
       "      <th>3</th>\n",
       "      <td>5.641843</td>\n",
       "      <td>0.239285</td>\n",
       "      <td>0.9134</td>\n",
       "      <td>1.0</td>\n",
       "      <td>50</td>\n",
       "      <td>{'max_features': 50}</td>\n",
       "      <td>4</td>\n",
       "      <td>0.907674</td>\n",
       "      <td>1.0</td>\n",
       "      <td>0.912965</td>\n",
       "      <td>1.0</td>\n",
       "      <td>0.919568</td>\n",
       "      <td>1.0</td>\n",
       "      <td>0.121498</td>\n",
       "      <td>0.095833</td>\n",
       "      <td>0.004866</td>\n",
       "      <td>0.0</td>\n",
       "    </tr>\n",
       "  </tbody>\n",
       "</table>\n",
       "</div>"
      ],
      "text/plain": [
       "   mean_fit_time  mean_score_time  mean_test_score  mean_train_score  \\\n",
       "1       2.322989         0.776886           0.9168               1.0   \n",
       "0       3.185035         0.558898           0.9148               1.0   \n",
       "2       3.019953         0.694326           0.9148               1.0   \n",
       "3       5.641843         0.239285           0.9134               1.0   \n",
       "\n",
       "  param_max_features                    params  rank_test_score  \\\n",
       "1                 15      {'max_features': 15}                1   \n",
       "0               auto  {'max_features': 'auto'}                2   \n",
       "2                 28      {'max_features': 28}                2   \n",
       "3                 50      {'max_features': 50}                4   \n",
       "\n",
       "   split0_test_score  split0_train_score  split1_test_score  \\\n",
       "1           0.913070                 1.0           0.920768   \n",
       "0           0.913669                 1.0           0.914166   \n",
       "2           0.913669                 1.0           0.914166   \n",
       "3           0.907674                 1.0           0.912965   \n",
       "\n",
       "   split1_train_score  split2_test_score  split2_train_score  std_fit_time  \\\n",
       "1                 1.0           0.916567                 1.0      0.634137   \n",
       "0                 1.0           0.916567                 1.0      0.575429   \n",
       "2                 1.0           0.916567                 1.0      0.276178   \n",
       "3                 1.0           0.919568                 1.0      0.121498   \n",
       "\n",
       "   std_score_time  std_test_score  std_train_score  \n",
       "1        0.384908        0.003148              0.0  \n",
       "0        0.563109        0.001265              0.0  \n",
       "2        0.627757        0.001265              0.0  \n",
       "3        0.095833        0.004866              0.0  "
      ]
     },
     "execution_count": 15,
     "metadata": {},
     "output_type": "execute_result"
    }
   ],
   "source": [
    "parameters = {'max_features' : ['auto', 15, 28, 50] } # 28 = sqrt(784), which is suggested in the documentation as a good value\n",
    "\n",
    "clf_rf = RandomForestClassifier(n_estimators= 100, n_jobs=-1, random_state=0)\n",
    "rf = GridSearchCV(clf_rf, parameters, n_jobs=-1)\n",
    "rf.fit(X_train, y_train)\n",
    "\n",
    "results = pd.DataFrame(rf.cv_results_)\n",
    "results.sort_values('mean_test_score', ascending = False)"
   ]
  },
  {
   "cell_type": "markdown",
   "metadata": {},
   "source": [
    "Let's run the random forest again with the selected options:"
   ]
  },
  {
   "cell_type": "code",
   "execution_count": 16,
   "metadata": {
    "collapsed": false
   },
   "outputs": [
    {
     "name": "stdout",
     "output_type": "stream",
     "text": [
      "Random forest accuracy:  0.9044\n",
      "Wall time: 1.75 s\n"
     ]
    }
   ],
   "source": [
    "%%time\n",
    "\n",
    "clf_rf = RandomForestClassifier(n_estimators=100, n_jobs=-1, random_state=0)\n",
    "clf_rf.fit(X_train, y_train)\n",
    "y_pred_rf = clf_rf.predict(X_test)\n",
    "acc_rf = accuracy_score(y_test, y_pred_rf)\n",
    "print ('Random forest accuracy: ',acc_rf)"
   ]
  },
  {
   "cell_type": "markdown",
   "metadata": {},
   "source": [
    "We can visualize the model to see which pixels had the highest importance:"
   ]
  },
  {
   "cell_type": "code",
   "execution_count": 17,
   "metadata": {
    "collapsed": false,
    "scrolled": false
   },
   "outputs": [
    {
     "data": {
      "image/png": "[encoded data removed]",
      "text/plain": [
       "<matplotlib.figure.Figure at 0x2aaf98ee518>"
      ]
     },
     "metadata": {},
     "output_type": "display_data"
    }
   ],
   "source": [
    "importances = clf_rf.feature_importances_\n",
    "importances = importances.reshape((28,28))\n",
    "plt.matshow(importances, cmap=plt.cm.hot);\n",
    "plt.title('Pixel importances\\n');"
   ]
  },
  {
   "cell_type": "markdown",
   "metadata": {
    "collapsed": true
   },
   "source": [
    "As could be expected, corners have a very low importance, as they are mostly blank. The left, right, middle and bottom part of the picture are most important. Looking at the pictures of cats and sheeps, it seems that the middle is mostly blank in sheeps, but not in cats. So pixels there probably indicate a cat image. The other 'hot' areas are less clear to me after a quick inspection of the images."
   ]
  },
  {
   "cell_type": "markdown",
   "metadata": {},
   "source": [
    "## K-Nearest Neighbors (KNN)"
   ]
  },
  {
   "cell_type": "markdown",
   "metadata": {},
   "source": [
    "Next, I will try out a KNN classifier:"
   ]
  },
  {
   "cell_type": "code",
   "execution_count": 18,
   "metadata": {
    "collapsed": false
   },
   "outputs": [
    {
     "name": "stdout",
     "output_type": "stream",
     "text": [
      "KNeighborsClassifier(algorithm='auto', leaf_size=30, metric='minkowski',\n",
      "           metric_params=None, n_jobs=-1, n_neighbors=5, p=2,\n",
      "           weights='uniform')\n",
      "KNN accuracy:  0.9218\n",
      "Wall time: 16 s\n"
     ]
    }
   ],
   "source": [
    "%%time \n",
    "\n",
    "clf_knn = KNeighborsClassifier(n_jobs=-1)\n",
    "clf_knn.fit(X_train, y_train)\n",
    "print(clf_knn)\n",
    "y_pred_knn = clf_knn.predict(X_test)\n",
    "acc_knn = accuracy_score(y_test, y_pred_knn)\n",
    "print ('KNN accuracy: ',acc_knn)"
   ]
  },
  {
   "cell_type": "markdown",
   "metadata": {},
   "source": [
    "The KNN classifier looks promising, let's test different values of K:"
   ]
  },
  {
   "cell_type": "code",
   "execution_count": 19,
   "metadata": {
    "collapsed": false
   },
   "outputs": [
    {
     "name": "stdout",
     "output_type": "stream",
     "text": [
      "Wall time: 2min 50s\n"
     ]
    }
   ],
   "source": [
    "%%time\n",
    "\n",
    "parameters = {'n_neighbors': [1,3,5,7,9,11]}\n",
    "\n",
    "clf_knn = KNeighborsClassifier(n_jobs=-1)\n",
    "knn = GridSearchCV(clf_knn, parameters, n_jobs=-1)\n",
    "knn.fit(X_train, y_train)\n",
    "\n",
    "results_knn = pd.DataFrame(knn.cv_results_)"
   ]
  },
  {
   "cell_type": "code",
   "execution_count": 20,
   "metadata": {
    "collapsed": false
   },
   "outputs": [
    {
     "data": {
      "text/html": [
       "<div>\n",
       "<table border=\"1\" class=\"dataframe\">\n",
       "  <thead>\n",
       "    <tr style=\"text-align: right;\">\n",
       "      <th></th>\n",
       "      <th>mean_fit_time</th>\n",
       "      <th>mean_score_time</th>\n",
       "      <th>mean_test_score</th>\n",
       "      <th>mean_train_score</th>\n",
       "      <th>param_n_neighbors</th>\n",
       "      <th>params</th>\n",
       "      <th>rank_test_score</th>\n",
       "      <th>split0_test_score</th>\n",
       "      <th>split0_train_score</th>\n",
       "      <th>split1_test_score</th>\n",
       "      <th>split1_train_score</th>\n",
       "      <th>split2_test_score</th>\n",
       "      <th>split2_train_score</th>\n",
       "      <th>std_fit_time</th>\n",
       "      <th>std_score_time</th>\n",
       "      <th>std_test_score</th>\n",
       "      <th>std_train_score</th>\n",
       "    </tr>\n",
       "  </thead>\n",
       "  <tbody>\n",
       "    <tr>\n",
       "      <th>2</th>\n",
       "      <td>1.090484</td>\n",
       "      <td>12.000963</td>\n",
       "      <td>0.9216</td>\n",
       "      <td>0.9444</td>\n",
       "      <td>5</td>\n",
       "      <td>{'n_neighbors': 5}</td>\n",
       "      <td>1</td>\n",
       "      <td>0.921463</td>\n",
       "      <td>0.944778</td>\n",
       "      <td>0.920768</td>\n",
       "      <td>0.943611</td>\n",
       "      <td>0.922569</td>\n",
       "      <td>0.944811</td>\n",
       "      <td>0.260144</td>\n",
       "      <td>0.537086</td>\n",
       "      <td>0.000741</td>\n",
       "      <td>0.000558</td>\n",
       "    </tr>\n",
       "    <tr>\n",
       "      <th>3</th>\n",
       "      <td>1.004534</td>\n",
       "      <td>12.362510</td>\n",
       "      <td>0.9210</td>\n",
       "      <td>0.9375</td>\n",
       "      <td>7</td>\n",
       "      <td>{'n_neighbors': 7}</td>\n",
       "      <td>2</td>\n",
       "      <td>0.917866</td>\n",
       "      <td>0.937275</td>\n",
       "      <td>0.922569</td>\n",
       "      <td>0.938812</td>\n",
       "      <td>0.922569</td>\n",
       "      <td>0.936413</td>\n",
       "      <td>0.265598</td>\n",
       "      <td>0.398817</td>\n",
       "      <td>0.002218</td>\n",
       "      <td>0.000992</td>\n",
       "    </tr>\n",
       "    <tr>\n",
       "      <th>4</th>\n",
       "      <td>1.097780</td>\n",
       "      <td>13.028088</td>\n",
       "      <td>0.9200</td>\n",
       "      <td>0.9333</td>\n",
       "      <td>9</td>\n",
       "      <td>{'n_neighbors': 9}</td>\n",
       "      <td>3</td>\n",
       "      <td>0.919664</td>\n",
       "      <td>0.931573</td>\n",
       "      <td>0.925570</td>\n",
       "      <td>0.934013</td>\n",
       "      <td>0.914766</td>\n",
       "      <td>0.934313</td>\n",
       "      <td>0.116241</td>\n",
       "      <td>0.504523</td>\n",
       "      <td>0.004416</td>\n",
       "      <td>0.001227</td>\n",
       "    </tr>\n",
       "    <tr>\n",
       "      <th>1</th>\n",
       "      <td>0.656531</td>\n",
       "      <td>11.819406</td>\n",
       "      <td>0.9188</td>\n",
       "      <td>0.9543</td>\n",
       "      <td>3</td>\n",
       "      <td>{'n_neighbors': 3}</td>\n",
       "      <td>4</td>\n",
       "      <td>0.916067</td>\n",
       "      <td>0.952881</td>\n",
       "      <td>0.919568</td>\n",
       "      <td>0.955909</td>\n",
       "      <td>0.920768</td>\n",
       "      <td>0.954109</td>\n",
       "      <td>0.053521</td>\n",
       "      <td>0.742132</td>\n",
       "      <td>0.001995</td>\n",
       "      <td>0.001243</td>\n",
       "    </tr>\n",
       "    <tr>\n",
       "      <th>5</th>\n",
       "      <td>1.447028</td>\n",
       "      <td>10.433746</td>\n",
       "      <td>0.9152</td>\n",
       "      <td>0.9277</td>\n",
       "      <td>11</td>\n",
       "      <td>{'n_neighbors': 11}</td>\n",
       "      <td>5</td>\n",
       "      <td>0.910671</td>\n",
       "      <td>0.928571</td>\n",
       "      <td>0.920768</td>\n",
       "      <td>0.928314</td>\n",
       "      <td>0.914166</td>\n",
       "      <td>0.926215</td>\n",
       "      <td>0.311654</td>\n",
       "      <td>2.412591</td>\n",
       "      <td>0.004187</td>\n",
       "      <td>0.001056</td>\n",
       "    </tr>\n",
       "    <tr>\n",
       "      <th>0</th>\n",
       "      <td>0.490201</td>\n",
       "      <td>12.068546</td>\n",
       "      <td>0.9098</td>\n",
       "      <td>1.0000</td>\n",
       "      <td>1</td>\n",
       "      <td>{'n_neighbors': 1}</td>\n",
       "      <td>6</td>\n",
       "      <td>0.911871</td>\n",
       "      <td>1.000000</td>\n",
       "      <td>0.904562</td>\n",
       "      <td>1.000000</td>\n",
       "      <td>0.912965</td>\n",
       "      <td>1.000000</td>\n",
       "      <td>0.083732</td>\n",
       "      <td>0.476223</td>\n",
       "      <td>0.003730</td>\n",
       "      <td>0.000000</td>\n",
       "    </tr>\n",
       "  </tbody>\n",
       "</table>\n",
       "</div>"
      ],
      "text/plain": [
       "   mean_fit_time  mean_score_time  mean_test_score  mean_train_score  \\\n",
       "2       1.090484        12.000963           0.9216            0.9444   \n",
       "3       1.004534        12.362510           0.9210            0.9375   \n",
       "4       1.097780        13.028088           0.9200            0.9333   \n",
       "1       0.656531        11.819406           0.9188            0.9543   \n",
       "5       1.447028        10.433746           0.9152            0.9277   \n",
       "0       0.490201        12.068546           0.9098            1.0000   \n",
       "\n",
       "  param_n_neighbors               params  rank_test_score  split0_test_score  \\\n",
       "2                 5   {'n_neighbors': 5}                1           0.921463   \n",
       "3                 7   {'n_neighbors': 7}                2           0.917866   \n",
       "4                 9   {'n_neighbors': 9}                3           0.919664   \n",
       "1                 3   {'n_neighbors': 3}                4           0.916067   \n",
       "5                11  {'n_neighbors': 11}                5           0.910671   \n",
       "0                 1   {'n_neighbors': 1}                6           0.911871   \n",
       "\n",
       "   split0_train_score  split1_test_score  split1_train_score  \\\n",
       "2            0.944778           0.920768            0.943611   \n",
       "3            0.937275           0.922569            0.938812   \n",
       "4            0.931573           0.925570            0.934013   \n",
       "1            0.952881           0.919568            0.955909   \n",
       "5            0.928571           0.920768            0.928314   \n",
       "0            1.000000           0.904562            1.000000   \n",
       "\n",
       "   split2_test_score  split2_train_score  std_fit_time  std_score_time  \\\n",
       "2           0.922569            0.944811      0.260144        0.537086   \n",
       "3           0.922569            0.936413      0.265598        0.398817   \n",
       "4           0.914766            0.934313      0.116241        0.504523   \n",
       "1           0.920768            0.954109      0.053521        0.742132   \n",
       "5           0.914166            0.926215      0.311654        2.412591   \n",
       "0           0.912965            1.000000      0.083732        0.476223   \n",
       "\n",
       "   std_test_score  std_train_score  \n",
       "2        0.000741         0.000558  \n",
       "3        0.002218         0.000992  \n",
       "4        0.004416         0.001227  \n",
       "1        0.001995         0.001243  \n",
       "5        0.004187         0.001056  \n",
       "0        0.003730         0.000000  "
      ]
     },
     "execution_count": 20,
     "metadata": {},
     "output_type": "execute_result"
    }
   ],
   "source": [
    "results_knn.sort_values('mean_test_score', ascending = False)"
   ]
  },
  {
   "cell_type": "code",
   "execution_count": 21,
   "metadata": {
    "collapsed": false
   },
   "outputs": [
    {
     "data": {
      "image/png": "[encoded data removed]",
      "text/plain": [
       "<matplotlib.figure.Figure at 0x2aa809434e0>"
      ]
     },
     "metadata": {},
     "output_type": "display_data"
    }
   ],
   "source": [
    "results_knn.plot('param_n_neighbors','mean_test_score');"
   ]
  },
  {
   "cell_type": "markdown",
   "metadata": {},
   "source": [
    "The default option of k=5 seems to be optimal.\n",
    "The KNN classifier is quite a bit more accurate than the random forest, but it also takes much longer (particularly the classification of new examples)."
   ]
  },
  {
   "cell_type": "markdown",
   "metadata": {},
   "source": [
    "## Support Vector Machines (SVMs)"
   ]
  },
  {
   "cell_type": "markdown",
   "metadata": {},
   "source": [
    "There are different implementations of SVMs in scikit-learn, I will try out three of them, the first two are linear SVMs, the third is a non linear:"
   ]
  },
  {
   "cell_type": "code",
   "execution_count": 22,
   "metadata": {
    "collapsed": false
   },
   "outputs": [
    {
     "name": "stdout",
     "output_type": "stream",
     "text": [
      "SGDClassifier(alpha=0.0001, average=False, class_weight=None, epsilon=0.1,\n",
      "       eta0=0.0, fit_intercept=True, l1_ratio=0.15,\n",
      "       learning_rate='optimal', loss='hinge', n_iter=5, n_jobs=1,\n",
      "       penalty='l2', power_t=0.5, random_state=0, shuffle=True, verbose=0,\n",
      "       warm_start=False)\n",
      "SVM stochastic gradient descent accuracy:  0.8356\n",
      "Wall time: 101 ms\n"
     ]
    }
   ],
   "source": [
    "%%time\n",
    "\n",
    "clf_sgd = SGDClassifier(loss='hinge', random_state=0) # loss='hinge' results in a linear SVM\n",
    "clf_sgd.fit(X_train, y_train)\n",
    "print(clf_sgd)\n",
    "y_pred_sgd = clf_sgd.predict(X_test)\n",
    "acc_sgd = accuracy_score(y_test, y_pred_sgd)\n",
    "print ('SVM stochastic gradient descent accuracy: ',acc_sgd)"
   ]
  },
  {
   "cell_type": "code",
   "execution_count": 23,
   "metadata": {
    "collapsed": false
   },
   "outputs": [
    {
     "name": "stdout",
     "output_type": "stream",
     "text": [
      "LinearSVC(C=1.0, class_weight=None, dual=True, fit_intercept=True,\n",
      "     intercept_scaling=1, loss='squared_hinge', max_iter=1000,\n",
      "     multi_class='ovr', penalty='l2', random_state=0, tol=0.0001,\n",
      "     verbose=0)\n",
      "Linear SVM accuracy:  0.8488\n",
      "Wall time: 2.24 s\n"
     ]
    }
   ],
   "source": [
    "%%time\n",
    "\n",
    "clf_svm = LinearSVC(random_state=0)\n",
    "clf_svm.fit(X_train, y_train)\n",
    "print(clf_svm)\n",
    "y_pred_svm = clf_svm.predict(X_test)\n",
    "acc_svm = accuracy_score(y_test, y_pred_svm)\n",
    "print ('Linear SVM accuracy: ',acc_svm)"
   ]
  },
  {
   "cell_type": "code",
   "execution_count": 24,
   "metadata": {
    "collapsed": false
   },
   "outputs": [
    {
     "name": "stdout",
     "output_type": "stream",
     "text": [
      "SVC(C=1.0, cache_size=200, class_weight=None, coef0=0.0,\n",
      "  decision_function_shape=None, degree=3, gamma='auto', kernel='rbf',\n",
      "  max_iter=-1, probability=False, random_state=0, shrinking=True,\n",
      "  tol=0.001, verbose=False)\n",
      "RBF SVM accuracy:  0.8768\n",
      "Wall time: 19.8 s\n"
     ]
    }
   ],
   "source": [
    "%%time\n",
    "\n",
    "clf_svm = SVC(kernel='rbf', random_state=0) # using the Gaussian radial basis function\n",
    "clf_svm.fit(X_train, y_train)\n",
    "print(clf_svm)\n",
    "y_pred_svm = clf_svm.predict(X_test)\n",
    "acc_svm = accuracy_score(y_test, y_pred_svm)\n",
    "print ('RBF SVM accuracy: ',acc_svm)"
   ]
  },
  {
   "cell_type": "markdown",
   "metadata": {},
   "source": [
    "The SVMs seem not very promising. There are of course many parameters that could be optimized, but I will focus on other methods here."
   ]
  },
  {
   "cell_type": "markdown",
   "metadata": {
    "collapsed": true
   },
   "source": [
    "##  Multi-Layer Perceptron (MLP)"
   ]
  },
  {
   "cell_type": "markdown",
   "metadata": {},
   "source": [
    "Let's try out a simple neural network in scikit-learn:"
   ]
  },
  {
   "cell_type": "code",
   "execution_count": 25,
   "metadata": {
    "collapsed": false
   },
   "outputs": [
    {
     "name": "stdout",
     "output_type": "stream",
     "text": [
      "MLPClassifier(activation='relu', alpha=0.0001, batch_size='auto', beta_1=0.9,\n",
      "       beta_2=0.999, early_stopping=False, epsilon=1e-08,\n",
      "       hidden_layer_sizes=(100,), learning_rate='constant',\n",
      "       learning_rate_init=0.001, max_iter=200, momentum=0.9,\n",
      "       nesterovs_momentum=True, power_t=0.5, random_state=0, shuffle=True,\n",
      "       solver='adam', tol=0.0001, validation_fraction=0.1, verbose=False,\n",
      "       warm_start=False)\n",
      "mlp accuracy:  0.9196\n",
      "Wall time: 10.9 s\n"
     ]
    }
   ],
   "source": [
    "%%time\n",
    "\n",
    "clf_mlp = MLPClassifier(random_state=0)\n",
    "clf_mlp.fit(X_train, y_train)\n",
    "print(clf_mlp)\n",
    "y_pred_mlp = clf_mlp.predict(X_test)\n",
    "acc_mlp = accuracy_score(y_test, y_pred_mlp)\n",
    "print ('mlp accuracy: ',acc_mlp)"
   ]
  },
  {
   "cell_type": "markdown",
   "metadata": {},
   "source": [
    "Compare different hidden_layer_sizes:"
   ]
  },
  {
   "cell_type": "code",
   "execution_count": 26,
   "metadata": {
    "collapsed": false
   },
   "outputs": [
    {
     "data": {
      "text/html": [
       "<div>\n",
       "<table border=\"1\" class=\"dataframe\">\n",
       "  <thead>\n",
       "    <tr style=\"text-align: right;\">\n",
       "      <th></th>\n",
       "      <th>mean_fit_time</th>\n",
       "      <th>mean_score_time</th>\n",
       "      <th>mean_test_score</th>\n",
       "      <th>mean_train_score</th>\n",
       "      <th>param_hidden_layer_sizes</th>\n",
       "      <th>params</th>\n",
       "      <th>rank_test_score</th>\n",
       "      <th>split0_test_score</th>\n",
       "      <th>split0_train_score</th>\n",
       "      <th>split1_test_score</th>\n",
       "      <th>split1_train_score</th>\n",
       "      <th>split2_test_score</th>\n",
       "      <th>split2_train_score</th>\n",
       "      <th>std_fit_time</th>\n",
       "      <th>std_score_time</th>\n",
       "      <th>std_test_score</th>\n",
       "      <th>std_train_score</th>\n",
       "    </tr>\n",
       "  </thead>\n",
       "  <tbody>\n",
       "    <tr>\n",
       "      <th>2</th>\n",
       "      <td>90.378471</td>\n",
       "      <td>0.134096</td>\n",
       "      <td>0.9316</td>\n",
       "      <td>1.0</td>\n",
       "      <td>(784,)</td>\n",
       "      <td>{'hidden_layer_sizes': (784,)}</td>\n",
       "      <td>1</td>\n",
       "      <td>0.921463</td>\n",
       "      <td>1.0</td>\n",
       "      <td>0.933974</td>\n",
       "      <td>1.0</td>\n",
       "      <td>0.939376</td>\n",
       "      <td>1.0</td>\n",
       "      <td>5.344234</td>\n",
       "      <td>0.009100</td>\n",
       "      <td>0.007504</td>\n",
       "      <td>0.0</td>\n",
       "    </tr>\n",
       "    <tr>\n",
       "      <th>5</th>\n",
       "      <td>70.667511</td>\n",
       "      <td>0.238899</td>\n",
       "      <td>0.9312</td>\n",
       "      <td>1.0</td>\n",
       "      <td>(784, 784)</td>\n",
       "      <td>{'hidden_layer_sizes': (784, 784)}</td>\n",
       "      <td>2</td>\n",
       "      <td>0.923861</td>\n",
       "      <td>1.0</td>\n",
       "      <td>0.935174</td>\n",
       "      <td>1.0</td>\n",
       "      <td>0.934574</td>\n",
       "      <td>1.0</td>\n",
       "      <td>2.096886</td>\n",
       "      <td>0.009617</td>\n",
       "      <td>0.005198</td>\n",
       "      <td>0.0</td>\n",
       "    </tr>\n",
       "    <tr>\n",
       "      <th>1</th>\n",
       "      <td>27.850590</td>\n",
       "      <td>0.041197</td>\n",
       "      <td>0.9248</td>\n",
       "      <td>1.0</td>\n",
       "      <td>(100,)</td>\n",
       "      <td>{'hidden_layer_sizes': (100,)}</td>\n",
       "      <td>3</td>\n",
       "      <td>0.915468</td>\n",
       "      <td>1.0</td>\n",
       "      <td>0.930972</td>\n",
       "      <td>1.0</td>\n",
       "      <td>0.927971</td>\n",
       "      <td>1.0</td>\n",
       "      <td>3.117232</td>\n",
       "      <td>0.009435</td>\n",
       "      <td>0.006716</td>\n",
       "      <td>0.0</td>\n",
       "    </tr>\n",
       "    <tr>\n",
       "      <th>4</th>\n",
       "      <td>14.799198</td>\n",
       "      <td>0.045701</td>\n",
       "      <td>0.9224</td>\n",
       "      <td>1.0</td>\n",
       "      <td>(100, 100)</td>\n",
       "      <td>{'hidden_layer_sizes': (100, 100)}</td>\n",
       "      <td>4</td>\n",
       "      <td>0.915468</td>\n",
       "      <td>1.0</td>\n",
       "      <td>0.927371</td>\n",
       "      <td>1.0</td>\n",
       "      <td>0.924370</td>\n",
       "      <td>1.0</td>\n",
       "      <td>0.079858</td>\n",
       "      <td>0.002056</td>\n",
       "      <td>0.005056</td>\n",
       "      <td>0.0</td>\n",
       "    </tr>\n",
       "    <tr>\n",
       "      <th>3</th>\n",
       "      <td>15.523465</td>\n",
       "      <td>0.038527</td>\n",
       "      <td>0.9196</td>\n",
       "      <td>1.0</td>\n",
       "      <td>(50, 50)</td>\n",
       "      <td>{'hidden_layer_sizes': (50, 50)}</td>\n",
       "      <td>5</td>\n",
       "      <td>0.917866</td>\n",
       "      <td>1.0</td>\n",
       "      <td>0.916567</td>\n",
       "      <td>1.0</td>\n",
       "      <td>0.924370</td>\n",
       "      <td>1.0</td>\n",
       "      <td>0.488892</td>\n",
       "      <td>0.004711</td>\n",
       "      <td>0.003413</td>\n",
       "      <td>0.0</td>\n",
       "    </tr>\n",
       "    <tr>\n",
       "      <th>0</th>\n",
       "      <td>21.606998</td>\n",
       "      <td>0.027102</td>\n",
       "      <td>0.9186</td>\n",
       "      <td>1.0</td>\n",
       "      <td>(50,)</td>\n",
       "      <td>{'hidden_layer_sizes': (50,)}</td>\n",
       "      <td>6</td>\n",
       "      <td>0.914269</td>\n",
       "      <td>1.0</td>\n",
       "      <td>0.923770</td>\n",
       "      <td>1.0</td>\n",
       "      <td>0.917767</td>\n",
       "      <td>1.0</td>\n",
       "      <td>0.317243</td>\n",
       "      <td>0.004055</td>\n",
       "      <td>0.003924</td>\n",
       "      <td>0.0</td>\n",
       "    </tr>\n",
       "    <tr>\n",
       "      <th>7</th>\n",
       "      <td>9.166460</td>\n",
       "      <td>0.034357</td>\n",
       "      <td>0.9180</td>\n",
       "      <td>1.0</td>\n",
       "      <td>(100, 100, 100)</td>\n",
       "      <td>{'hidden_layer_sizes': (100, 100, 100)}</td>\n",
       "      <td>7</td>\n",
       "      <td>0.914868</td>\n",
       "      <td>1.0</td>\n",
       "      <td>0.920768</td>\n",
       "      <td>1.0</td>\n",
       "      <td>0.918367</td>\n",
       "      <td>1.0</td>\n",
       "      <td>1.680342</td>\n",
       "      <td>0.004788</td>\n",
       "      <td>0.002423</td>\n",
       "      <td>0.0</td>\n",
       "    </tr>\n",
       "    <tr>\n",
       "      <th>6</th>\n",
       "      <td>13.537458</td>\n",
       "      <td>0.039361</td>\n",
       "      <td>0.9158</td>\n",
       "      <td>1.0</td>\n",
       "      <td>(50, 50, 50)</td>\n",
       "      <td>{'hidden_layer_sizes': (50, 50, 50)}</td>\n",
       "      <td>8</td>\n",
       "      <td>0.911871</td>\n",
       "      <td>1.0</td>\n",
       "      <td>0.916567</td>\n",
       "      <td>1.0</td>\n",
       "      <td>0.918968</td>\n",
       "      <td>1.0</td>\n",
       "      <td>0.901656</td>\n",
       "      <td>0.007044</td>\n",
       "      <td>0.002948</td>\n",
       "      <td>0.0</td>\n",
       "    </tr>\n",
       "  </tbody>\n",
       "</table>\n",
       "</div>"
      ],
      "text/plain": [
       "   mean_fit_time  mean_score_time  mean_test_score  mean_train_score  \\\n",
       "2      90.378471         0.134096           0.9316               1.0   \n",
       "5      70.667511         0.238899           0.9312               1.0   \n",
       "1      27.850590         0.041197           0.9248               1.0   \n",
       "4      14.799198         0.045701           0.9224               1.0   \n",
       "3      15.523465         0.038527           0.9196               1.0   \n",
       "0      21.606998         0.027102           0.9186               1.0   \n",
       "7       9.166460         0.034357           0.9180               1.0   \n",
       "6      13.537458         0.039361           0.9158               1.0   \n",
       "\n",
       "  param_hidden_layer_sizes                                   params  \\\n",
       "2                   (784,)           {'hidden_layer_sizes': (784,)}   \n",
       "5               (784, 784)       {'hidden_layer_sizes': (784, 784)}   \n",
       "1                   (100,)           {'hidden_layer_sizes': (100,)}   \n",
       "4               (100, 100)       {'hidden_layer_sizes': (100, 100)}   \n",
       "3                 (50, 50)         {'hidden_layer_sizes': (50, 50)}   \n",
       "0                    (50,)            {'hidden_layer_sizes': (50,)}   \n",
       "7          (100, 100, 100)  {'hidden_layer_sizes': (100, 100, 100)}   \n",
       "6             (50, 50, 50)     {'hidden_layer_sizes': (50, 50, 50)}   \n",
       "\n",
       "   rank_test_score  split0_test_score  split0_train_score  split1_test_score  \\\n",
       "2                1           0.921463                 1.0           0.933974   \n",
       "5                2           0.923861                 1.0           0.935174   \n",
       "1                3           0.915468                 1.0           0.930972   \n",
       "4                4           0.915468                 1.0           0.927371   \n",
       "3                5           0.917866                 1.0           0.916567   \n",
       "0                6           0.914269                 1.0           0.923770   \n",
       "7                7           0.914868                 1.0           0.920768   \n",
       "6                8           0.911871                 1.0           0.916567   \n",
       "\n",
       "   split1_train_score  split2_test_score  split2_train_score  std_fit_time  \\\n",
       "2                 1.0           0.939376                 1.0      5.344234   \n",
       "5                 1.0           0.934574                 1.0      2.096886   \n",
       "1                 1.0           0.927971                 1.0      3.117232   \n",
       "4                 1.0           0.924370                 1.0      0.079858   \n",
       "3                 1.0           0.924370                 1.0      0.488892   \n",
       "0                 1.0           0.917767                 1.0      0.317243   \n",
       "7                 1.0           0.918367                 1.0      1.680342   \n",
       "6                 1.0           0.918968                 1.0      0.901656   \n",
       "\n",
       "   std_score_time  std_test_score  std_train_score  \n",
       "2        0.009100        0.007504              0.0  \n",
       "5        0.009617        0.005198              0.0  \n",
       "1        0.009435        0.006716              0.0  \n",
       "4        0.002056        0.005056              0.0  \n",
       "3        0.004711        0.003413              0.0  \n",
       "0        0.004055        0.003924              0.0  \n",
       "7        0.004788        0.002423              0.0  \n",
       "6        0.007044        0.002948              0.0  "
      ]
     },
     "execution_count": 26,
     "metadata": {},
     "output_type": "execute_result"
    }
   ],
   "source": [
    "parameters = {'hidden_layer_sizes' : [(50,), (100,), (784,), (50,50), (100,100), (784,784), (50,50,50), (100,100,100)] }\n",
    "\n",
    "clf_mlp = MLPClassifier(random_state=0)\n",
    "mlp = GridSearchCV(clf_mlp, parameters, n_jobs=-1)\n",
    "mlp.fit(X_train, y_train)\n",
    "\n",
    "results=pd.DataFrame(mlp.cv_results_)\n",
    "results.sort_values('mean_test_score', ascending = False)"
   ]
  },
  {
   "cell_type": "markdown",
   "metadata": {},
   "source": [
    "The larger neural nets with one or two layers of 784 (= number of input pixels) have clearly the highest accuracy. However, they also take a very long training time. I will therefore continue with the (100, 100) size, which is much faster and still has quite a high accuracy.\n",
    "\n",
    "I will test as well different learning rates alpha:"
   ]
  },
  {
   "cell_type": "code",
   "execution_count": 27,
   "metadata": {
    "collapsed": false
   },
   "outputs": [
    {
     "data": {
      "text/html": [
       "<div>\n",
       "<table border=\"1\" class=\"dataframe\">\n",
       "  <thead>\n",
       "    <tr style=\"text-align: right;\">\n",
       "      <th></th>\n",
       "      <th>mean_fit_time</th>\n",
       "      <th>mean_score_time</th>\n",
       "      <th>mean_test_score</th>\n",
       "      <th>mean_train_score</th>\n",
       "      <th>param_alpha</th>\n",
       "      <th>params</th>\n",
       "      <th>rank_test_score</th>\n",
       "      <th>split0_test_score</th>\n",
       "      <th>split0_train_score</th>\n",
       "      <th>split1_test_score</th>\n",
       "      <th>split1_train_score</th>\n",
       "      <th>split2_test_score</th>\n",
       "      <th>split2_train_score</th>\n",
       "      <th>std_fit_time</th>\n",
       "      <th>std_score_time</th>\n",
       "      <th>std_test_score</th>\n",
       "      <th>std_train_score</th>\n",
       "    </tr>\n",
       "  </thead>\n",
       "  <tbody>\n",
       "    <tr>\n",
       "      <th>2</th>\n",
       "      <td>12.513455</td>\n",
       "      <td>0.041029</td>\n",
       "      <td>0.9238</td>\n",
       "      <td>1.0</td>\n",
       "      <td>0.001</td>\n",
       "      <td>{'alpha': 0.001}</td>\n",
       "      <td>1</td>\n",
       "      <td>0.918465</td>\n",
       "      <td>1.0</td>\n",
       "      <td>0.929172</td>\n",
       "      <td>1.0</td>\n",
       "      <td>0.923770</td>\n",
       "      <td>1.0</td>\n",
       "      <td>0.470815</td>\n",
       "      <td>0.002124</td>\n",
       "      <td>0.004371</td>\n",
       "      <td>0.0</td>\n",
       "    </tr>\n",
       "    <tr>\n",
       "      <th>5</th>\n",
       "      <td>10.959528</td>\n",
       "      <td>0.031857</td>\n",
       "      <td>0.9234</td>\n",
       "      <td>1.0</td>\n",
       "      <td>1e-06</td>\n",
       "      <td>{'alpha': 1e-06}</td>\n",
       "      <td>2</td>\n",
       "      <td>0.918465</td>\n",
       "      <td>1.0</td>\n",
       "      <td>0.927371</td>\n",
       "      <td>1.0</td>\n",
       "      <td>0.924370</td>\n",
       "      <td>1.0</td>\n",
       "      <td>0.419926</td>\n",
       "      <td>0.002658</td>\n",
       "      <td>0.003700</td>\n",
       "      <td>0.0</td>\n",
       "    </tr>\n",
       "    <tr>\n",
       "      <th>3</th>\n",
       "      <td>12.072193</td>\n",
       "      <td>0.039193</td>\n",
       "      <td>0.9224</td>\n",
       "      <td>1.0</td>\n",
       "      <td>0.0001</td>\n",
       "      <td>{'alpha': 0.0001}</td>\n",
       "      <td>3</td>\n",
       "      <td>0.915468</td>\n",
       "      <td>1.0</td>\n",
       "      <td>0.927371</td>\n",
       "      <td>1.0</td>\n",
       "      <td>0.924370</td>\n",
       "      <td>1.0</td>\n",
       "      <td>0.251711</td>\n",
       "      <td>0.004501</td>\n",
       "      <td>0.005056</td>\n",
       "      <td>0.0</td>\n",
       "    </tr>\n",
       "    <tr>\n",
       "      <th>4</th>\n",
       "      <td>11.996097</td>\n",
       "      <td>0.038193</td>\n",
       "      <td>0.9220</td>\n",
       "      <td>1.0</td>\n",
       "      <td>1e-05</td>\n",
       "      <td>{'alpha': 1e-05}</td>\n",
       "      <td>4</td>\n",
       "      <td>0.917866</td>\n",
       "      <td>1.0</td>\n",
       "      <td>0.926771</td>\n",
       "      <td>1.0</td>\n",
       "      <td>0.921369</td>\n",
       "      <td>1.0</td>\n",
       "      <td>0.410618</td>\n",
       "      <td>0.001248</td>\n",
       "      <td>0.003663</td>\n",
       "      <td>0.0</td>\n",
       "    </tr>\n",
       "    <tr>\n",
       "      <th>1</th>\n",
       "      <td>12.415628</td>\n",
       "      <td>0.037193</td>\n",
       "      <td>0.9216</td>\n",
       "      <td>1.0</td>\n",
       "      <td>0.01</td>\n",
       "      <td>{'alpha': 0.01}</td>\n",
       "      <td>5</td>\n",
       "      <td>0.918465</td>\n",
       "      <td>1.0</td>\n",
       "      <td>0.927371</td>\n",
       "      <td>1.0</td>\n",
       "      <td>0.918968</td>\n",
       "      <td>1.0</td>\n",
       "      <td>0.165631</td>\n",
       "      <td>0.001842</td>\n",
       "      <td>0.004085</td>\n",
       "      <td>0.0</td>\n",
       "    </tr>\n",
       "    <tr>\n",
       "      <th>0</th>\n",
       "      <td>35.979777</td>\n",
       "      <td>0.038527</td>\n",
       "      <td>0.9202</td>\n",
       "      <td>1.0</td>\n",
       "      <td>0.1</td>\n",
       "      <td>{'alpha': 0.1}</td>\n",
       "      <td>6</td>\n",
       "      <td>0.912470</td>\n",
       "      <td>1.0</td>\n",
       "      <td>0.926170</td>\n",
       "      <td>1.0</td>\n",
       "      <td>0.921969</td>\n",
       "      <td>1.0</td>\n",
       "      <td>1.754148</td>\n",
       "      <td>0.002043</td>\n",
       "      <td>0.005732</td>\n",
       "      <td>0.0</td>\n",
       "    </tr>\n",
       "  </tbody>\n",
       "</table>\n",
       "</div>"
      ],
      "text/plain": [
       "   mean_fit_time  mean_score_time  mean_test_score  mean_train_score  \\\n",
       "2      12.513455         0.041029           0.9238               1.0   \n",
       "5      10.959528         0.031857           0.9234               1.0   \n",
       "3      12.072193         0.039193           0.9224               1.0   \n",
       "4      11.996097         0.038193           0.9220               1.0   \n",
       "1      12.415628         0.037193           0.9216               1.0   \n",
       "0      35.979777         0.038527           0.9202               1.0   \n",
       "\n",
       "  param_alpha             params  rank_test_score  split0_test_score  \\\n",
       "2       0.001   {'alpha': 0.001}                1           0.918465   \n",
       "5       1e-06   {'alpha': 1e-06}                2           0.918465   \n",
       "3      0.0001  {'alpha': 0.0001}                3           0.915468   \n",
       "4       1e-05   {'alpha': 1e-05}                4           0.917866   \n",
       "1        0.01    {'alpha': 0.01}                5           0.918465   \n",
       "0         0.1     {'alpha': 0.1}                6           0.912470   \n",
       "\n",
       "   split0_train_score  split1_test_score  split1_train_score  \\\n",
       "2                 1.0           0.929172                 1.0   \n",
       "5                 1.0           0.927371                 1.0   \n",
       "3                 1.0           0.927371                 1.0   \n",
       "4                 1.0           0.926771                 1.0   \n",
       "1                 1.0           0.927371                 1.0   \n",
       "0                 1.0           0.926170                 1.0   \n",
       "\n",
       "   split2_test_score  split2_train_score  std_fit_time  std_score_time  \\\n",
       "2           0.923770                 1.0      0.470815        0.002124   \n",
       "5           0.924370                 1.0      0.419926        0.002658   \n",
       "3           0.924370                 1.0      0.251711        0.004501   \n",
       "4           0.921369                 1.0      0.410618        0.001248   \n",
       "1           0.918968                 1.0      0.165631        0.001842   \n",
       "0           0.921969                 1.0      1.754148        0.002043   \n",
       "\n",
       "   std_test_score  std_train_score  \n",
       "2        0.004371              0.0  \n",
       "5        0.003700              0.0  \n",
       "3        0.005056              0.0  \n",
       "4        0.003663              0.0  \n",
       "1        0.004085              0.0  \n",
       "0        0.005732              0.0  "
      ]
     },
     "execution_count": 27,
     "metadata": {},
     "output_type": "execute_result"
    }
   ],
   "source": [
    "parameters = {'alpha' : list(10.0 ** -np.arange(1, 7)) }\n",
    "\n",
    "clf_mlp = MLPClassifier(hidden_layer_sizes=(100,100), random_state=0)\n",
    "mlp = GridSearchCV(clf_mlp, parameters, n_jobs=-1)\n",
    "mlp.fit(X_train, y_train)\n",
    "\n",
    "results=pd.DataFrame(mlp.cv_results_)\n",
    "results.sort_values('mean_test_score', ascending = False)"
   ]
  },
  {
   "cell_type": "markdown",
   "metadata": {},
   "source": [
    "Let's use the model with the selected parameters to test its accuracy on the test set:"
   ]
  },
  {
   "cell_type": "code",
   "execution_count": 28,
   "metadata": {
    "collapsed": false
   },
   "outputs": [
    {
     "name": "stdout",
     "output_type": "stream",
     "text": [
      "MLPClassifier(activation='relu', alpha=0.001, batch_size='auto', beta_1=0.9,\n",
      "       beta_2=0.999, early_stopping=False, epsilon=1e-08,\n",
      "       hidden_layer_sizes=(100, 100), learning_rate='constant',\n",
      "       learning_rate_init=0.001, max_iter=200, momentum=0.9,\n",
      "       nesterovs_momentum=True, power_t=0.5, random_state=0, shuffle=True,\n",
      "       solver='adam', tol=0.0001, validation_fraction=0.1, verbose=False,\n",
      "       warm_start=False)\n",
      "MLP accuracy:  0.9202\n",
      "Wall time: 5.97 s\n"
     ]
    }
   ],
   "source": [
    "%%time\n",
    "\n",
    "clf_mlp = MLPClassifier(alpha=0.001, hidden_layer_sizes=(100,100), random_state=0)\n",
    "clf_mlp.fit(X_train, y_train)\n",
    "print(clf_mlp)\n",
    "y_pred_mlp = clf_mlp.predict(X_test)\n",
    "acc_mlp = accuracy_score(y_test, y_pred_mlp)\n",
    "print ('MLP accuracy: ',acc_mlp)"
   ]
  },
  {
   "cell_type": "markdown",
   "metadata": {},
   "source": [
    "The MLPC classifier gives a similar accuracy as KNN, but is a bit faster."
   ]
  },
  {
   "cell_type": "markdown",
   "metadata": {
    "collapsed": true
   },
   "source": [
    "## Convolutional Neural Network (CNN)"
   ]
  },
  {
   "cell_type": "markdown",
   "metadata": {},
   "source": [
    "Let's try out a Convolutional Neural Network (CNN) with Keras. I will use a model from this [tutorial](http://machinelearningmastery.com/handwritten-digit-recognition-using-convolutional-neural-networks-python-keras/) by Jason Brownlee. It has the following 9 layers:\n",
    "\n",
    "1. Convolutional layer with 30 feature maps of size 5×5. \n",
    "2. Pooling layer taking the max over 2*2 patches. \n",
    "3. Convolutional layer with 15 feature maps of size 3×3.\n",
    "4. Pooling layer taking the max over 2*2 patches.\n",
    "5. Dropout layer with a probability of 20%. \n",
    "6. Flatten layer. \n",
    "7. Fully connected layer with 128 neurons and rectifier activation. \n",
    "8. Fully connected layer with 50 neurons and rectifier activation. \n",
    "9. Output layer.\n",
    "\n",
    "Keras requires one hot encoding of the y labels:"
   ]
  },
  {
   "cell_type": "code",
   "execution_count": 29,
   "metadata": {
    "collapsed": false
   },
   "outputs": [],
   "source": [
    "# one hot encode outputs\n",
    "y_train_cnn = np_utils.to_categorical(y_train)\n",
    "y_test_cnn = np_utils.to_categorical(y_test)\n",
    "num_classes = y_test_cnn.shape[1]"
   ]
  },
  {
   "cell_type": "markdown",
   "metadata": {},
   "source": [
    "We also need to reshape the images to the original 28x28 shape, which gives the neural net additional information compared to a 784x1 vector."
   ]
  },
  {
   "cell_type": "code",
   "execution_count": 30,
   "metadata": {
    "collapsed": true
   },
   "outputs": [],
   "source": [
    "# reshape to be [samples][pixels][width][height]\n",
    "X_train_cnn = X_train.reshape(X_train.shape[0], 1, 28, 28).astype('float32')\n",
    "X_test_cnn = X_test.reshape(X_test.shape[0], 1, 28, 28).astype('float32')"
   ]
  },
  {
   "cell_type": "code",
   "execution_count": 31,
   "metadata": {
    "collapsed": true
   },
   "outputs": [],
   "source": [
    "# define the CNN model\n",
    "def cnn_model():\n",
    "    # create model\n",
    "    model = Sequential()\n",
    "    model.add(Conv2D(30, (5, 5), input_shape=(1, 28, 28), activation='relu'))\n",
    "    model.add(MaxPooling2D(pool_size=(2, 2)))\n",
    "    model.add(Conv2D(15, (3, 3), activation='relu'))\n",
    "    model.add(MaxPooling2D(pool_size=(2, 2)))\n",
    "    model.add(Dropout(0.2))\n",
    "    model.add(Flatten())\n",
    "    model.add(Dense(128, activation='relu'))\n",
    "    model.add(Dense(50, activation='relu'))\n",
    "    model.add(Dense(num_classes, activation='softmax'))\n",
    "    # Compile model\n",
    "    model.compile(loss='categorical_crossentropy', optimizer='adam', metrics=['accuracy'])\n",
    "    return model"
   ]
  },
  {
   "cell_type": "code",
   "execution_count": 32,
   "metadata": {
    "collapsed": false,
    "scrolled": true
   },
   "outputs": [
    {
     "name": "stdout",
     "output_type": "stream",
     "text": [
      "Train on 5000 samples, validate on 5000 samples\n",
      "Epoch 1/10\n",
      "5000/5000 [==============================] - 24s - loss: 0.5191 - acc: 0.7712 - val_loss: 0.3483 - val_acc: 0.8426\n",
      "Epoch 2/10\n",
      "5000/5000 [==============================] - 25s - loss: 0.2810 - acc: 0.8844 - val_loss: 0.2480 - val_acc: 0.9072\n",
      "Epoch 3/10\n",
      "5000/5000 [==============================] - 23s - loss: 0.2197 - acc: 0.9134 - val_loss: 0.2020 - val_acc: 0.9208\n",
      "Epoch 4/10\n",
      "5000/5000 [==============================] - 23s - loss: 0.1790 - acc: 0.9316 - val_loss: 0.1793 - val_acc: 0.9284\n",
      "Epoch 5/10\n",
      "5000/5000 [==============================] - 23s - loss: 0.1691 - acc: 0.9372 - val_loss: 0.1802 - val_acc: 0.9302\n",
      "Epoch 6/10\n",
      "5000/5000 [==============================] - 24s - loss: 0.1547 - acc: 0.9412 - val_loss: 0.1624 - val_acc: 0.9354\n",
      "Epoch 7/10\n",
      "5000/5000 [==============================] - 24s - loss: 0.1406 - acc: 0.9472 - val_loss: 0.1522 - val_acc: 0.9398\n",
      "Epoch 8/10\n",
      "5000/5000 [==============================] - 24s - loss: 0.1267 - acc: 0.9530 - val_loss: 0.1575 - val_acc: 0.9392\n",
      "Epoch 9/10\n",
      "5000/5000 [==============================] - 24s - loss: 0.1296 - acc: 0.9490 - val_loss: 0.1507 - val_acc: 0.9408\n",
      "Epoch 10/10\n",
      "5000/5000 [==============================] - 23s - loss: 0.1159 - acc: 0.9568 - val_loss: 0.1509 - val_acc: 0.9416\n",
      "Final CNN accuracy:  0.9416\n",
      "Wall time: 4min 10s\n"
     ]
    }
   ],
   "source": [
    "%%time\n",
    "\n",
    "np.random.seed(0)\n",
    "# build the model\n",
    "model_cnn = cnn_model()\n",
    "# Fit the model\n",
    "model_cnn.fit(X_train_cnn, y_train_cnn, validation_data=(X_test_cnn, y_test_cnn), epochs=10, batch_size=200)\n",
    "# Final evaluation of the model\n",
    "scores = model_cnn.evaluate(X_test_cnn, y_test_cnn, verbose=0)\n",
    "print('Final CNN accuracy: ', scores[1])"
   ]
  },
  {
   "cell_type": "markdown",
   "metadata": {},
   "source": [
    "As expected for an image classification task, the CNN has a very high accuracy with over 94%. But it also required the longest training time."
   ]
  },
  {
   "cell_type": "markdown",
   "metadata": {
    "collapsed": true
   },
   "source": [
    "## Comparing different methods"
   ]
  },
  {
   "cell_type": "markdown",
   "metadata": {},
   "source": [
    "Next, I will compare the most promising algorithms using different numbers of training examples."
   ]
  },
  {
   "cell_type": "code",
   "execution_count": 33,
   "metadata": {
    "collapsed": false
   },
   "outputs": [
    {
     "name": "stdout",
     "output_type": "stream",
     "text": [
      "Wall time: 34min 55s\n"
     ]
    }
   ],
   "source": [
    "%%time\n",
    "\n",
    "np.random.seed(0)\n",
    "\n",
    "N_train = [500, 2000, 5000, 10000, 15000] # the number of training examples to be used\n",
    "acc_scores = pd.DataFrame()\n",
    "\n",
    "for i in N_train:\n",
    "    # preprocessing as before with different sample sizes:\n",
    "    X = np.concatenate((cat[:i,:-1], sheep[:i,:-1]), axis=0).astype('float32') \n",
    "    y = np.concatenate((cat[:i,-1], sheep[:i,-1]), axis=0).astype('float32') \n",
    "    X_train, X_test, y_train, y_test = train_test_split(X/255.,y,test_size=0.5,random_state=0)\n",
    "    \n",
    "    # run the different scikit-learn models:\n",
    "    clf_rf = RandomForestClassifier(n_estimators=100, n_jobs=-1)\n",
    "    clf_rf.fit(X_train, y_train)\n",
    "    acc_rf = clf_rf.score(X_test,y_test)\n",
    "    acc_scores.set_value('RF', i, acc_rf)\n",
    "    \n",
    "    clf_knn = KNeighborsClassifier(n_jobs=-1)\n",
    "    clf_knn.fit(X_train, y_train)\n",
    "    acc_knn = clf_knn.score(X_test,y_test)\n",
    "    acc_scores.set_value('KNN', i, acc_knn)\n",
    "\n",
    "    clf_mlp = MLPClassifier(alpha=0.001, hidden_layer_sizes=(50,50))\n",
    "    clf_mlp.fit(X_train, y_train)\n",
    "    acc_mlp = clf_mlp.score(X_test,y_test)\n",
    "    acc_scores.set_value('MLP', i, acc_mlp)\n",
    "    \n",
    "    \n",
    "    # preprocessing for keras:\n",
    "    y_train_cnn = np_utils.to_categorical(y_train)\n",
    "    y_test_cnn = np_utils.to_categorical(y_test)\n",
    "    num_classes = y_test_cnn.shape[1]\n",
    "    X_train_cnn = X_train.reshape(X_train.shape[0], 1, 28, 28).astype('float32')\n",
    "    X_test_cnn = X_test.reshape(X_test.shape[0], 1, 28, 28).astype('float32')\n",
    "    \n",
    "    # run the keras model:\n",
    "    model = cnn_model()\n",
    "    model.fit(X_train_cnn, y_train_cnn, validation_data=(X_test_cnn, y_test_cnn), epochs=10, batch_size=200, verbose=0)\n",
    "    scores = model.evaluate(X_test_cnn, y_test_cnn, verbose=0)\n",
    "    acc_scores.set_value('CNN', i, scores[1])\n",
    "    "
   ]
  },
  {
   "cell_type": "code",
   "execution_count": 34,
   "metadata": {
    "collapsed": false
   },
   "outputs": [
    {
     "data": {
      "text/html": [
       "<div>\n",
       "<table border=\"1\" class=\"dataframe\">\n",
       "  <thead>\n",
       "    <tr style=\"text-align: right;\">\n",
       "      <th></th>\n",
       "      <th>500</th>\n",
       "      <th>2000</th>\n",
       "      <th>5000</th>\n",
       "      <th>10000</th>\n",
       "      <th>15000</th>\n",
       "    </tr>\n",
       "  </thead>\n",
       "  <tbody>\n",
       "    <tr>\n",
       "      <th>RF</th>\n",
       "      <td>0.868</td>\n",
       "      <td>0.9030</td>\n",
       "      <td>0.8992</td>\n",
       "      <td>0.9210</td>\n",
       "      <td>0.926867</td>\n",
       "    </tr>\n",
       "    <tr>\n",
       "      <th>KNN</th>\n",
       "      <td>0.862</td>\n",
       "      <td>0.9060</td>\n",
       "      <td>0.9218</td>\n",
       "      <td>0.9322</td>\n",
       "      <td>0.936400</td>\n",
       "    </tr>\n",
       "    <tr>\n",
       "      <th>MLP</th>\n",
       "      <td>0.860</td>\n",
       "      <td>0.8945</td>\n",
       "      <td>0.9140</td>\n",
       "      <td>0.9299</td>\n",
       "      <td>0.932933</td>\n",
       "    </tr>\n",
       "    <tr>\n",
       "      <th>CNN</th>\n",
       "      <td>0.892</td>\n",
       "      <td>0.9315</td>\n",
       "      <td>0.9392</td>\n",
       "      <td>0.9560</td>\n",
       "      <td>0.964200</td>\n",
       "    </tr>\n",
       "  </tbody>\n",
       "</table>\n",
       "</div>"
      ],
      "text/plain": [
       "     500     2000    5000    10000     15000\n",
       "RF   0.868  0.9030  0.8992  0.9210  0.926867\n",
       "KNN  0.862  0.9060  0.9218  0.9322  0.936400\n",
       "MLP  0.860  0.8945  0.9140  0.9299  0.932933\n",
       "CNN  0.892  0.9315  0.9392  0.9560  0.964200"
      ]
     },
     "execution_count": 34,
     "metadata": {},
     "output_type": "execute_result"
    }
   ],
   "source": [
    "acc_scores"
   ]
  },
  {
   "cell_type": "code",
   "execution_count": 35,
   "metadata": {
    "collapsed": false,
    "scrolled": true
   },
   "outputs": [
    {
     "data": {
      "image/png": "[encoded data removed]",
      "text/plain": [
       "<matplotlib.figure.Figure at 0x2aa8015da90>"
      ]
     },
     "metadata": {},
     "output_type": "display_data"
    }
   ],
   "source": [
    "acc_scores.transpose().plot(xticks=list(acc_scores), xlim=(0,15000), marker='o', title='Classifiction accuracy of algorithms\\n');\n",
    "plt.xlabel('# of training examples');\n",
    "plt.ylabel('accuracy [%]');"
   ]
  },
  {
   "cell_type": "markdown",
   "metadata": {},
   "source": [
    "## Evaluation metrics of the CNN model"
   ]
  },
  {
   "cell_type": "markdown",
   "metadata": {},
   "source": [
    "I will look at some evaluation metrics of the best performing CNN model. The fitted model is still stored in the workspace, but we also need to save the predictions on the test set:"
   ]
  },
  {
   "cell_type": "code",
   "execution_count": 36,
   "metadata": {
    "collapsed": true
   },
   "outputs": [],
   "source": [
    "y_pred_cnn = model.predict_classes(X_test_cnn, verbose=0)"
   ]
  },
  {
   "cell_type": "code",
   "execution_count": 37,
   "metadata": {
    "collapsed": false
   },
   "outputs": [
    {
     "name": "stdout",
     "output_type": "stream",
     "text": [
      "CNN accuracy:  0.9642\n"
     ]
    }
   ],
   "source": [
    "acc_cnn = accuracy_score(y_test, y_pred_cnn)\n",
    "print ('CNN accuracy: ',acc_cnn)"
   ]
  },
  {
   "cell_type": "markdown",
   "metadata": {},
   "source": [
    "I have run this script several times, and the accuracy varies around 96% due to the randomness during the fitting of the model.\n",
    "\n",
    "The confusion matrix shows how many predctions were right and wrong, and what types of error were made (again, the results could differ if you rerun the script):"
   ]
  },
  {
   "cell_type": "code",
   "execution_count": 38,
   "metadata": {
    "collapsed": false
   },
   "outputs": [
    {
     "name": "stdout",
     "output_type": "stream",
     "text": [
      "Confusion matrix, without normalization\n",
      "[[7253  244]\n",
      " [ 293 7210]]\n"
     ]
    },
    {
     "data": {
      "image/png": "[encoded data removed]",
      "text/plain": [
       "<matplotlib.figure.Figure at 0x2aa80968400>"
      ]
     },
     "metadata": {},
     "output_type": "display_data"
    }
   ],
   "source": [
    "# Compute confusion matrix\n",
    "cnf_matrix = confusion_matrix(y_test, y_pred_cnn)\n",
    "np.set_printoptions(precision=2)\n",
    "\n",
    "# Plot non-normalized confusion matrix\n",
    "plt.figure()\n",
    "plot_confusion_matrix(cnf_matrix, classes=['cat','sheep'],\n",
    "                      title='Confusion matrix, without normalization')\n",
    "\n",
    "plt.show()"
   ]
  },
  {
   "cell_type": "markdown",
   "metadata": {},
   "source": [
    "To see some of the images that were misclassified, I will select them:"
   ]
  },
  {
   "cell_type": "code",
   "execution_count": 39,
   "metadata": {
    "collapsed": true
   },
   "outputs": [],
   "source": [
    "sheep_not_cats = X_test[y_test > y_pred_cnn] # true: 1 (sheep), predicted: 0 (cat)\n",
    "cats_not_sheep = X_test[y_test < y_pred_cnn] # true: 0 (cat), predicted: 1 (sheep)"
   ]
  },
  {
   "cell_type": "code",
   "execution_count": 40,
   "metadata": {
    "collapsed": false
   },
   "outputs": [
    {
     "data": {
      "image/png": "[encoded data removed]",
      "text/plain": [
       "<matplotlib.figure.Figure at 0x2aaf98e5710>"
      ]
     },
     "metadata": {},
     "output_type": "display_data"
    }
   ],
   "source": [
    "plot_samples(sheep_not_cats, title = 'Sheep drawings that were classified as cats\\n')"
   ]
  },
  {
   "cell_type": "code",
   "execution_count": 41,
   "metadata": {
    "collapsed": false,
    "scrolled": true
   },
   "outputs": [
    {
     "data": {
      "image/png": "[encoded data removed]",
      "text/plain": [
       "<matplotlib.figure.Figure at 0x2aaf6b95cc0>"
      ]
     },
     "metadata": {},
     "output_type": "display_data"
    }
   ],
   "source": [
    "plot_samples(cats_not_sheep, title = 'Cat drawings that were classified as sheep\\n')"
   ]
  },
  {
   "cell_type": "markdown",
   "metadata": {},
   "source": [
    "Most of these drawings are really hard to classify, while some seem possible. But I \"only\" trained the CNN on 7'500 of the over 120'000 available examples per category. Thus, training on a significantly larger training set is possible and would certainly increase accuracy.\n",
    "\n",
    "As a further evaluation of the classifier, I will draw the [ROC curve](https://en.wikipedia.org/wiki/Receiver_operating_characteristic) and calculate the Area Under the Curve (AUC):"
   ]
  },
  {
   "cell_type": "code",
   "execution_count": 42,
   "metadata": {
    "collapsed": false
   },
   "outputs": [],
   "source": [
    "# store the predicted probabilities for class 1 (sheep)\n",
    "y_pred_prob = model.predict_proba(X_test_cnn, verbose=0)[:, 1]\n",
    "\n",
    "fpr, tpr, thresholds = roc_curve(y_test, y_pred_prob)"
   ]
  },
  {
   "cell_type": "code",
   "execution_count": 43,
   "metadata": {
    "collapsed": false
   },
   "outputs": [
    {
     "data": {
      "image/png": "[encoded data removed]",
      "text/plain": [
       "<matplotlib.figure.Figure at 0x2aae92b46d8>"
      ]
     },
     "metadata": {},
     "output_type": "display_data"
    }
   ],
   "source": [
    "plt.plot(fpr, tpr)\n",
    "plt.xlim([0, 1])\n",
    "plt.ylim([0, 1])\n",
    "plt.title('ROC curve for cat/sheep classifier')\n",
    "plt.xlabel('False Positive Rate (1 - Specificity)')\n",
    "plt.ylabel('True Positive Rate (Sensitivity)')\n",
    "plt.grid(True)"
   ]
  },
  {
   "cell_type": "code",
   "execution_count": 44,
   "metadata": {
    "collapsed": false
   },
   "outputs": [
    {
     "data": {
      "text/plain": [
       "0.99416554573315408"
      ]
     },
     "execution_count": 44,
     "metadata": {},
     "output_type": "execute_result"
    }
   ],
   "source": [
    "# calculate AUC score:\n",
    "roc_auc_score(y_test, y_pred_prob)"
   ]
  },
  {
   "cell_type": "markdown",
   "metadata": {},
   "source": [
    "The AUC score is very good, over 99%."
   ]
  },
  {
   "cell_type": "markdown",
   "metadata": {
    "collapsed": true
   },
   "source": [
    "## Multi-class Classification"
   ]
  },
  {
   "cell_type": "markdown",
   "metadata": {},
   "source": [
    "Now let's make the classification a bit more difficult by comparing 5 classes:"
   ]
  },
  {
   "cell_type": "code",
   "execution_count": 45,
   "metadata": {
    "collapsed": false
   },
   "outputs": [],
   "source": [
    "# load the data\n",
    "dog = np.load('data/dog.npy')\n",
    "octopus = np.load('data/octopus.npy')\n",
    "bee = np.load('data/bee.npy')\n",
    "hedgehog = np.load('data/hedgehog.npy')\n",
    "giraffe = np.load('data/giraffe.npy')"
   ]
  },
  {
   "cell_type": "markdown",
   "metadata": {},
   "source": [
    "The data preprocessing is similar as in the case for 2 classes:"
   ]
  },
  {
   "cell_type": "code",
   "execution_count": 46,
   "metadata": {
    "collapsed": false
   },
   "outputs": [
    {
     "name": "stdout",
     "output_type": "stream",
     "text": [
      "(152159, 785)\n",
      "(150152, 785)\n",
      "(120890, 785)\n",
      "(120527, 785)\n",
      "(127182, 785)\n"
     ]
    }
   ],
   "source": [
    "# add a column with labels\n",
    "dog = np.c_[dog, np.zeros(len(dog))]\n",
    "octopus = np.c_[octopus, np.ones(len(octopus))]\n",
    "bee = np.c_[bee, 2*np.ones(len(bee))]\n",
    "hedgehog = np.c_[hedgehog, 3*np.ones(len(hedgehog))]\n",
    "giraffe = np.c_[giraffe, 4*np.ones(len(giraffe))]\n",
    "\n",
    "# store the label codes in a dictionary\n",
    "label_dict = {0:'dog', 1:'octopus', 2:'bee', 3:'hedgehog', 4:'giraffe'}\n",
    "\n",
    "print(dog.shape)\n",
    "print(octopus.shape)\n",
    "print(bee.shape)\n",
    "print(hedgehog.shape)\n",
    "print(giraffe.shape)"
   ]
  },
  {
   "cell_type": "markdown",
   "metadata": {},
   "source": [
    "Create the matrices for scikit-learn (5'000 images per class):"
   ]
  },
  {
   "cell_type": "code",
   "execution_count": 47,
   "metadata": {
    "collapsed": false
   },
   "outputs": [],
   "source": [
    "X = np.concatenate((dog[:5000,:-1], octopus[:5000,:-1], bee[:5000,:-1], hedgehog[:5000,:-1], giraffe[:5000,:-1]), axis=0).astype('float32') # all columns but the last\n",
    "y = np.concatenate((dog[:5000,-1], octopus[:5000,-1], bee[:5000,-1], hedgehog[:5000,-1], giraffe[:5000,-1]), axis=0).astype('float32') # the last column\n",
    "\n",
    "X_train, X_test, y_train, y_test = train_test_split(X/255.,y,test_size=0.5,random_state=0)"
   ]
  },
  {
   "cell_type": "markdown",
   "metadata": {},
   "source": [
    "Use different scikit-learn algorithms to make predictions:"
   ]
  },
  {
   "cell_type": "code",
   "execution_count": 48,
   "metadata": {
    "collapsed": false
   },
   "outputs": [
    {
     "name": "stdout",
     "output_type": "stream",
     "text": [
      "random forest accuracy:  0.79104\n",
      "Wall time: 8.7 s\n"
     ]
    }
   ],
   "source": [
    "%%time\n",
    "\n",
    "clf_rf = RandomForestClassifier(n_estimators=100, n_jobs=-1, random_state=0)\n",
    "clf_rf.fit(X_train, y_train)\n",
    "y_pred_rf = clf_rf.predict(X_test)\n",
    "acc_rf = accuracy_score(y_test, y_pred_rf)\n",
    "print ('random forest accuracy: ',acc_rf)"
   ]
  },
  {
   "cell_type": "code",
   "execution_count": 49,
   "metadata": {
    "collapsed": false
   },
   "outputs": [
    {
     "name": "stdout",
     "output_type": "stream",
     "text": [
      "KNN accuracy:  0.8236\n",
      "Wall time: 1min 40s\n"
     ]
    }
   ],
   "source": [
    "%%time \n",
    "\n",
    "clf_knn = KNeighborsClassifier(n_jobs=-1)\n",
    "clf_knn.fit(X_train, y_train)\n",
    "y_pred_knn = clf_knn.predict(X_test)\n",
    "acc_knn = accuracy_score(y_test, y_pred_knn)\n",
    "print ('KNN accuracy: ',acc_knn)"
   ]
  },
  {
   "cell_type": "code",
   "execution_count": 50,
   "metadata": {
    "collapsed": false
   },
   "outputs": [
    {
     "name": "stdout",
     "output_type": "stream",
     "text": [
      "mlp accuracy:  0.81176\n",
      "Wall time: 35 s\n"
     ]
    }
   ],
   "source": [
    "%%time\n",
    "\n",
    "clf_mlp = MLPClassifier(alpha=0.001, hidden_layer_sizes=(100,100), random_state=0)\n",
    "clf_mlp.fit(X_train, y_train)\n",
    "y_pred_mlp = clf_mlp.predict(X_test)\n",
    "acc_mlp = accuracy_score(y_test, y_pred_mlp)\n",
    "print ('mlp accuracy: ',acc_mlp)"
   ]
  },
  {
   "cell_type": "markdown",
   "metadata": {
    "collapsed": true
   },
   "source": [
    "Preprocessing for Keras:"
   ]
  },
  {
   "cell_type": "code",
   "execution_count": 51,
   "metadata": {
    "collapsed": true
   },
   "outputs": [],
   "source": [
    "# one hot encode outputs\n",
    "y_train_cnn = np_utils.to_categorical(y_train)\n",
    "y_test_cnn = np_utils.to_categorical(y_test)\n",
    "num_classes = y_test_cnn.shape[1]"
   ]
  },
  {
   "cell_type": "code",
   "execution_count": 52,
   "metadata": {
    "collapsed": true
   },
   "outputs": [],
   "source": [
    "# reshape to be [samples][pixels][width][height]\n",
    "X_train_cnn = X_train.reshape(X_train.shape[0], 1, 28, 28).astype('float32')\n",
    "X_test_cnn = X_test.reshape(X_test.shape[0], 1, 28, 28).astype('float32')"
   ]
  },
  {
   "cell_type": "code",
   "execution_count": 53,
   "metadata": {
    "collapsed": false
   },
   "outputs": [
    {
     "name": "stdout",
     "output_type": "stream",
     "text": [
      "Train on 12500 samples, validate on 12500 samples\n",
      "Epoch 1/10\n",
      "12500/12500 [==============================] - 66s - loss: 1.0823 - acc: 0.5662 - val_loss: 0.6821 - val_acc: 0.7490\n",
      "Epoch 2/10\n",
      "12500/12500 [==============================] - 72s - loss: 0.6352 - acc: 0.7742 - val_loss: 0.5268 - val_acc: 0.8140\n",
      "Epoch 3/10\n",
      "12500/12500 [==============================] - 66s - loss: 0.5167 - acc: 0.8202 - val_loss: 0.4372 - val_acc: 0.8524\n",
      "Epoch 4/10\n",
      "12500/12500 [==============================] - 62s - loss: 0.4612 - acc: 0.8410 - val_loss: 0.3947 - val_acc: 0.8688\n",
      "Epoch 5/10\n",
      "12500/12500 [==============================] - 60s - loss: 0.4161 - acc: 0.8576 - val_loss: 0.3731 - val_acc: 0.8786\n",
      "Epoch 6/10\n",
      "12500/12500 [==============================] - 60s - loss: 0.3812 - acc: 0.8710 - val_loss: 0.3428 - val_acc: 0.8908\n",
      "Epoch 7/10\n",
      "12500/12500 [==============================] - 60s - loss: 0.3585 - acc: 0.8773 - val_loss: 0.3245 - val_acc: 0.8968\n",
      "Epoch 8/10\n",
      "12500/12500 [==============================] - 60s - loss: 0.3421 - acc: 0.8842 - val_loss: 0.3159 - val_acc: 0.8985\n",
      "Epoch 9/10\n",
      "12500/12500 [==============================] - 60s - loss: 0.3216 - acc: 0.8925 - val_loss: 0.3240 - val_acc: 0.8960\n",
      "Epoch 10/10\n",
      "12500/12500 [==============================] - 60s - loss: 0.3023 - acc: 0.8985 - val_loss: 0.2982 - val_acc: 0.9029\n",
      "Final CNN accuracy:  0.90288\n",
      "Wall time: 10min 53s\n"
     ]
    }
   ],
   "source": [
    "%%time\n",
    "\n",
    "# build the model\n",
    "model = cnn_model()\n",
    "# Fit the model\n",
    "model.fit(X_train_cnn, y_train_cnn, validation_data=(X_test_cnn, y_test_cnn), epochs=10, batch_size=200)\n",
    "# Final evaluation of the model\n",
    "scores = model.evaluate(X_test_cnn, y_test_cnn, verbose=0)\n",
    "print('Final CNN accuracy: ', scores[1])"
   ]
  },
  {
   "cell_type": "markdown",
   "metadata": {},
   "source": [
    "Again, the CNN with Keras performed best.\n",
    "\n",
    "Let's take a look at the predictions of the CNN:"
   ]
  },
  {
   "cell_type": "code",
   "execution_count": 54,
   "metadata": {
    "collapsed": false
   },
   "outputs": [
    {
     "name": "stdout",
     "output_type": "stream",
     "text": [
      "CNN accuracy:  0.90288\n"
     ]
    }
   ],
   "source": [
    "y_pred_cnn = model.predict_classes(X_test_cnn, batch_size=32, verbose=0)\n",
    "acc_cnn = accuracy_score(y_test, y_pred_cnn)\n",
    "print ('CNN accuracy: ',acc_cnn)"
   ]
  },
  {
   "cell_type": "code",
   "execution_count": 55,
   "metadata": {
    "collapsed": false
   },
   "outputs": [
    {
     "name": "stdout",
     "output_type": "stream",
     "text": [
      "Confusion matrix, without normalization\n",
      "[[2257   55   73   60   48]\n",
      " [  87 2327   63   38   16]\n",
      " [ 181   71 2131   92   17]\n",
      " [ 125   23  105 2220    9]\n",
      " [ 105   21   15   10 2351]]\n"
     ]
    },
    {
     "data": {
      "image/png": "[encoded data removed]",
      "text/plain": [
       "<matplotlib.figure.Figure at 0x2aae930b080>"
      ]
     },
     "metadata": {},
     "output_type": "display_data"
    }
   ],
   "source": [
    "# Compute confusion matrix\n",
    "cnf_matrix = confusion_matrix(y_test, y_pred_cnn)\n",
    "np.set_printoptions(precision=2)\n",
    "\n",
    "# Plot non-normalized confusion matrix\n",
    "plt.figure()\n",
    "plot_confusion_matrix(cnf_matrix, classes=['dog','octopus','bee','hedgehog','giraffe'],\n",
    "                      title='Confusion matrix, without normalization')\n",
    "\n",
    "plt.show()"
   ]
  },
  {
   "cell_type": "markdown",
   "metadata": {},
   "source": [
    "Let's see what probabilities were predicted by the model:"
   ]
  },
  {
   "cell_type": "code",
   "execution_count": 56,
   "metadata": {
    "collapsed": false
   },
   "outputs": [
    {
     "data": {
      "image/png": "[encoded data removed]",
      "text/plain": [
       "<matplotlib.figure.Figure at 0x2aae996c710>"
      ]
     },
     "metadata": {},
     "output_type": "display_data"
    }
   ],
   "source": [
    "cnn_probab = model.predict(X_test_cnn, batch_size=32, verbose=0)\n",
    "\n",
    "# extract the probability for the label that was predicted:\n",
    "p_max = np.amax(cnn_probab, axis=1)\n",
    "\n",
    "plt.hist(p_max, normed=True, bins=list(np.linspace(0,1,11)));\n",
    "plt.xlabel('p of predicted class');"
   ]
  },
  {
   "cell_type": "markdown",
   "metadata": {},
   "source": [
    "For about 70% of the pictures, the CNN predicted the label with > 90% certainty.\n",
    "\n",
    "If the predictions of the CNN are well calibrated, the average prediction certainty should be equal to the accuracy (90%), which is indeed the case:"
   ]
  },
  {
   "cell_type": "code",
   "execution_count": 57,
   "metadata": {
    "collapsed": false
   },
   "outputs": [
    {
     "data": {
      "text/plain": [
       "0.90004683"
      ]
     },
     "execution_count": 57,
     "metadata": {},
     "output_type": "execute_result"
    }
   ],
   "source": [
    "np.mean(p_max)"
   ]
  },
  {
   "cell_type": "markdown",
   "metadata": {},
   "source": [
    "The lowest certainty of a prediction is about 25%:"
   ]
  },
  {
   "cell_type": "code",
   "execution_count": 58,
   "metadata": {
    "collapsed": false
   },
   "outputs": [
    {
     "data": {
      "text/plain": [
       "0.24437894"
      ]
     },
     "execution_count": 58,
     "metadata": {},
     "output_type": "execute_result"
    }
   ],
   "source": [
    "np.amin(p_max)"
   ]
  },
  {
   "cell_type": "markdown",
   "metadata": {},
   "source": [
    "Let's take a look at some predictions in detail:"
   ]
  },
  {
   "cell_type": "code",
   "execution_count": 59,
   "metadata": {
    "collapsed": false
   },
   "outputs": [
    {
     "data": {
      "image/png": "[encoded data removed]",
      "text/plain": [
       "<matplotlib.figure.Figure at 0x2aa88017b70>"
      ]
     },
     "metadata": {},
     "output_type": "display_data"
    }
   ],
   "source": [
    "fig, ax = plt.subplots(figsize=(6,15))\n",
    "\n",
    "for i in list(range(10)):\n",
    "\n",
    "    # plot probabilities:\n",
    "    ax = plt.subplot2grid((10, 5), (i, 0), colspan=4);\n",
    "    plt.bar(np.arange(5), cnn_probab[i], 0.35, align='center');\n",
    "    plt.xticks(np.arange(5), ['dog','octopus','bee','hedgehog','giraffe'])\n",
    "    plt.tick_params(axis='x', bottom='off', top='off')\n",
    "    plt.ylabel('Probability')\n",
    "    plt.ylim(0,1)\n",
    "    plt.subplots_adjust(hspace = 0.5)\n",
    "\n",
    "    # plot picture:\n",
    "    ax = plt.subplot2grid((10, 5), (i, 4));\n",
    "    plt.imshow(X_test[i].reshape((28,28)),cmap='gray_r', interpolation='nearest');\n",
    "    plt.xlabel(label_dict[y_test[i]]); # get the label from the dict\n",
    "    plt.xticks([])\n",
    "    plt.yticks([])"
   ]
  },
  {
   "cell_type": "markdown",
   "metadata": {},
   "source": [
    "Let's take a look at some pictures where the CNN was very unsure about the label by filtering with [p_max<0.4]:"
   ]
  },
  {
   "cell_type": "code",
   "execution_count": 60,
   "metadata": {
    "collapsed": false,
    "scrolled": false
   },
   "outputs": [
    {
     "data": {
      "image/png": "[encoded data removed]",
      "text/plain": [
       "<matplotlib.figure.Figure at 0x2aa8871c860>"
      ]
     },
     "metadata": {},
     "output_type": "display_data"
    }
   ],
   "source": [
    "fig, ax = plt.subplots(figsize=(6,15))\n",
    "\n",
    "for i in list(range(10)):\n",
    "    \n",
    "    # plot probabilities:\n",
    "    ax = plt.subplot2grid((10, 5), (i, 0), colspan=4);\n",
    "    plt.bar(np.arange(5), cnn_probab[p_max<0.4][i], 0.35, align='center');\n",
    "    plt.xticks(np.arange(5), ['dog','octopus','bee','hedgehog','giraffe'])\n",
    "    plt.tick_params(axis='x', bottom='off', top='off')\n",
    "    plt.ylabel('Probability')\n",
    "    plt.ylim(0,1)\n",
    "    plt.subplots_adjust(hspace = 0.5)\n",
    "\n",
    "    # plot picture:\n",
    "    ax = plt.subplot2grid((10, 5), (i, 4));\n",
    "    plt.imshow(X_test[p_max<0.4][i].reshape((28,28)),cmap='gray_r', interpolation='nearest');\n",
    "    plt.xlabel(label_dict[y_test[p_max<0.4][i]]); # get the label from the dict\n",
    "    plt.xticks([])\n",
    "    plt.yticks([])"
   ]
  },
  {
   "cell_type": "markdown",
   "metadata": {},
   "source": [
    "It seems that there is still some room for improvement. Notably, I have used just about 2% of the pictures for training. By increasing that number, big increases in accuracy would certainly be possible."
   ]
  }
 ],
 "metadata": {
  "anaconda-cloud": {},
  "kernelspec": {
   "display_name": "Python [Root]",
   "language": "python",
   "name": "Python [Root]"
  },
  "language_info": {
   "codemirror_mode": {
    "name": "ipython",
    "version": 3
   },
   "file_extension": ".py",
   "mimetype": "text/x-python",
   "name": "python",
   "nbconvert_exporter": "python",
   "pygments_lexer": "ipython3",
   "version": "3.5.2"
  }
 },
 "nbformat": 4,
 "nbformat_minor": 0
}
